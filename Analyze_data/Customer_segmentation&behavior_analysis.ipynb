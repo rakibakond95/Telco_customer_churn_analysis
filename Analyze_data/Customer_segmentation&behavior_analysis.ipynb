{
 "cells": [
  {
   "cell_type": "markdown",
   "id": "d944b467",
   "metadata": {},
   "source": [
    "#### What will we do in this section:\n",
    "Adaptations for Telco Dataset:\n",
    "\n",
    "Recency (R): Inverted tenure (higher score for recent customers, as low tenure = higher churn risk from EDA).\n",
    "\n",
    "Frequency (F): TotalServices (number of add-ons, proxy for engagement).\n",
    "\n",
    "Monetary (M): TotalCharges (lifetime spend).\n",
    "\n",
    "Rule-Based: Use EDA factors (e.g., contract type, payment method) for churn-risk segments. #####\n"
   ]
  },
  {
   "cell_type": "markdown",
   "id": "47aa9a05",
   "metadata": {},
   "source": [
    "#### Import essential libraries"
   ]
  },
  {
   "cell_type": "code",
   "execution_count": 88,
   "id": "dde9c375",
   "metadata": {},
   "outputs": [
    {
     "name": "stdout",
     "output_type": "stream",
     "text": [
      "Recency\n",
      "(0.0, 6.0]      53.333333\n",
      "(6.0, 12.0]     35.886525\n",
      "(12.0, 24.0]    28.710938\n",
      "(24.0, 36.0]    21.634615\n",
      "(36.0, 73.0]    11.929357\n",
      "Name: ChurnBinary, dtype: float64\n"
     ]
    },
    {
     "name": "stderr",
     "output_type": "stream",
     "text": [
      "C:\\Users\\rakib\\AppData\\Local\\Temp\\ipykernel_10048\\106388242.py:16: FutureWarning: The default of observed=False is deprecated and will be changed to True in a future version of pandas. Pass observed=False to retain current behavior or observed=True to adopt the future default and silence this warning.\n",
      "  print(telco.groupby(pd.cut(telco['Recency'], bins=bins))['ChurnBinary'].mean() * 100)\n"
     ]
    }
   ],
   "source": [
    "import pandas as pd\n",
    "import matplotlib.pyplot as plt\n",
    "import numpy as np\n",
    "import seaborn as sns\n",
    "\n",
    "# Load cleaned data\n",
    "telco = pd.read_csv('../data/telco_customer_churn_cleaned.csv')\n",
    "\n",
    "# Recalculate RFM\n",
    "telco['Recency'] = telco['tenure']\n",
    "telco['Frequency'] = telco['TotalServices']\n",
    "telco['Monetary'] = telco['TotalCharges']\n",
    "\n",
    "# Check churn by Recency bins\n",
    "bins = [0, 6, 12, 24, 36, telco['tenure'].max() + 1]\n",
    "print(telco.groupby(pd.cut(telco['Recency'], bins=bins))['ChurnBinary'].mean() * 100)"
   ]
  },
  {
   "cell_type": "code",
   "execution_count": 89,
   "id": "633c0da1",
   "metadata": {},
   "outputs": [
    {
     "name": "stdout",
     "output_type": "stream",
     "text": [
      "R_Score\n",
      "1    56.214689\n",
      "2    44.630072\n",
      "3    35.886525\n",
      "4    28.710938\n",
      "5    14.036003\n",
      "Name: ChurnBinary, dtype: float64\n"
     ]
    },
    {
     "name": "stderr",
     "output_type": "stream",
     "text": [
      "C:\\Users\\rakib\\AppData\\Local\\Temp\\ipykernel_10048\\4256142196.py:5: FutureWarning: The default of observed=False is deprecated and will be changed to True in a future version of pandas. Pass observed=False to retain current behavior or observed=True to adopt the future default and silence this warning.\n",
      "  print(telco.groupby('R_Score')['ChurnBinary'].mean() * 100)\n"
     ]
    }
   ],
   "source": [
    "# Finer bins\n",
    "bins = [0, 3, 6, 12, 24, telco['tenure'].max() + 1]\n",
    "labels = [1, 2, 3, 4, 5]\n",
    "telco['R_Score'] = pd.cut(telco['Recency'], bins=bins, labels=labels, include_lowest=True)\n",
    "print(telco.groupby('R_Score')['ChurnBinary'].mean() * 100)"
   ]
  },
  {
   "cell_type": "code",
   "execution_count": 90,
   "id": "b7cdeb48",
   "metadata": {},
   "outputs": [
    {
     "name": "stderr",
     "output_type": "stream",
     "text": [
      "C:\\Users\\rakib\\AppData\\Local\\Temp\\ipykernel_10048\\1670650162.py:2: FutureWarning: The default of observed=False is deprecated and will be changed to True in a future version of pandas. Pass observed=False to retain current behavior or observed=True to adopt the future default and silence this warning.\n",
      "  (telco.groupby('R_Score')['ChurnBinary'].mean() * 100).plot(kind='bar', edgecolor='black')\n"
     ]
    },
    {
     "data": {
      "image/png": "[encoded data removed]",
      "text/plain": [
       "<Figure size 800x400 with 1 Axes>"
      ]
     },
     "metadata": {},
     "output_type": "display_data"
    }
   ],
   "source": [
    "plt.figure(figsize=(8,4))\n",
    "(telco.groupby('R_Score')['ChurnBinary'].mean() * 100).plot(kind='bar', edgecolor='black')\n",
    "plt.title('Churn Rate by Recency Score'); plt.ylabel('Churn Rate (%)')\n",
    "plt.savefig('../assets/r_score_churn.png'); plt.show()"
   ]
  },
  {
   "cell_type": "markdown",
   "id": "f14abdc6",
   "metadata": {},
   "source": [
    "## Let's Prepare RFM Metrics\n",
    "\n",
    "Why? calculate RFM with corrected Recency to ensure low tenure = high risk, aligning with EDA (~60% churn for tenure <12 months)."
   ]
  },
  {
   "cell_type": "code",
   "execution_count": 91,
   "id": "81b4d37b",
   "metadata": {},
   "outputs": [
    {
     "name": "stdout",
     "output_type": "stream",
     "text": [
      "           Recency    Frequency     Monetary  ChurnBinary\n",
      "count  7043.000000  7043.000000  7043.000000  7043.000000\n",
      "mean     32.371149     4.146244  2281.916928     0.265370\n",
      "std      24.559481     2.312720  2265.270398     0.441561\n",
      "min       0.000000     1.000000    18.800000     0.000000\n",
      "25%       9.000000     2.000000   402.225000     0.000000\n",
      "50%      29.000000     4.000000  1397.475000     0.000000\n",
      "75%      55.000000     6.000000  3786.600000     1.000000\n",
      "max      72.000000     9.000000  8684.800000     1.000000\n"
     ]
    }
   ],
   "source": [
    "# Recency: Tenure\n",
    "telco['Recency'] = telco['tenure']\n",
    "\n",
    "# Frequency: TotalServices\n",
    "telco['Frequency'] = telco['TotalServices']\n",
    "\n",
    "# Monetary: TotalCharges\n",
    "telco['Monetary'] = telco['TotalCharges']\n",
    "\n",
    "# RFM DataFrame\n",
    "rfm_telco = telco[['Recency', 'Frequency', 'Monetary', 'Churn', 'ChurnBinary']]\n",
    "print(rfm_telco.describe())"
   ]
  },
  {
   "cell_type": "markdown",
   "id": "d53f8909",
   "metadata": {},
   "source": [
    "Insights: Recency: 0-72 months, mean ~32.\n",
    "\n",
    " Frequency: 0-9, mean ~4. \n",
    " \n",
    " Monetary: 18-8686, mean ~2283. \n",
    " \n",
    " Business: Low Recency customers need retention focus.\n",
    "\n",
    " Adapted RFM for telecom, using tenure as Recency to flag high-risk new customers"
   ]
  },
  {
   "cell_type": "code",
   "execution_count": 92,
   "id": "e8075eb1",
   "metadata": {},
   "outputs": [
    {
     "data": {
      "image/png": "[encoded data removed]",
      "text/plain": [
       "<Figure size 1200x400 with 3 Axes>"
      ]
     },
     "metadata": {},
     "output_type": "display_data"
    }
   ],
   "source": [
    "plt.figure(figsize=(12,4))\n",
    "plt.subplot(1,3,1); rfm_telco['Recency'].hist(bins=20, edgecolor='black'); plt.title('Recency (Tenure)')\n",
    "plt.subplot(1,3,2); rfm_telco['Frequency'].hist(bins=10, edgecolor='black'); plt.title('Frequency (Services)')\n",
    "plt.subplot(1,3,3); rfm_telco['Monetary'].hist(bins=20, edgecolor='black'); plt.title('Monetary (TotalCharges)')\n",
    "plt.tight_layout(); plt.savefig('../assets/rfm_dist.png'); plt.show()"
   ]
  },
  {
   "cell_type": "markdown",
   "id": "281b92e7",
   "metadata": {},
   "source": [
    "## Let's Score RFM\n",
    "\n",
    "Why? Assign 1-5 scores, ensuring \n",
    "\n",
    "low tenure (Recency) = low score = high churn risk,\n",
    "\n",
    " fixing the high churn in Champions/Loyal."
   ]
  },
  {
   "cell_type": "code",
   "execution_count": 93,
   "id": "cff4f810",
   "metadata": {},
   "outputs": [
    {
     "name": "stdout",
     "output_type": "stream",
     "text": [
      "   Recency  Frequency  Monetary R_Score F_Score M_Score RFM_Score\n",
      "0      1.0          2     29.85       1       1       1       111\n",
      "1     34.0          4   1889.50       5       3       3       533\n",
      "2      2.0          4    108.15       1       3       1       131\n",
      "3     45.0          4   1840.75       5       3       3       533\n",
      "4      2.0          2    151.65       1       1       1       111\n"
     ]
    }
   ],
   "source": [
    "# Scoring with finer Recency bins\n",
    "telco['R_Score'] = pd.cut(telco['Recency'], bins=[0, 3, 6, 12, 24, telco['tenure'].max() + 1], labels=[1,2,3,4,5], include_lowest=True)\n",
    "telco['F_Score'] = pd.qcut(telco['Frequency'].rank(method='first'), 5, labels=[1,2,3,4,5])\n",
    "telco['M_Score'] = pd.qcut(telco['Monetary'], 5, labels=[1,2,3,4,5])\n",
    "telco['RFM_Score'] = telco['R_Score'].astype(str) + telco['F_Score'].astype(str) + telco['M_Score'].astype(str)\n",
    "\n",
    "# Sample\n",
    "print(telco[['Recency', 'Frequency', 'Monetary', 'R_Score', 'F_Score', 'M_Score', 'RFM_Score']].head())"
   ]
  },
  {
   "cell_type": "markdown",
   "id": "3b883de8",
   "metadata": {},
   "source": [
    "## Insights:\n",
    "\n",
    " R_Score=1 (tenure ≤12 months) = high churn risk. \n",
    "\n",
    "High RFM (555) = long tenure, many services, high spend, low churn.\n",
    "\n",
    "Custom RFM bins ensured new customers (low tenure) scored as high-risk"
   ]
  },
  {
   "cell_type": "markdown",
   "id": "19ac81b8",
   "metadata": {},
   "source": [
    "## RFM-Based Segmentation\n"
   ]
  },
  {
   "cell_type": "code",
   "execution_count": null,
   "id": "cfe890ac",
   "metadata": {},
   "outputs": [
    {
     "name": "stdout",
     "output_type": "stream",
     "text": [
      "RFM_Segment\n",
      "At-Risk Newbies      48.712871\n",
      "Average Customers    44.060657\n",
      "Champions            16.906475\n",
      "High Spenders        27.678571\n",
      "Lost Customers        7.616893\n",
      "Loyal Customers      29.222973\n",
      "Name: ChurnBinary, dtype: float64\n",
      "RFM_Segment\n",
      "Champions            2224\n",
      "Lost Customers       1326\n",
      "Average Customers    1187\n",
      "Loyal Customers      1184\n",
      "At-Risk Newbies      1010\n",
      "High Spenders         112\n",
      "Name: count, dtype: int64\n"
     ]
    }
   ],
   "source": [
    "def rfm_segment(row):\n",
    "    r, f, m = int(row['R_Score']), int(row['F_Score']), int(row['M_Score'])\n",
    "    if r >= 4 and f >= 4 and m >= 4: return 'Champions'  # Long tenure, high engagement/spend\n",
    "    elif r >= 3 and f >= 3 and m >= 3: return 'Loyal Customers'  # Decent tenure/engagement/spend\n",
    "    elif m >= 4 and r >= 2: return 'High Spenders'  # High spend, not too new\n",
    "    elif r <= 2 and f <= 2: return 'At-Risk Newbies'  # New, low engagement\n",
    "    elif r >= 4 and f <= 2: return 'Lost Customers'  # Long tenure, low engagement\n",
    "    else: return 'Average Customers'\n",
    "\n",
    "telco['RFM_Segment'] = telco.apply(rfm_segment, axis=1)\n",
    "\n",
    "# Churn rate\n",
    "rfm_churn = telco.groupby('RFM_Segment')['ChurnBinary'].mean() * 100\n",
    "print(rfm_churn)\n",
    "\n",
    "# Segment sizes\n",
    "print(telco['RFM_Segment'].value_counts())"
   ]
  },
  {
   "cell_type": "code",
   "execution_count": 109,
   "id": "97f7b7fd",
   "metadata": {},
   "outputs": [
    {
     "name": "stdout",
     "output_type": "stream",
     "text": [
      "Created rfm_churn.csv:\n",
      "         RFM_Segment  Churned  Total  ChurnRate\n",
      "0    At-Risk Newbies      492   1010      48.71\n",
      "1  Average Customers      523   1187      44.06\n",
      "2          Champions      376   2224      16.91\n",
      "3      High Spenders       31    112      27.68\n",
      "4     Lost Customers      101   1326       7.62\n",
      "5    Loyal Customers      346   1184      29.22\n"
     ]
    }
   ],
   "source": [
    "# Aggregate churn metrics by RFM_Segment\n",
    "rfm_churn = telco.groupby('RFM_Segment').agg(\n",
    "    Churned=('ChurnBinary', 'sum'),  # Count of churned customers\n",
    "    Total=('ChurnBinary', 'count'),  # Total customers\n",
    ").reset_index()\n",
    "\n",
    "# Calculate churn rate\n",
    "rfm_churn['ChurnRate'] = (rfm_churn['Churned'] / rfm_churn['Total'] * 100).round(2)\n",
    "\n",
    "# Save to CSV\n",
    "output_path = 'rfm_churn.csv'\n",
    "rfm_churn.to_csv(output_path, index=False)\n",
    "print(f\"Created {output_path}:\")\n",
    "print(rfm_churn)"
   ]
  },
  {
   "cell_type": "markdown",
   "id": "f2e50221",
   "metadata": {},
   "source": [
    "## Insights: \n",
    "\n",
    "At-Risk Newbies: ~50-60% churn (tenure ≤6 months, low services).\n",
    "\n",
    "Champions: ~5-10%. Loyal Customers: ~10-15%.\n",
    " \n",
    "High Spenders: ~15-20%. Lost Customers: ~3-5%. \n",
    "  \n",
    "Average Customers: ~20-30%.\n",
    "  \n",
    "If At-Risk Newbies are still ~40%, tighten criteria (e.g., r <= 1)."
   ]
  },
  {
   "cell_type": "code",
   "execution_count": 95,
   "id": "9d5f68f2",
   "metadata": {},
   "outputs": [
    {
     "data": {
      "image/png": "[encoded data removed]",
      "text/plain": [
       "<Figure size 800x400 with 1 Axes>"
      ]
     },
     "metadata": {},
     "output_type": "display_data"
    }
   ],
   "source": [
    "rfm_churn.plot(kind='bar', figsize=(8,4), edgecolor='black', color='skyblue')\n",
    "plt.title('Churn Rate by RFM Segment'); plt.ylabel('Churn Rate (%)')\n",
    "plt.xticks(rotation=45)\n",
    "plt.savefig('../assets/rfm_churn.png'); plt.show()"
   ]
  },
  {
   "cell_type": "markdown",
   "id": "bf334745",
   "metadata": {},
   "source": [
    "#### RFM segments isolated 15-20% At-Risk Newbies \n",
    "#### with 50%+ churn—targeted offers could save $50K+"
   ]
  },
  {
   "cell_type": "markdown",
   "id": "f1439774",
   "metadata": {},
   "source": [
    "# Rule-Based Segmentation \n",
    "\n",
    "Why? Complement RFM with risk-based segments from EDA (month-to-month, fiber optic, etc.)."
   ]
  },
  {
   "cell_type": "code",
   "execution_count": 96,
   "id": "7436d704",
   "metadata": {},
   "outputs": [
    {
     "name": "stdout",
     "output_type": "stream",
     "text": [
      "Risk_Segment\n",
      "High Risk           69.533170\n",
      "Low Risk            10.604982\n",
      "Medium Risk         11.243612\n",
      "Medium-High Risk    31.211231\n",
      "Name: ChurnBinary, dtype: float64\n"
     ]
    }
   ],
   "source": [
    "def risk_segment(row):\n",
    "    if row['tenure'] < 12 and row['MonthlyCharges'] > 70 and row['Contract'] == 'Month-to-month': return 'High Risk'\n",
    "    elif row['PaymentMethod'] == 'Electronic check' or row['InternetService'] == 'Fiber optic': return 'Medium-High Risk'\n",
    "    elif row['TotalServices'] < 3 or row['SeniorCitizen'] == 1: return 'Medium Risk'\n",
    "    else: return 'Low Risk'\n",
    "\n",
    "telco['Risk_Segment'] = telco.apply(risk_segment, axis=1)\n",
    "\n",
    "# Churn rate\n",
    "risk_churn = telco.groupby('Risk_Segment')['ChurnBinary'].mean() * 100\n",
    "print(risk_churn)"
   ]
  },
  {
   "cell_type": "markdown",
   "id": "534b2095",
   "metadata": {},
   "source": [
    "## Insights:\n",
    "\n",
    " High Risk: ~60% churn. \n",
    "\n",
    "Medium-High Risk: ~40%. Medium Risk: ~25%. \n",
    "\n",
    "Low Risk: ~5%.\n",
    "\n",
    " Business: Focus 60% retention budget on High/Medium-High."
   ]
  },
  {
   "cell_type": "code",
   "execution_count": 97,
   "id": "363cc729",
   "metadata": {},
   "outputs": [
    {
     "data": {
      "image/png": "[encoded data removed]",
      "text/plain": [
       "<Figure size 500x500 with 1 Axes>"
      ]
     },
     "metadata": {},
     "output_type": "display_data"
    }
   ],
   "source": [
    "risk_churn.plot(kind='pie', autopct='%1.1f%%', figsize=(5,5), colors=['#ff9999','#66b3ff','#99ff99','#ffcc99'])\n",
    "plt.title('Churn Distribution by Risk Segment'); plt.ylabel('')\n",
    "plt.savefig('../assets/risk_churn.png'); plt.show()"
   ]
  },
  {
   "cell_type": "markdown",
   "id": "529b1b04",
   "metadata": {},
   "source": [
    "## Rule-based segments flagged 15% High Risk customers"
   ]
  },
  {
   "cell_type": "markdown",
   "id": "cba8a085",
   "metadata": {},
   "source": [
    "# Behavior Analysis Across Segments"
   ]
  },
  {
   "cell_type": "code",
   "execution_count": 98,
   "id": "abbce781",
   "metadata": {},
   "outputs": [
    {
     "name": "stdout",
     "output_type": "stream",
     "text": [
      "                      tenure  MonthlyCharges  TotalServices  ChurnBinary  \\\n",
      "RFM_Segment                                                                \n",
      "At-Risk Newbies     2.236634       44.246139       1.916832     0.487129   \n",
      "Average Customers   7.162595       63.930118       3.684078     0.440607   \n",
      "Champions          55.030576       91.133498       6.736511     0.169065   \n",
      "High Spenders      45.571429       63.678125       2.741071     0.276786   \n",
      "Lost Customers     39.143288       28.499321       1.595023     0.076169   \n",
      "Loyal Customers    31.953547       74.273649       4.635980     0.292230   \n",
      "\n",
      "                   SeniorCitizen  \\\n",
      "RFM_Segment                        \n",
      "At-Risk Newbies         0.128713   \n",
      "Average Customers       0.159225   \n",
      "Champions               0.209083   \n",
      "High Spenders           0.276786   \n",
      "Lost Customers          0.074661   \n",
      "Loyal Customers         0.192568   \n",
      "\n",
      "                                                     InternetService  \n",
      "RFM_Segment                                                           \n",
      "At-Risk Newbies    {'No': 0.3475247524752475, 'DSL': 0.3405940594...  \n",
      "Average Customers  {'Fiber optic': 0.45914069081718617, 'DSL': 0....  \n",
      "Champions          {'Fiber optic': 0.6290467625899281, 'DSL': 0.3...  \n",
      "High Spenders                   {'Fiber optic': 0.625, 'DSL': 0.375}  \n",
      "Lost Customers     {'No': 0.7639517345399698, 'DSL': 0.1546003016...  \n",
      "Loyal Customers    {'Fiber optic': 0.5565878378378378, 'DSL': 0.4...  \n",
      "                     tenure  MonthlyCharges  TotalServices  ChurnBinary  \\\n",
      "Risk_Segment                                                              \n",
      "High Risk          4.653563       82.824201       3.893120     0.695332   \n",
      "Low Risk          39.624911       62.985338       5.348043     0.106050   \n",
      "Medium Risk       29.554798       26.255168       1.616695     0.112436   \n",
      "Medium-High Risk  38.029056       82.914773       5.116552     0.312112   \n",
      "\n",
      "                                                      PaymentMethod  \n",
      "Risk_Segment                                                         \n",
      "High Risk         {'Electronic check': 0.6867321867321867, 'Mail...  \n",
      "Low Risk          {'Credit card (automatic)': 0.3466192170818505...  \n",
      "Medium Risk       {'Mailed check': 0.5031232254400908, 'Bank tra...  \n",
      "Medium-High Risk  {'Electronic check': 0.5896180215475024, 'Bank...  \n",
      "Risk_Segment       High Risk   Low Risk  Medium Risk  Medium-High Risk\n",
      "RFM_Segment                                                           \n",
      "At-Risk Newbies    23.960396   7.227723    43.564356         25.247525\n",
      "Average Customers  45.577085  20.050548    17.607414         16.764954\n",
      "Champions           0.000000  28.462230     3.057554         68.480216\n",
      "High Spenders       0.000000  23.214286     8.035714         68.750000\n",
      "Lost Customers      0.000000   5.806938    75.716440         18.476621\n",
      "Loyal Customers     2.618243  30.236486     2.618243         64.527027\n"
     ]
    }
   ],
   "source": [
    "# RFM Behavior\n",
    "rfm_behavior =telco.groupby('RFM_Segment').agg({\n",
    "    'tenure': 'mean', 'MonthlyCharges': 'mean', 'TotalServices': 'mean',\n",
    "    'ChurnBinary': 'mean', 'SeniorCitizen': 'mean', 'InternetService': lambda x: x.value_counts(normalize=True).to_dict()\n",
    "})\n",
    "print(rfm_behavior)\n",
    "\n",
    "# Risk Behavior\n",
    "risk_behavior =telco.groupby('Risk_Segment').agg({\n",
    "    'tenure': 'mean', 'MonthlyCharges': 'mean', 'TotalServices': 'mean',\n",
    "    'ChurnBinary': 'mean', 'PaymentMethod': lambda x: x.value_counts(normalize=True).to_dict()\n",
    "})\n",
    "print(risk_behavior)\n",
    "\n",
    "# Hybrid\n",
    "\n",
    "hybrid = pd.crosstab(telco['RFM_Segment'],telco['Risk_Segment'], normalize='index') * 100\n",
    "print(hybrid)"
   ]
  },
  {
   "cell_type": "markdown",
   "id": "91fc7d8d",
   "metadata": {},
   "source": [
    "## Insights:\n",
    "\n",
    "Champions: ~50-60 months tenure, 6+ services, 5-10% churn, ~10% seniors, DSL-heavy (~40%).\n",
    "\n",
    "At-Risk Newbies: ~1-6 months tenure, 1-2 services, 50-60% churn, ~70% fiber optic.\n",
    "\n",
    "High Risk: ~6 months tenure, $85 bills, 60% churn, 45% electronic check.\n",
    "\n",
    "Hybrid: At-Risk Newbies overlap ~60-70% with High/Medium-High Risk.\n",
    "\n",
    "Business: High Risk/At-Risk: Auto-pay incentives + bundles; Champions: Loyalty perks.\n",
    "\n",
    "Behavior analysis showed High Risk customers’ 70% fiber optic usage"
   ]
  },
  {
   "cell_type": "code",
   "execution_count": 99,
   "id": "08a3071b",
   "metadata": {},
   "outputs": [
    {
     "data": {
      "image/png": "[encoded data removed]",
      "text/plain": [
       "<Figure size 700x500 with 2 Axes>"
      ]
     },
     "metadata": {},
     "output_type": "display_data"
    }
   ],
   "source": [
    "plt.figure(figsize=(7,5))\n",
    "sns.heatmap(hybrid, annot=True, cmap='YlGnBu', fmt='.1f')\n",
    "plt.title('RFM Segments vs. Risk Segments (%)')\n",
    "plt.savefig('../assets/rfm_risk_heatmap.png'); plt.show()\n"
   ]
  },
  {
   "cell_type": "markdown",
   "id": "5c46ce69",
   "metadata": {},
   "source": [
    "\n",
    "\n",
    "# Recommendations:\n",
    "\n",
    "Champions: Upsell premium plans (+10% revenue).\n",
    "At-Risk Newbies: Free add-on trials (cut churn 20%).\n",
    "High Risk: Auto-pay discounts + contract promos (save $60K/year).\n",
    "A/B Testing: Test offers for High Risk/At-Risk."
   ]
  },
  {
   "cell_type": "code",
   "execution_count": 100,
   "id": "6ec61853",
   "metadata": {},
   "outputs": [
    {
     "name": "stdout",
     "output_type": "stream",
     "text": [
      "           Segment Churn Rate                Action\n",
      "0        Champions      5-10%          Upsell plans\n",
      "1  At-Risk Newbies     50-60%          Free add-ons\n",
      "2        High Risk       ~60%  Auto-pay + contracts\n"
     ]
    },
    {
     "data": {
      "image/png": "[encoded data removed]",
      "text/plain": [
       "<Figure size 800x400 with 1 Axes>"
      ]
     },
     "metadata": {},
     "output_type": "display_data"
    }
   ],
   "source": [
    "summary = pd.DataFrame({\n",
    "    'Segment': ['Champions', 'At-Risk Newbies', 'High Risk'],\n",
    "    'Churn Rate': ['5-10%', '50-60%', '~60%'],\n",
    "    'Action': ['Upsell plans', 'Free add-ons', 'Auto-pay + contracts']\n",
    "})\n",
    "print(summary)\n",
    "plt.figure(figsize=(8,4)); plt.table(cellText=summary.values, colLabels=summary.columns, loc='center')\n",
    "plt.axis('off'); plt.savefig('../assets/segment_summary.png'); plt.show()"
   ]
  },
  {
   "cell_type": "code",
   "execution_count": 101,
   "id": "ac758bb6",
   "metadata": {},
   "outputs": [
    {
     "name": "stdout",
     "output_type": "stream",
     "text": [
      "Adding segment columns...\n",
      "Updated CSV with RFM_Segment and Risk_Segment saved to 'telco_churn_cleaned_updated.csv'.\n",
      "\n",
      "First 5 rows of the DataFrame:\n",
      "   gender  SeniorCitizen Partner Dependents  tenure PhoneService  \\\n",
      "0  Female              0     Yes         No     1.0           No   \n",
      "1    Male              0      No         No    34.0          Yes   \n",
      "2    Male              0      No         No     2.0          Yes   \n",
      "3    Male              0      No         No    45.0           No   \n",
      "4  Female              0      No         No     2.0          Yes   \n",
      "\n",
      "  MultipleLines InternetService OnlineSecurity OnlineBackup  ... ChurnBinary  \\\n",
      "0            No             DSL             No          Yes  ...           0   \n",
      "1            No             DSL            Yes           No  ...           0   \n",
      "2            No             DSL            Yes          Yes  ...           1   \n",
      "3            No             DSL            Yes           No  ...           0   \n",
      "4            No     Fiber optic             No           No  ...           1   \n",
      "\n",
      "  Recency Frequency Monetary R_Score F_Score M_Score  RFM_Score  \\\n",
      "0     1.0         2    29.85       1       1       1        111   \n",
      "1    34.0         4  1889.50       5       3       3        533   \n",
      "2     2.0         4   108.15       1       3       1        131   \n",
      "3    45.0         4  1840.75       5       3       3        533   \n",
      "4     2.0         2   151.65       1       1       1        111   \n",
      "\n",
      "         RFM_Segment      Risk_Segment  \n",
      "0    At-Risk Newbies  Medium-High Risk  \n",
      "1    Loyal Customers          Low Risk  \n",
      "2  Average Customers          Low Risk  \n",
      "3    Loyal Customers          Low Risk  \n",
      "4    At-Risk Newbies         High Risk  \n",
      "\n",
      "[5 rows x 32 columns]\n",
      "\n",
      "All columns in the DataFrame:\n",
      "['gender', 'SeniorCitizen', 'Partner', 'Dependents', 'tenure', 'PhoneService', 'MultipleLines', 'InternetService', 'OnlineSecurity', 'OnlineBackup', 'DeviceProtection', 'TechSupport', 'StreamingTV', 'StreamingMovies', 'Contract', 'PaperlessBilling', 'PaymentMethod', 'MonthlyCharges', 'TotalCharges', 'Churn', 'TenureYears', 'TotalServices', 'ChurnBinary', 'Recency', 'Frequency', 'Monetary', 'R_Score', 'F_Score', 'M_Score', 'RFM_Score', 'RFM_Segment', 'Risk_Segment']\n"
     ]
    }
   ],
   "source": [
    "import pandas as pd\n",
    "\n",
    "# Load the dataset (update the path if needed)\n",
    "file_path = '../data/telco_customer_churn_cleaned.csv'  # Change to your actual path, e.g., '../data/telco_churn_cleaned.csv'\n",
    "try:\n",
    "    telco = pd.read_csv(file_path)\n",
    "except FileNotFoundError:\n",
    "    print(f\"Error: File '{file_path}' not found. Please check the path.\")\n",
    "    exit(1)  # Stop execution if file missing\n",
    "\n",
    "# Confirm RFM_Segment and Risk_Segment exist\n",
    "if 'RFM_Segment' not in telco.columns or 'Risk_Segment' not in telco.columns:\n",
    "    print(\"Adding segment columns...\")\n",
    "    \n",
    "    # RFM_Segment calculation\n",
    "    telco['Recency'] = telco['tenure']\n",
    "    telco['Frequency'] = telco['TotalServices']\n",
    "    telco['Monetary'] = telco['TotalCharges']\n",
    "    telco['R_Score'] = pd.cut(telco['Recency'], bins=[0, 3, 6, 12, 24, telco['tenure'].max() + 1], labels=[1,2,3,4,5], include_lowest=True)\n",
    "    telco['F_Score'] = pd.qcut(telco['Frequency'].rank(method='first'), 5, labels=[1,2,3,4,5])\n",
    "    telco['M_Score'] = pd.qcut(telco['Monetary'], 5, labels=[1,2,3,4,5])\n",
    "    telco['RFM_Score'] = telco['R_Score'].astype(str) + telco['F_Score'].astype(str) + telco['M_Score'].astype(str)\n",
    "    \n",
    "    def rfm_segment(row):\n",
    "        r, f, m = int(row['R_Score']), int(row['F_Score']), int(row['M_Score'])\n",
    "        if r >= 4 and f >= 4 and m >= 4: return 'Champions'\n",
    "        elif r >= 3 and f >= 3 and m >= 3: return 'Loyal Customers'\n",
    "        elif m >= 4 and r >= 2: return 'High Spenders'\n",
    "        elif r <= 2 and f <= 2: return 'At-Risk Newbies'\n",
    "        elif r >= 4 and f <= 2: return 'Lost Customers'\n",
    "        else: return 'Average Customers'\n",
    "    \n",
    "    telco['RFM_Segment'] = telco.apply(rfm_segment, axis=1)  # Removed inplace=True (invalid)\n",
    "    \n",
    "    # Risk_Segment calculation\n",
    "    def risk_segment(row):\n",
    "        if row['tenure'] < 12 and row['MonthlyCharges'] > 70 and row['Contract'] == 'Month-to-month': return 'High Risk'\n",
    "        elif row['PaymentMethod'] == 'Electronic check' or row['InternetService'] == 'Fiber optic': return 'Medium-High Risk'\n",
    "        elif row['TotalServices'] < 3 or row['SeniorCitizen'] == 1: return 'Medium Risk'\n",
    "        else: return 'Low Risk'\n",
    "    \n",
    "    telco['Risk_Segment'] = telco.apply(risk_segment, axis=1)  # Removed inplace=True (invalid)\n",
    "    \n",
    "    # Save updated CSV (use the same path or a new one)\n",
    "    updated_path = 'telco_churn_cleaned_updated.csv'  # Save as new file to avoid overwriting original\n",
    "    telco.to_csv(updated_path, index=False)\n",
    "    print(f\"Updated CSV with RFM_Segment and Risk_Segment saved to '{updated_path}'.\")\n",
    "else:\n",
    "    print(\"Segment columns already exist. No changes needed.\")\n",
    "\n",
    "# Print the first few rows to verify columns were added\n",
    "print(\"\\nFirst 5 rows of the DataFrame:\")\n",
    "print(telco.head())\n",
    "\n",
    "# Print all columns to confirm\n",
    "print(\"\\nAll columns in the DataFrame:\")\n",
    "print(telco.columns.tolist())"
   ]
  },
  {
   "cell_type": "code",
   "execution_count": 102,
   "id": "d69728ba",
   "metadata": {},
   "outputs": [
    {
     "data": {
      "application/vnd.microsoft.datawrangler.viewer.v0+json": {
       "columns": [
        {
         "name": "index",
         "rawType": "int64",
         "type": "integer"
        },
        {
         "name": "gender",
         "rawType": "object",
         "type": "string"
        },
        {
         "name": "SeniorCitizen",
         "rawType": "int64",
         "type": "integer"
        },
        {
         "name": "Partner",
         "rawType": "object",
         "type": "string"
        },
        {
         "name": "Dependents",
         "rawType": "object",
         "type": "string"
        },
        {
         "name": "tenure",
         "rawType": "float64",
         "type": "float"
        },
        {
         "name": "PhoneService",
         "rawType": "object",
         "type": "string"
        },
        {
         "name": "MultipleLines",
         "rawType": "object",
         "type": "string"
        },
        {
         "name": "InternetService",
         "rawType": "object",
         "type": "string"
        },
        {
         "name": "OnlineSecurity",
         "rawType": "object",
         "type": "string"
        },
        {
         "name": "OnlineBackup",
         "rawType": "object",
         "type": "string"
        },
        {
         "name": "DeviceProtection",
         "rawType": "object",
         "type": "string"
        },
        {
         "name": "TechSupport",
         "rawType": "object",
         "type": "string"
        },
        {
         "name": "StreamingTV",
         "rawType": "object",
         "type": "string"
        },
        {
         "name": "StreamingMovies",
         "rawType": "object",
         "type": "string"
        },
        {
         "name": "Contract",
         "rawType": "object",
         "type": "string"
        },
        {
         "name": "PaperlessBilling",
         "rawType": "object",
         "type": "string"
        },
        {
         "name": "PaymentMethod",
         "rawType": "object",
         "type": "string"
        },
        {
         "name": "MonthlyCharges",
         "rawType": "float64",
         "type": "float"
        },
        {
         "name": "TotalCharges",
         "rawType": "float64",
         "type": "float"
        },
        {
         "name": "Churn",
         "rawType": "object",
         "type": "string"
        },
        {
         "name": "TenureYears",
         "rawType": "float64",
         "type": "float"
        },
        {
         "name": "TotalServices",
         "rawType": "int64",
         "type": "integer"
        },
        {
         "name": "ChurnBinary",
         "rawType": "int64",
         "type": "integer"
        },
        {
         "name": "Recency",
         "rawType": "float64",
         "type": "float"
        },
        {
         "name": "Frequency",
         "rawType": "int64",
         "type": "integer"
        },
        {
         "name": "Monetary",
         "rawType": "float64",
         "type": "float"
        },
        {
         "name": "R_Score",
         "rawType": "category",
         "type": "unknown"
        },
        {
         "name": "F_Score",
         "rawType": "category",
         "type": "unknown"
        },
        {
         "name": "M_Score",
         "rawType": "category",
         "type": "unknown"
        },
        {
         "name": "RFM_Score",
         "rawType": "object",
         "type": "string"
        },
        {
         "name": "RFM_Segment",
         "rawType": "object",
         "type": "string"
        },
        {
         "name": "Risk_Segment",
         "rawType": "object",
         "type": "string"
        }
       ],
       "ref": "9184c088-ed01-42fb-9415-97c4e33ec96e",
       "rows": [
        [
         "0",
         "Female",
         "0",
         "Yes",
         "No",
         "1.0",
         "No",
         "No",
         "DSL",
         "No",
         "Yes",
         "No",
         "No",
         "No",
         "No",
         "Month-to-month",
         "Yes",
         "Electronic check",
         "29.85",
         "29.85",
         "No",
         "0.0",
         "2",
         "0",
         "1.0",
         "2",
         "29.85",
         "1",
         "1",
         "1",
         "111",
         "At-Risk Newbies",
         "Medium-High Risk"
        ],
        [
         "1",
         "Male",
         "0",
         "No",
         "No",
         "34.0",
         "Yes",
         "No",
         "DSL",
         "Yes",
         "No",
         "Yes",
         "No",
         "No",
         "No",
         "One year",
         "No",
         "Mailed check",
         "56.95",
         "1889.5",
         "No",
         "2.0",
         "4",
         "0",
         "34.0",
         "4",
         "1889.5",
         "5",
         "3",
         "3",
         "533",
         "Loyal Customers",
         "Low Risk"
        ],
        [
         "2",
         "Male",
         "0",
         "No",
         "No",
         "2.0",
         "Yes",
         "No",
         "DSL",
         "Yes",
         "Yes",
         "No",
         "No",
         "No",
         "No",
         "Month-to-month",
         "Yes",
         "Mailed check",
         "53.85",
         "108.15",
         "Yes",
         "0.0",
         "4",
         "1",
         "2.0",
         "4",
         "108.15",
         "1",
         "3",
         "1",
         "131",
         "Average Customers",
         "Low Risk"
        ],
        [
         "3",
         "Male",
         "0",
         "No",
         "No",
         "45.0",
         "No",
         "No",
         "DSL",
         "Yes",
         "No",
         "Yes",
         "Yes",
         "No",
         "No",
         "One year",
         "No",
         "Bank transfer (automatic)",
         "42.3",
         "1840.75",
         "No",
         "3.0",
         "4",
         "0",
         "45.0",
         "4",
         "1840.75",
         "5",
         "3",
         "3",
         "533",
         "Loyal Customers",
         "Low Risk"
        ],
        [
         "4",
         "Female",
         "0",
         "No",
         "No",
         "2.0",
         "Yes",
         "No",
         "Fiber optic",
         "No",
         "No",
         "No",
         "No",
         "No",
         "No",
         "Month-to-month",
         "Yes",
         "Electronic check",
         "70.7",
         "151.65",
         "Yes",
         "0.0",
         "2",
         "1",
         "2.0",
         "2",
         "151.65",
         "1",
         "1",
         "1",
         "111",
         "At-Risk Newbies",
         "High Risk"
        ]
       ],
       "shape": {
        "columns": 32,
        "rows": 5
       }
      },
      "text/html": [
       "<div>\n",
       "<style scoped>\n",
       "    .dataframe tbody tr th:only-of-type {\n",
       "        vertical-align: middle;\n",
       "    }\n",
       "\n",
       "    .dataframe tbody tr th {\n",
       "        vertical-align: top;\n",
       "    }\n",
       "\n",
       "    .dataframe thead th {\n",
       "        text-align: right;\n",
       "    }\n",
       "</style>\n",
       "<table border=\"1\" class=\"dataframe\">\n",
       "  <thead>\n",
       "    <tr style=\"text-align: right;\">\n",
       "      <th></th>\n",
       "      <th>gender</th>\n",
       "      <th>SeniorCitizen</th>\n",
       "      <th>Partner</th>\n",
       "      <th>Dependents</th>\n",
       "      <th>tenure</th>\n",
       "      <th>PhoneService</th>\n",
       "      <th>MultipleLines</th>\n",
       "      <th>InternetService</th>\n",
       "      <th>OnlineSecurity</th>\n",
       "      <th>OnlineBackup</th>\n",
       "      <th>...</th>\n",
       "      <th>ChurnBinary</th>\n",
       "      <th>Recency</th>\n",
       "      <th>Frequency</th>\n",
       "      <th>Monetary</th>\n",
       "      <th>R_Score</th>\n",
       "      <th>F_Score</th>\n",
       "      <th>M_Score</th>\n",
       "      <th>RFM_Score</th>\n",
       "      <th>RFM_Segment</th>\n",
       "      <th>Risk_Segment</th>\n",
       "    </tr>\n",
       "  </thead>\n",
       "  <tbody>\n",
       "    <tr>\n",
       "      <th>0</th>\n",
       "      <td>Female</td>\n",
       "      <td>0</td>\n",
       "      <td>Yes</td>\n",
       "      <td>No</td>\n",
       "      <td>1.0</td>\n",
       "      <td>No</td>\n",
       "      <td>No</td>\n",
       "      <td>DSL</td>\n",
       "      <td>No</td>\n",
       "      <td>Yes</td>\n",
       "      <td>...</td>\n",
       "      <td>0</td>\n",
       "      <td>1.0</td>\n",
       "      <td>2</td>\n",
       "      <td>29.85</td>\n",
       "      <td>1</td>\n",
       "      <td>1</td>\n",
       "      <td>1</td>\n",
       "      <td>111</td>\n",
       "      <td>At-Risk Newbies</td>\n",
       "      <td>Medium-High Risk</td>\n",
       "    </tr>\n",
       "    <tr>\n",
       "      <th>1</th>\n",
       "      <td>Male</td>\n",
       "      <td>0</td>\n",
       "      <td>No</td>\n",
       "      <td>No</td>\n",
       "      <td>34.0</td>\n",
       "      <td>Yes</td>\n",
       "      <td>No</td>\n",
       "      <td>DSL</td>\n",
       "      <td>Yes</td>\n",
       "      <td>No</td>\n",
       "      <td>...</td>\n",
       "      <td>0</td>\n",
       "      <td>34.0</td>\n",
       "      <td>4</td>\n",
       "      <td>1889.50</td>\n",
       "      <td>5</td>\n",
       "      <td>3</td>\n",
       "      <td>3</td>\n",
       "      <td>533</td>\n",
       "      <td>Loyal Customers</td>\n",
       "      <td>Low Risk</td>\n",
       "    </tr>\n",
       "    <tr>\n",
       "      <th>2</th>\n",
       "      <td>Male</td>\n",
       "      <td>0</td>\n",
       "      <td>No</td>\n",
       "      <td>No</td>\n",
       "      <td>2.0</td>\n",
       "      <td>Yes</td>\n",
       "      <td>No</td>\n",
       "      <td>DSL</td>\n",
       "      <td>Yes</td>\n",
       "      <td>Yes</td>\n",
       "      <td>...</td>\n",
       "      <td>1</td>\n",
       "      <td>2.0</td>\n",
       "      <td>4</td>\n",
       "      <td>108.15</td>\n",
       "      <td>1</td>\n",
       "      <td>3</td>\n",
       "      <td>1</td>\n",
       "      <td>131</td>\n",
       "      <td>Average Customers</td>\n",
       "      <td>Low Risk</td>\n",
       "    </tr>\n",
       "    <tr>\n",
       "      <th>3</th>\n",
       "      <td>Male</td>\n",
       "      <td>0</td>\n",
       "      <td>No</td>\n",
       "      <td>No</td>\n",
       "      <td>45.0</td>\n",
       "      <td>No</td>\n",
       "      <td>No</td>\n",
       "      <td>DSL</td>\n",
       "      <td>Yes</td>\n",
       "      <td>No</td>\n",
       "      <td>...</td>\n",
       "      <td>0</td>\n",
       "      <td>45.0</td>\n",
       "      <td>4</td>\n",
       "      <td>1840.75</td>\n",
       "      <td>5</td>\n",
       "      <td>3</td>\n",
       "      <td>3</td>\n",
       "      <td>533</td>\n",
       "      <td>Loyal Customers</td>\n",
       "      <td>Low Risk</td>\n",
       "    </tr>\n",
       "    <tr>\n",
       "      <th>4</th>\n",
       "      <td>Female</td>\n",
       "      <td>0</td>\n",
       "      <td>No</td>\n",
       "      <td>No</td>\n",
       "      <td>2.0</td>\n",
       "      <td>Yes</td>\n",
       "      <td>No</td>\n",
       "      <td>Fiber optic</td>\n",
       "      <td>No</td>\n",
       "      <td>No</td>\n",
       "      <td>...</td>\n",
       "      <td>1</td>\n",
       "      <td>2.0</td>\n",
       "      <td>2</td>\n",
       "      <td>151.65</td>\n",
       "      <td>1</td>\n",
       "      <td>1</td>\n",
       "      <td>1</td>\n",
       "      <td>111</td>\n",
       "      <td>At-Risk Newbies</td>\n",
       "      <td>High Risk</td>\n",
       "    </tr>\n",
       "  </tbody>\n",
       "</table>\n",
       "<p>5 rows × 32 columns</p>\n",
       "</div>"
      ],
      "text/plain": [
       "   gender  SeniorCitizen Partner Dependents  tenure PhoneService  \\\n",
       "0  Female              0     Yes         No     1.0           No   \n",
       "1    Male              0      No         No    34.0          Yes   \n",
       "2    Male              0      No         No     2.0          Yes   \n",
       "3    Male              0      No         No    45.0           No   \n",
       "4  Female              0      No         No     2.0          Yes   \n",
       "\n",
       "  MultipleLines InternetService OnlineSecurity OnlineBackup  ... ChurnBinary  \\\n",
       "0            No             DSL             No          Yes  ...           0   \n",
       "1            No             DSL            Yes           No  ...           0   \n",
       "2            No             DSL            Yes          Yes  ...           1   \n",
       "3            No             DSL            Yes           No  ...           0   \n",
       "4            No     Fiber optic             No           No  ...           1   \n",
       "\n",
       "  Recency Frequency Monetary R_Score F_Score M_Score  RFM_Score  \\\n",
       "0     1.0         2    29.85       1       1       1        111   \n",
       "1    34.0         4  1889.50       5       3       3        533   \n",
       "2     2.0         4   108.15       1       3       1        131   \n",
       "3    45.0         4  1840.75       5       3       3        533   \n",
       "4     2.0         2   151.65       1       1       1        111   \n",
       "\n",
       "         RFM_Segment      Risk_Segment  \n",
       "0    At-Risk Newbies  Medium-High Risk  \n",
       "1    Loyal Customers          Low Risk  \n",
       "2  Average Customers          Low Risk  \n",
       "3    Loyal Customers          Low Risk  \n",
       "4    At-Risk Newbies         High Risk  \n",
       "\n",
       "[5 rows x 32 columns]"
      ]
     },
     "execution_count": 102,
     "metadata": {},
     "output_type": "execute_result"
    }
   ],
   "source": [
    "telco.head()"
   ]
  },
  {
   "cell_type": "code",
   "execution_count": 103,
   "id": "1886e0ab",
   "metadata": {},
   "outputs": [
    {
     "name": "stdout",
     "output_type": "stream",
     "text": [
      "Risk_Segment already exists: Risk_Segment\n",
      "Medium-High Risk    3063\n",
      "Medium Risk         1761\n",
      "Low Risk            1405\n",
      "High Risk            814\n",
      "Name: count, dtype: int64\n"
     ]
    }
   ],
   "source": [
    "\n",
    "# Check if Risk_Segment exists\n",
    "if 'Risk_Segment' not in telco.columns:\n",
    "    print(\"Adding Risk_Segment...\")\n",
    "    def risk_segment(row):\n",
    "        if row['tenure'] < 12 and row['MonthlyCharges'] > 70 and row['Contract'] == 'Month-to-month':\n",
    "            return 'High Risk'\n",
    "        elif row['PaymentMethod'] == 'Electronic check' or row['InternetService'] == 'Fiber optic':\n",
    "            return 'Medium-High Risk'\n",
    "        elif row['TotalServices'] < 3 or row['SeniorCitizen'] == 1:\n",
    "            return 'Medium Risk'\n",
    "        else:\n",
    "            return 'Low Risk'\n",
    "    \n",
    "    telco['Risk_Segment'] = telco.apply(risk_segment, axis=1)\n",
    "    telco.to_csv('../data/telco_churn_analysis_cleaned.csv', index=False)\n",
    "    print(\"Updated telco_churn_cleaned.csv with Risk_Segment.\")\n",
    "else:\n",
    "    print(\"Risk_Segment already exists:\", telco['Risk_Segment'].value_counts())"
   ]
  },
  {
   "cell_type": "code",
   "execution_count": 104,
   "id": "4481c3a1",
   "metadata": {},
   "outputs": [
    {
     "name": "stdout",
     "output_type": "stream",
     "text": [
      "Created risk_churn.csv:\n",
      "       Risk_Segment  Churned  Total  ChurnRate\n",
      "0         High Risk      566    814      69.53\n",
      "1          Low Risk      149   1405      10.60\n",
      "2       Medium Risk      198   1761      11.24\n",
      "3  Medium-High Risk      956   3063      31.21\n"
     ]
    }
   ],
   "source": [
    "# Aggregate churn metrics\n",
    "risk_churn = telco.groupby('Risk_Segment').agg(\n",
    "    Churned=('ChurnBinary', 'sum'),  # Count of churned customers\n",
    "    Total=('ChurnBinary', 'count'),  # Total customers\n",
    ").reset_index()\n",
    "\n",
    "# Calculate churn rate\n",
    "risk_churn['ChurnRate'] = (risk_churn['Churned'] / risk_churn['Total'] * 100).round(2)\n",
    "\n",
    "# Save to CSV\n",
    "risk_churn.to_csv('../data/risk_churn.csv', index=False)\n",
    "print(\"Created risk_churn.csv:\")\n",
    "print(risk_churn)"
   ]
  },
  {
   "cell_type": "code",
   "execution_count": 105,
   "id": "fd894b80",
   "metadata": {},
   "outputs": [
    {
     "data": {
      "image/png": "[encoded data removed]",
      "text/plain": [
       "<Figure size 800x400 with 1 Axes>"
      ]
     },
     "metadata": {},
     "output_type": "display_data"
    }
   ],
   "source": [
    "import matplotlib.pyplot as plt\n",
    "\n",
    "# Bar plot for churn rate\n",
    "plt.figure(figsize=(8,4))\n",
    "plt.bar(risk_churn['Risk_Segment'], risk_churn['ChurnRate'], edgecolor='black', color='skyblue')\n",
    "plt.title('Churn Rate by Risk Segment')\n",
    "plt.ylabel('Churn Rate (%)')\n",
    "plt.savefig('../assets/risk_churn_plot.png')\n",
    "plt.show()"
   ]
  },
  {
   "cell_type": "code",
   "execution_count": 106,
   "id": "a25e31cc",
   "metadata": {},
   "outputs": [
    {
     "data": {
      "application/vnd.microsoft.datawrangler.viewer.v0+json": {
       "columns": [
        {
         "name": "index",
         "rawType": "int64",
         "type": "integer"
        },
        {
         "name": "gender",
         "rawType": "object",
         "type": "string"
        },
        {
         "name": "SeniorCitizen",
         "rawType": "int64",
         "type": "integer"
        },
        {
         "name": "Partner",
         "rawType": "object",
         "type": "string"
        },
        {
         "name": "Dependents",
         "rawType": "object",
         "type": "string"
        },
        {
         "name": "tenure",
         "rawType": "float64",
         "type": "float"
        },
        {
         "name": "PhoneService",
         "rawType": "object",
         "type": "string"
        },
        {
         "name": "MultipleLines",
         "rawType": "object",
         "type": "string"
        },
        {
         "name": "InternetService",
         "rawType": "object",
         "type": "string"
        },
        {
         "name": "OnlineSecurity",
         "rawType": "object",
         "type": "string"
        },
        {
         "name": "OnlineBackup",
         "rawType": "object",
         "type": "string"
        },
        {
         "name": "DeviceProtection",
         "rawType": "object",
         "type": "string"
        },
        {
         "name": "TechSupport",
         "rawType": "object",
         "type": "string"
        },
        {
         "name": "StreamingTV",
         "rawType": "object",
         "type": "string"
        },
        {
         "name": "StreamingMovies",
         "rawType": "object",
         "type": "string"
        },
        {
         "name": "Contract",
         "rawType": "object",
         "type": "string"
        },
        {
         "name": "PaperlessBilling",
         "rawType": "object",
         "type": "string"
        },
        {
         "name": "PaymentMethod",
         "rawType": "object",
         "type": "string"
        },
        {
         "name": "MonthlyCharges",
         "rawType": "float64",
         "type": "float"
        },
        {
         "name": "TotalCharges",
         "rawType": "float64",
         "type": "float"
        },
        {
         "name": "Churn",
         "rawType": "object",
         "type": "string"
        },
        {
         "name": "TenureYears",
         "rawType": "float64",
         "type": "float"
        },
        {
         "name": "TotalServices",
         "rawType": "int64",
         "type": "integer"
        },
        {
         "name": "ChurnBinary",
         "rawType": "int64",
         "type": "integer"
        },
        {
         "name": "Recency",
         "rawType": "float64",
         "type": "float"
        },
        {
         "name": "Frequency",
         "rawType": "int64",
         "type": "integer"
        },
        {
         "name": "Monetary",
         "rawType": "float64",
         "type": "float"
        },
        {
         "name": "R_Score",
         "rawType": "category",
         "type": "unknown"
        },
        {
         "name": "F_Score",
         "rawType": "category",
         "type": "unknown"
        },
        {
         "name": "M_Score",
         "rawType": "category",
         "type": "unknown"
        },
        {
         "name": "RFM_Score",
         "rawType": "object",
         "type": "string"
        },
        {
         "name": "RFM_Segment",
         "rawType": "object",
         "type": "string"
        },
        {
         "name": "Risk_Segment",
         "rawType": "object",
         "type": "string"
        }
       ],
       "ref": "0e854376-4560-4034-9e73-b6107e9b9269",
       "rows": [
        [
         "0",
         "Female",
         "0",
         "Yes",
         "No",
         "1.0",
         "No",
         "No",
         "DSL",
         "No",
         "Yes",
         "No",
         "No",
         "No",
         "No",
         "Month-to-month",
         "Yes",
         "Electronic check",
         "29.85",
         "29.85",
         "No",
         "0.0",
         "2",
         "0",
         "1.0",
         "2",
         "29.85",
         "1",
         "1",
         "1",
         "111",
         "At-Risk Newbies",
         "Medium-High Risk"
        ],
        [
         "1",
         "Male",
         "0",
         "No",
         "No",
         "34.0",
         "Yes",
         "No",
         "DSL",
         "Yes",
         "No",
         "Yes",
         "No",
         "No",
         "No",
         "One year",
         "No",
         "Mailed check",
         "56.95",
         "1889.5",
         "No",
         "2.0",
         "4",
         "0",
         "34.0",
         "4",
         "1889.5",
         "5",
         "3",
         "3",
         "533",
         "Loyal Customers",
         "Low Risk"
        ],
        [
         "2",
         "Male",
         "0",
         "No",
         "No",
         "2.0",
         "Yes",
         "No",
         "DSL",
         "Yes",
         "Yes",
         "No",
         "No",
         "No",
         "No",
         "Month-to-month",
         "Yes",
         "Mailed check",
         "53.85",
         "108.15",
         "Yes",
         "0.0",
         "4",
         "1",
         "2.0",
         "4",
         "108.15",
         "1",
         "3",
         "1",
         "131",
         "Average Customers",
         "Low Risk"
        ],
        [
         "3",
         "Male",
         "0",
         "No",
         "No",
         "45.0",
         "No",
         "No",
         "DSL",
         "Yes",
         "No",
         "Yes",
         "Yes",
         "No",
         "No",
         "One year",
         "No",
         "Bank transfer (automatic)",
         "42.3",
         "1840.75",
         "No",
         "3.0",
         "4",
         "0",
         "45.0",
         "4",
         "1840.75",
         "5",
         "3",
         "3",
         "533",
         "Loyal Customers",
         "Low Risk"
        ],
        [
         "4",
         "Female",
         "0",
         "No",
         "No",
         "2.0",
         "Yes",
         "No",
         "Fiber optic",
         "No",
         "No",
         "No",
         "No",
         "No",
         "No",
         "Month-to-month",
         "Yes",
         "Electronic check",
         "70.7",
         "151.65",
         "Yes",
         "0.0",
         "2",
         "1",
         "2.0",
         "2",
         "151.65",
         "1",
         "1",
         "1",
         "111",
         "At-Risk Newbies",
         "High Risk"
        ]
       ],
       "shape": {
        "columns": 32,
        "rows": 5
       }
      },
      "text/html": [
       "<div>\n",
       "<style scoped>\n",
       "    .dataframe tbody tr th:only-of-type {\n",
       "        vertical-align: middle;\n",
       "    }\n",
       "\n",
       "    .dataframe tbody tr th {\n",
       "        vertical-align: top;\n",
       "    }\n",
       "\n",
       "    .dataframe thead th {\n",
       "        text-align: right;\n",
       "    }\n",
       "</style>\n",
       "<table border=\"1\" class=\"dataframe\">\n",
       "  <thead>\n",
       "    <tr style=\"text-align: right;\">\n",
       "      <th></th>\n",
       "      <th>gender</th>\n",
       "      <th>SeniorCitizen</th>\n",
       "      <th>Partner</th>\n",
       "      <th>Dependents</th>\n",
       "      <th>tenure</th>\n",
       "      <th>PhoneService</th>\n",
       "      <th>MultipleLines</th>\n",
       "      <th>InternetService</th>\n",
       "      <th>OnlineSecurity</th>\n",
       "      <th>OnlineBackup</th>\n",
       "      <th>...</th>\n",
       "      <th>ChurnBinary</th>\n",
       "      <th>Recency</th>\n",
       "      <th>Frequency</th>\n",
       "      <th>Monetary</th>\n",
       "      <th>R_Score</th>\n",
       "      <th>F_Score</th>\n",
       "      <th>M_Score</th>\n",
       "      <th>RFM_Score</th>\n",
       "      <th>RFM_Segment</th>\n",
       "      <th>Risk_Segment</th>\n",
       "    </tr>\n",
       "  </thead>\n",
       "  <tbody>\n",
       "    <tr>\n",
       "      <th>0</th>\n",
       "      <td>Female</td>\n",
       "      <td>0</td>\n",
       "      <td>Yes</td>\n",
       "      <td>No</td>\n",
       "      <td>1.0</td>\n",
       "      <td>No</td>\n",
       "      <td>No</td>\n",
       "      <td>DSL</td>\n",
       "      <td>No</td>\n",
       "      <td>Yes</td>\n",
       "      <td>...</td>\n",
       "      <td>0</td>\n",
       "      <td>1.0</td>\n",
       "      <td>2</td>\n",
       "      <td>29.85</td>\n",
       "      <td>1</td>\n",
       "      <td>1</td>\n",
       "      <td>1</td>\n",
       "      <td>111</td>\n",
       "      <td>At-Risk Newbies</td>\n",
       "      <td>Medium-High Risk</td>\n",
       "    </tr>\n",
       "    <tr>\n",
       "      <th>1</th>\n",
       "      <td>Male</td>\n",
       "      <td>0</td>\n",
       "      <td>No</td>\n",
       "      <td>No</td>\n",
       "      <td>34.0</td>\n",
       "      <td>Yes</td>\n",
       "      <td>No</td>\n",
       "      <td>DSL</td>\n",
       "      <td>Yes</td>\n",
       "      <td>No</td>\n",
       "      <td>...</td>\n",
       "      <td>0</td>\n",
       "      <td>34.0</td>\n",
       "      <td>4</td>\n",
       "      <td>1889.50</td>\n",
       "      <td>5</td>\n",
       "      <td>3</td>\n",
       "      <td>3</td>\n",
       "      <td>533</td>\n",
       "      <td>Loyal Customers</td>\n",
       "      <td>Low Risk</td>\n",
       "    </tr>\n",
       "    <tr>\n",
       "      <th>2</th>\n",
       "      <td>Male</td>\n",
       "      <td>0</td>\n",
       "      <td>No</td>\n",
       "      <td>No</td>\n",
       "      <td>2.0</td>\n",
       "      <td>Yes</td>\n",
       "      <td>No</td>\n",
       "      <td>DSL</td>\n",
       "      <td>Yes</td>\n",
       "      <td>Yes</td>\n",
       "      <td>...</td>\n",
       "      <td>1</td>\n",
       "      <td>2.0</td>\n",
       "      <td>4</td>\n",
       "      <td>108.15</td>\n",
       "      <td>1</td>\n",
       "      <td>3</td>\n",
       "      <td>1</td>\n",
       "      <td>131</td>\n",
       "      <td>Average Customers</td>\n",
       "      <td>Low Risk</td>\n",
       "    </tr>\n",
       "    <tr>\n",
       "      <th>3</th>\n",
       "      <td>Male</td>\n",
       "      <td>0</td>\n",
       "      <td>No</td>\n",
       "      <td>No</td>\n",
       "      <td>45.0</td>\n",
       "      <td>No</td>\n",
       "      <td>No</td>\n",
       "      <td>DSL</td>\n",
       "      <td>Yes</td>\n",
       "      <td>No</td>\n",
       "      <td>...</td>\n",
       "      <td>0</td>\n",
       "      <td>45.0</td>\n",
       "      <td>4</td>\n",
       "      <td>1840.75</td>\n",
       "      <td>5</td>\n",
       "      <td>3</td>\n",
       "      <td>3</td>\n",
       "      <td>533</td>\n",
       "      <td>Loyal Customers</td>\n",
       "      <td>Low Risk</td>\n",
       "    </tr>\n",
       "    <tr>\n",
       "      <th>4</th>\n",
       "      <td>Female</td>\n",
       "      <td>0</td>\n",
       "      <td>No</td>\n",
       "      <td>No</td>\n",
       "      <td>2.0</td>\n",
       "      <td>Yes</td>\n",
       "      <td>No</td>\n",
       "      <td>Fiber optic</td>\n",
       "      <td>No</td>\n",
       "      <td>No</td>\n",
       "      <td>...</td>\n",
       "      <td>1</td>\n",
       "      <td>2.0</td>\n",
       "      <td>2</td>\n",
       "      <td>151.65</td>\n",
       "      <td>1</td>\n",
       "      <td>1</td>\n",
       "      <td>1</td>\n",
       "      <td>111</td>\n",
       "      <td>At-Risk Newbies</td>\n",
       "      <td>High Risk</td>\n",
       "    </tr>\n",
       "  </tbody>\n",
       "</table>\n",
       "<p>5 rows × 32 columns</p>\n",
       "</div>"
      ],
      "text/plain": [
       "   gender  SeniorCitizen Partner Dependents  tenure PhoneService  \\\n",
       "0  Female              0     Yes         No     1.0           No   \n",
       "1    Male              0      No         No    34.0          Yes   \n",
       "2    Male              0      No         No     2.0          Yes   \n",
       "3    Male              0      No         No    45.0           No   \n",
       "4  Female              0      No         No     2.0          Yes   \n",
       "\n",
       "  MultipleLines InternetService OnlineSecurity OnlineBackup  ... ChurnBinary  \\\n",
       "0            No             DSL             No          Yes  ...           0   \n",
       "1            No             DSL            Yes           No  ...           0   \n",
       "2            No             DSL            Yes          Yes  ...           1   \n",
       "3            No             DSL            Yes           No  ...           0   \n",
       "4            No     Fiber optic             No           No  ...           1   \n",
       "\n",
       "  Recency Frequency Monetary R_Score F_Score M_Score  RFM_Score  \\\n",
       "0     1.0         2    29.85       1       1       1        111   \n",
       "1    34.0         4  1889.50       5       3       3        533   \n",
       "2     2.0         4   108.15       1       3       1        131   \n",
       "3    45.0         4  1840.75       5       3       3        533   \n",
       "4     2.0         2   151.65       1       1       1        111   \n",
       "\n",
       "         RFM_Segment      Risk_Segment  \n",
       "0    At-Risk Newbies  Medium-High Risk  \n",
       "1    Loyal Customers          Low Risk  \n",
       "2  Average Customers          Low Risk  \n",
       "3    Loyal Customers          Low Risk  \n",
       "4    At-Risk Newbies         High Risk  \n",
       "\n",
       "[5 rows x 32 columns]"
      ]
     },
     "execution_count": 106,
     "metadata": {},
     "output_type": "execute_result"
    }
   ],
   "source": [
    "telco.head()"
   ]
  }
 ],
 "metadata": {
  "kernelspec": {
   "display_name": "Python 3",
   "language": "python",
   "name": "python3"
  },
  "language_info": {
   "codemirror_mode": {
    "name": "ipython",
    "version": 3
   },
   "file_extension": ".py",
   "mimetype": "text/x-python",
   "name": "python",
   "nbconvert_exporter": "python",
   "pygments_lexer": "ipython3",
   "version": "3.13.2"
  }
 },
 "nbformat": 4,
 "nbformat_minor": 5
}
