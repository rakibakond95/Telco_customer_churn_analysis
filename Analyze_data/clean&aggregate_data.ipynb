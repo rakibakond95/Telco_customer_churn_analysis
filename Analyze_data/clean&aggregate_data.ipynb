{
 "cells": [
  {
   "cell_type": "markdown",
   "id": "e916b4ca",
   "metadata": {},
   "source": [
    "## Importing the essential libraries"
   ]
  },
  {
   "cell_type": "code",
   "execution_count": 2,
   "id": "21899ef2",
   "metadata": {},
   "outputs": [],
   "source": [
    "#importing essential libraries\n",
    "import pandas as pd\n",
    "import numpy as np\n",
    "import seaborn as sns\n",
    "import matplotlib.pyplot as plt\n",
    "import sqlite3\n",
    "from sqlalchemy import create_engine\n",
    "\n",
    "# Set display options to show all columns and rows of a DataFrame\n",
    "pd.set_option(\"display.max_column\", None)\n",
    "pd.set_option(\"display.max_rows\", None)\n",
    "\n",
    "# Set the float formatting to show three decimal places\n",
    "pd.set_option(\"display.float_format\", lambda x: \"%.3f\" % x)"
   ]
  },
  {
   "cell_type": "markdown",
   "id": "8d0a7100",
   "metadata": {},
   "source": [
    "## Loading the file"
   ]
  },
  {
   "cell_type": "code",
   "execution_count": 3,
   "id": "fbe395b3",
   "metadata": {},
   "outputs": [],
   "source": [
    "#Loading the dataset\n",
    "\n",
    "telco= pd.read_csv('../data/telco_customer_churn.csv')"
   ]
  },
  {
   "cell_type": "code",
   "execution_count": 4,
   "id": "e4cd9bf7",
   "metadata": {},
   "outputs": [],
   "source": [
    "telco_copy=telco.copy()\n",
    "telco.to_csv('../data/telco_customer_churn_copy.csv', index=False)"
   ]
  },
  {
   "cell_type": "code",
   "execution_count": 5,
   "id": "ed358756",
   "metadata": {},
   "outputs": [
    {
     "data": {
      "application/vnd.microsoft.datawrangler.viewer.v0+json": {
       "columns": [
        {
         "name": "index",
         "rawType": "int64",
         "type": "integer"
        },
        {
         "name": "customerID",
         "rawType": "object",
         "type": "string"
        },
        {
         "name": "gender",
         "rawType": "object",
         "type": "string"
        },
        {
         "name": "SeniorCitizen",
         "rawType": "int64",
         "type": "integer"
        },
        {
         "name": "Partner",
         "rawType": "object",
         "type": "string"
        },
        {
         "name": "Dependents",
         "rawType": "object",
         "type": "string"
        },
        {
         "name": "tenure",
         "rawType": "int64",
         "type": "integer"
        },
        {
         "name": "PhoneService",
         "rawType": "object",
         "type": "string"
        },
        {
         "name": "MultipleLines",
         "rawType": "object",
         "type": "string"
        },
        {
         "name": "InternetService",
         "rawType": "object",
         "type": "string"
        },
        {
         "name": "OnlineSecurity",
         "rawType": "object",
         "type": "string"
        },
        {
         "name": "OnlineBackup",
         "rawType": "object",
         "type": "string"
        },
        {
         "name": "DeviceProtection",
         "rawType": "object",
         "type": "string"
        },
        {
         "name": "TechSupport",
         "rawType": "object",
         "type": "string"
        },
        {
         "name": "StreamingTV",
         "rawType": "object",
         "type": "string"
        },
        {
         "name": "StreamingMovies",
         "rawType": "object",
         "type": "string"
        },
        {
         "name": "Contract",
         "rawType": "object",
         "type": "string"
        },
        {
         "name": "PaperlessBilling",
         "rawType": "object",
         "type": "string"
        },
        {
         "name": "PaymentMethod",
         "rawType": "object",
         "type": "string"
        },
        {
         "name": "MonthlyCharges",
         "rawType": "float64",
         "type": "float"
        },
        {
         "name": "TotalCharges",
         "rawType": "object",
         "type": "string"
        },
        {
         "name": "Churn",
         "rawType": "object",
         "type": "string"
        }
       ],
       "ref": "e6d373f1-44df-4f3f-af80-deb1fa33c4ff",
       "rows": [
        [
         "0",
         "7590-VHVEG",
         "Female",
         "0",
         "Yes",
         "No",
         "1",
         "No",
         "No phone service",
         "DSL",
         "No",
         "Yes",
         "No",
         "No",
         "No",
         "No",
         "Month-to-month",
         "Yes",
         "Electronic check",
         "29.85",
         "29.85",
         "No"
        ],
        [
         "1",
         "5575-GNVDE",
         "Male",
         "0",
         "No",
         "No",
         "34",
         "Yes",
         "No",
         "DSL",
         "Yes",
         "No",
         "Yes",
         "No",
         "No",
         "No",
         "One year",
         "No",
         "Mailed check",
         "56.95",
         "1889.5",
         "No"
        ],
        [
         "2",
         "3668-QPYBK",
         "Male",
         "0",
         "No",
         "No",
         "2",
         "Yes",
         "No",
         "DSL",
         "Yes",
         "Yes",
         "No",
         "No",
         "No",
         "No",
         "Month-to-month",
         "Yes",
         "Mailed check",
         "53.85",
         "108.15",
         "Yes"
        ],
        [
         "3",
         "7795-CFOCW",
         "Male",
         "0",
         "No",
         "No",
         "45",
         "No",
         "No phone service",
         "DSL",
         "Yes",
         "No",
         "Yes",
         "Yes",
         "No",
         "No",
         "One year",
         "No",
         "Bank transfer (automatic)",
         "42.3",
         "1840.75",
         "No"
        ],
        [
         "4",
         "9237-HQITU",
         "Female",
         "0",
         "No",
         "No",
         "2",
         "Yes",
         "No",
         "Fiber optic",
         "No",
         "No",
         "No",
         "No",
         "No",
         "No",
         "Month-to-month",
         "Yes",
         "Electronic check",
         "70.7",
         "151.65",
         "Yes"
        ],
        [
         "5",
         "9305-CDSKC",
         "Female",
         "0",
         "No",
         "No",
         "8",
         "Yes",
         "Yes",
         "Fiber optic",
         "No",
         "No",
         "Yes",
         "No",
         "Yes",
         "Yes",
         "Month-to-month",
         "Yes",
         "Electronic check",
         "99.65",
         "820.5",
         "Yes"
        ],
        [
         "6",
         "1452-KIOVK",
         "Male",
         "0",
         "No",
         "Yes",
         "22",
         "Yes",
         "Yes",
         "Fiber optic",
         "No",
         "Yes",
         "No",
         "No",
         "Yes",
         "No",
         "Month-to-month",
         "Yes",
         "Credit card (automatic)",
         "89.1",
         "1949.4",
         "No"
        ],
        [
         "7",
         "6713-OKOMC",
         "Female",
         "0",
         "No",
         "No",
         "10",
         "No",
         "No phone service",
         "DSL",
         "Yes",
         "No",
         "No",
         "No",
         "No",
         "No",
         "Month-to-month",
         "No",
         "Mailed check",
         "29.75",
         "301.9",
         "No"
        ],
        [
         "8",
         "7892-POOKP",
         "Female",
         "0",
         "Yes",
         "No",
         "28",
         "Yes",
         "Yes",
         "Fiber optic",
         "No",
         "No",
         "Yes",
         "Yes",
         "Yes",
         "Yes",
         "Month-to-month",
         "Yes",
         "Electronic check",
         "104.8",
         "3046.05",
         "Yes"
        ],
        [
         "9",
         "6388-TABGU",
         "Male",
         "0",
         "No",
         "Yes",
         "62",
         "Yes",
         "No",
         "DSL",
         "Yes",
         "Yes",
         "No",
         "No",
         "No",
         "No",
         "One year",
         "No",
         "Bank transfer (automatic)",
         "56.15",
         "3487.95",
         "No"
        ],
        [
         "10",
         "9763-GRSKD",
         "Male",
         "0",
         "Yes",
         "Yes",
         "13",
         "Yes",
         "No",
         "DSL",
         "Yes",
         "No",
         "No",
         "No",
         "No",
         "No",
         "Month-to-month",
         "Yes",
         "Mailed check",
         "49.95",
         "587.45",
         "No"
        ],
        [
         "11",
         "7469-LKBCI",
         "Male",
         "0",
         "No",
         "No",
         "16",
         "Yes",
         "No",
         "No",
         "No internet service",
         "No internet service",
         "No internet service",
         "No internet service",
         "No internet service",
         "No internet service",
         "Two year",
         "No",
         "Credit card (automatic)",
         "18.95",
         "326.8",
         "No"
        ],
        [
         "12",
         "8091-TTVAX",
         "Male",
         "0",
         "Yes",
         "No",
         "58",
         "Yes",
         "Yes",
         "Fiber optic",
         "No",
         "No",
         "Yes",
         "No",
         "Yes",
         "Yes",
         "One year",
         "No",
         "Credit card (automatic)",
         "100.35",
         "5681.1",
         "No"
        ],
        [
         "13",
         "0280-XJGEX",
         "Male",
         "0",
         "No",
         "No",
         "49",
         "Yes",
         "Yes",
         "Fiber optic",
         "No",
         "Yes",
         "Yes",
         "No",
         "Yes",
         "Yes",
         "Month-to-month",
         "Yes",
         "Bank transfer (automatic)",
         "103.7",
         "5036.3",
         "Yes"
        ],
        [
         "14",
         "5129-JLPIS",
         "Male",
         "0",
         "No",
         "No",
         "25",
         "Yes",
         "No",
         "Fiber optic",
         "Yes",
         "No",
         "Yes",
         "Yes",
         "Yes",
         "Yes",
         "Month-to-month",
         "Yes",
         "Electronic check",
         "105.5",
         "2686.05",
         "No"
        ],
        [
         "15",
         "3655-SNQYZ",
         "Female",
         "0",
         "Yes",
         "Yes",
         "69",
         "Yes",
         "Yes",
         "Fiber optic",
         "Yes",
         "Yes",
         "Yes",
         "Yes",
         "Yes",
         "Yes",
         "Two year",
         "No",
         "Credit card (automatic)",
         "113.25",
         "7895.15",
         "No"
        ],
        [
         "16",
         "8191-XWSZG",
         "Female",
         "0",
         "No",
         "No",
         "52",
         "Yes",
         "No",
         "No",
         "No internet service",
         "No internet service",
         "No internet service",
         "No internet service",
         "No internet service",
         "No internet service",
         "One year",
         "No",
         "Mailed check",
         "20.65",
         "1022.95",
         "No"
        ],
        [
         "17",
         "9959-WOFKT",
         "Male",
         "0",
         "No",
         "Yes",
         "71",
         "Yes",
         "Yes",
         "Fiber optic",
         "Yes",
         "No",
         "Yes",
         "No",
         "Yes",
         "Yes",
         "Two year",
         "No",
         "Bank transfer (automatic)",
         "106.7",
         "7382.25",
         "No"
        ],
        [
         "18",
         "4190-MFLUW",
         "Female",
         "0",
         "Yes",
         "Yes",
         "10",
         "Yes",
         "No",
         "DSL",
         "No",
         "No",
         "Yes",
         "Yes",
         "No",
         "No",
         "Month-to-month",
         "No",
         "Credit card (automatic)",
         "55.2",
         "528.35",
         "Yes"
        ],
        [
         "19",
         "4183-MYFRB",
         "Female",
         "0",
         "No",
         "No",
         "21",
         "Yes",
         "No",
         "Fiber optic",
         "No",
         "Yes",
         "Yes",
         "No",
         "No",
         "Yes",
         "Month-to-month",
         "Yes",
         "Electronic check",
         "90.05",
         "1862.9",
         "No"
        ]
       ],
       "shape": {
        "columns": 21,
        "rows": 20
       }
      },
      "text/html": [
       "<div>\n",
       "<style scoped>\n",
       "    .dataframe tbody tr th:only-of-type {\n",
       "        vertical-align: middle;\n",
       "    }\n",
       "\n",
       "    .dataframe tbody tr th {\n",
       "        vertical-align: top;\n",
       "    }\n",
       "\n",
       "    .dataframe thead th {\n",
       "        text-align: right;\n",
       "    }\n",
       "</style>\n",
       "<table border=\"1\" class=\"dataframe\">\n",
       "  <thead>\n",
       "    <tr style=\"text-align: right;\">\n",
       "      <th></th>\n",
       "      <th>customerID</th>\n",
       "      <th>gender</th>\n",
       "      <th>SeniorCitizen</th>\n",
       "      <th>Partner</th>\n",
       "      <th>Dependents</th>\n",
       "      <th>tenure</th>\n",
       "      <th>PhoneService</th>\n",
       "      <th>MultipleLines</th>\n",
       "      <th>InternetService</th>\n",
       "      <th>OnlineSecurity</th>\n",
       "      <th>OnlineBackup</th>\n",
       "      <th>DeviceProtection</th>\n",
       "      <th>TechSupport</th>\n",
       "      <th>StreamingTV</th>\n",
       "      <th>StreamingMovies</th>\n",
       "      <th>Contract</th>\n",
       "      <th>PaperlessBilling</th>\n",
       "      <th>PaymentMethod</th>\n",
       "      <th>MonthlyCharges</th>\n",
       "      <th>TotalCharges</th>\n",
       "      <th>Churn</th>\n",
       "    </tr>\n",
       "  </thead>\n",
       "  <tbody>\n",
       "    <tr>\n",
       "      <th>0</th>\n",
       "      <td>7590-VHVEG</td>\n",
       "      <td>Female</td>\n",
       "      <td>0</td>\n",
       "      <td>Yes</td>\n",
       "      <td>No</td>\n",
       "      <td>1</td>\n",
       "      <td>No</td>\n",
       "      <td>No phone service</td>\n",
       "      <td>DSL</td>\n",
       "      <td>No</td>\n",
       "      <td>Yes</td>\n",
       "      <td>No</td>\n",
       "      <td>No</td>\n",
       "      <td>No</td>\n",
       "      <td>No</td>\n",
       "      <td>Month-to-month</td>\n",
       "      <td>Yes</td>\n",
       "      <td>Electronic check</td>\n",
       "      <td>29.850</td>\n",
       "      <td>29.85</td>\n",
       "      <td>No</td>\n",
       "    </tr>\n",
       "    <tr>\n",
       "      <th>1</th>\n",
       "      <td>5575-GNVDE</td>\n",
       "      <td>Male</td>\n",
       "      <td>0</td>\n",
       "      <td>No</td>\n",
       "      <td>No</td>\n",
       "      <td>34</td>\n",
       "      <td>Yes</td>\n",
       "      <td>No</td>\n",
       "      <td>DSL</td>\n",
       "      <td>Yes</td>\n",
       "      <td>No</td>\n",
       "      <td>Yes</td>\n",
       "      <td>No</td>\n",
       "      <td>No</td>\n",
       "      <td>No</td>\n",
       "      <td>One year</td>\n",
       "      <td>No</td>\n",
       "      <td>Mailed check</td>\n",
       "      <td>56.950</td>\n",
       "      <td>1889.5</td>\n",
       "      <td>No</td>\n",
       "    </tr>\n",
       "    <tr>\n",
       "      <th>2</th>\n",
       "      <td>3668-QPYBK</td>\n",
       "      <td>Male</td>\n",
       "      <td>0</td>\n",
       "      <td>No</td>\n",
       "      <td>No</td>\n",
       "      <td>2</td>\n",
       "      <td>Yes</td>\n",
       "      <td>No</td>\n",
       "      <td>DSL</td>\n",
       "      <td>Yes</td>\n",
       "      <td>Yes</td>\n",
       "      <td>No</td>\n",
       "      <td>No</td>\n",
       "      <td>No</td>\n",
       "      <td>No</td>\n",
       "      <td>Month-to-month</td>\n",
       "      <td>Yes</td>\n",
       "      <td>Mailed check</td>\n",
       "      <td>53.850</td>\n",
       "      <td>108.15</td>\n",
       "      <td>Yes</td>\n",
       "    </tr>\n",
       "    <tr>\n",
       "      <th>3</th>\n",
       "      <td>7795-CFOCW</td>\n",
       "      <td>Male</td>\n",
       "      <td>0</td>\n",
       "      <td>No</td>\n",
       "      <td>No</td>\n",
       "      <td>45</td>\n",
       "      <td>No</td>\n",
       "      <td>No phone service</td>\n",
       "      <td>DSL</td>\n",
       "      <td>Yes</td>\n",
       "      <td>No</td>\n",
       "      <td>Yes</td>\n",
       "      <td>Yes</td>\n",
       "      <td>No</td>\n",
       "      <td>No</td>\n",
       "      <td>One year</td>\n",
       "      <td>No</td>\n",
       "      <td>Bank transfer (automatic)</td>\n",
       "      <td>42.300</td>\n",
       "      <td>1840.75</td>\n",
       "      <td>No</td>\n",
       "    </tr>\n",
       "    <tr>\n",
       "      <th>4</th>\n",
       "      <td>9237-HQITU</td>\n",
       "      <td>Female</td>\n",
       "      <td>0</td>\n",
       "      <td>No</td>\n",
       "      <td>No</td>\n",
       "      <td>2</td>\n",
       "      <td>Yes</td>\n",
       "      <td>No</td>\n",
       "      <td>Fiber optic</td>\n",
       "      <td>No</td>\n",
       "      <td>No</td>\n",
       "      <td>No</td>\n",
       "      <td>No</td>\n",
       "      <td>No</td>\n",
       "      <td>No</td>\n",
       "      <td>Month-to-month</td>\n",
       "      <td>Yes</td>\n",
       "      <td>Electronic check</td>\n",
       "      <td>70.700</td>\n",
       "      <td>151.65</td>\n",
       "      <td>Yes</td>\n",
       "    </tr>\n",
       "    <tr>\n",
       "      <th>5</th>\n",
       "      <td>9305-CDSKC</td>\n",
       "      <td>Female</td>\n",
       "      <td>0</td>\n",
       "      <td>No</td>\n",
       "      <td>No</td>\n",
       "      <td>8</td>\n",
       "      <td>Yes</td>\n",
       "      <td>Yes</td>\n",
       "      <td>Fiber optic</td>\n",
       "      <td>No</td>\n",
       "      <td>No</td>\n",
       "      <td>Yes</td>\n",
       "      <td>No</td>\n",
       "      <td>Yes</td>\n",
       "      <td>Yes</td>\n",
       "      <td>Month-to-month</td>\n",
       "      <td>Yes</td>\n",
       "      <td>Electronic check</td>\n",
       "      <td>99.650</td>\n",
       "      <td>820.5</td>\n",
       "      <td>Yes</td>\n",
       "    </tr>\n",
       "    <tr>\n",
       "      <th>6</th>\n",
       "      <td>1452-KIOVK</td>\n",
       "      <td>Male</td>\n",
       "      <td>0</td>\n",
       "      <td>No</td>\n",
       "      <td>Yes</td>\n",
       "      <td>22</td>\n",
       "      <td>Yes</td>\n",
       "      <td>Yes</td>\n",
       "      <td>Fiber optic</td>\n",
       "      <td>No</td>\n",
       "      <td>Yes</td>\n",
       "      <td>No</td>\n",
       "      <td>No</td>\n",
       "      <td>Yes</td>\n",
       "      <td>No</td>\n",
       "      <td>Month-to-month</td>\n",
       "      <td>Yes</td>\n",
       "      <td>Credit card (automatic)</td>\n",
       "      <td>89.100</td>\n",
       "      <td>1949.4</td>\n",
       "      <td>No</td>\n",
       "    </tr>\n",
       "    <tr>\n",
       "      <th>7</th>\n",
       "      <td>6713-OKOMC</td>\n",
       "      <td>Female</td>\n",
       "      <td>0</td>\n",
       "      <td>No</td>\n",
       "      <td>No</td>\n",
       "      <td>10</td>\n",
       "      <td>No</td>\n",
       "      <td>No phone service</td>\n",
       "      <td>DSL</td>\n",
       "      <td>Yes</td>\n",
       "      <td>No</td>\n",
       "      <td>No</td>\n",
       "      <td>No</td>\n",
       "      <td>No</td>\n",
       "      <td>No</td>\n",
       "      <td>Month-to-month</td>\n",
       "      <td>No</td>\n",
       "      <td>Mailed check</td>\n",
       "      <td>29.750</td>\n",
       "      <td>301.9</td>\n",
       "      <td>No</td>\n",
       "    </tr>\n",
       "    <tr>\n",
       "      <th>8</th>\n",
       "      <td>7892-POOKP</td>\n",
       "      <td>Female</td>\n",
       "      <td>0</td>\n",
       "      <td>Yes</td>\n",
       "      <td>No</td>\n",
       "      <td>28</td>\n",
       "      <td>Yes</td>\n",
       "      <td>Yes</td>\n",
       "      <td>Fiber optic</td>\n",
       "      <td>No</td>\n",
       "      <td>No</td>\n",
       "      <td>Yes</td>\n",
       "      <td>Yes</td>\n",
       "      <td>Yes</td>\n",
       "      <td>Yes</td>\n",
       "      <td>Month-to-month</td>\n",
       "      <td>Yes</td>\n",
       "      <td>Electronic check</td>\n",
       "      <td>104.800</td>\n",
       "      <td>3046.05</td>\n",
       "      <td>Yes</td>\n",
       "    </tr>\n",
       "    <tr>\n",
       "      <th>9</th>\n",
       "      <td>6388-TABGU</td>\n",
       "      <td>Male</td>\n",
       "      <td>0</td>\n",
       "      <td>No</td>\n",
       "      <td>Yes</td>\n",
       "      <td>62</td>\n",
       "      <td>Yes</td>\n",
       "      <td>No</td>\n",
       "      <td>DSL</td>\n",
       "      <td>Yes</td>\n",
       "      <td>Yes</td>\n",
       "      <td>No</td>\n",
       "      <td>No</td>\n",
       "      <td>No</td>\n",
       "      <td>No</td>\n",
       "      <td>One year</td>\n",
       "      <td>No</td>\n",
       "      <td>Bank transfer (automatic)</td>\n",
       "      <td>56.150</td>\n",
       "      <td>3487.95</td>\n",
       "      <td>No</td>\n",
       "    </tr>\n",
       "    <tr>\n",
       "      <th>10</th>\n",
       "      <td>9763-GRSKD</td>\n",
       "      <td>Male</td>\n",
       "      <td>0</td>\n",
       "      <td>Yes</td>\n",
       "      <td>Yes</td>\n",
       "      <td>13</td>\n",
       "      <td>Yes</td>\n",
       "      <td>No</td>\n",
       "      <td>DSL</td>\n",
       "      <td>Yes</td>\n",
       "      <td>No</td>\n",
       "      <td>No</td>\n",
       "      <td>No</td>\n",
       "      <td>No</td>\n",
       "      <td>No</td>\n",
       "      <td>Month-to-month</td>\n",
       "      <td>Yes</td>\n",
       "      <td>Mailed check</td>\n",
       "      <td>49.950</td>\n",
       "      <td>587.45</td>\n",
       "      <td>No</td>\n",
       "    </tr>\n",
       "    <tr>\n",
       "      <th>11</th>\n",
       "      <td>7469-LKBCI</td>\n",
       "      <td>Male</td>\n",
       "      <td>0</td>\n",
       "      <td>No</td>\n",
       "      <td>No</td>\n",
       "      <td>16</td>\n",
       "      <td>Yes</td>\n",
       "      <td>No</td>\n",
       "      <td>No</td>\n",
       "      <td>No internet service</td>\n",
       "      <td>No internet service</td>\n",
       "      <td>No internet service</td>\n",
       "      <td>No internet service</td>\n",
       "      <td>No internet service</td>\n",
       "      <td>No internet service</td>\n",
       "      <td>Two year</td>\n",
       "      <td>No</td>\n",
       "      <td>Credit card (automatic)</td>\n",
       "      <td>18.950</td>\n",
       "      <td>326.8</td>\n",
       "      <td>No</td>\n",
       "    </tr>\n",
       "    <tr>\n",
       "      <th>12</th>\n",
       "      <td>8091-TTVAX</td>\n",
       "      <td>Male</td>\n",
       "      <td>0</td>\n",
       "      <td>Yes</td>\n",
       "      <td>No</td>\n",
       "      <td>58</td>\n",
       "      <td>Yes</td>\n",
       "      <td>Yes</td>\n",
       "      <td>Fiber optic</td>\n",
       "      <td>No</td>\n",
       "      <td>No</td>\n",
       "      <td>Yes</td>\n",
       "      <td>No</td>\n",
       "      <td>Yes</td>\n",
       "      <td>Yes</td>\n",
       "      <td>One year</td>\n",
       "      <td>No</td>\n",
       "      <td>Credit card (automatic)</td>\n",
       "      <td>100.350</td>\n",
       "      <td>5681.1</td>\n",
       "      <td>No</td>\n",
       "    </tr>\n",
       "    <tr>\n",
       "      <th>13</th>\n",
       "      <td>0280-XJGEX</td>\n",
       "      <td>Male</td>\n",
       "      <td>0</td>\n",
       "      <td>No</td>\n",
       "      <td>No</td>\n",
       "      <td>49</td>\n",
       "      <td>Yes</td>\n",
       "      <td>Yes</td>\n",
       "      <td>Fiber optic</td>\n",
       "      <td>No</td>\n",
       "      <td>Yes</td>\n",
       "      <td>Yes</td>\n",
       "      <td>No</td>\n",
       "      <td>Yes</td>\n",
       "      <td>Yes</td>\n",
       "      <td>Month-to-month</td>\n",
       "      <td>Yes</td>\n",
       "      <td>Bank transfer (automatic)</td>\n",
       "      <td>103.700</td>\n",
       "      <td>5036.3</td>\n",
       "      <td>Yes</td>\n",
       "    </tr>\n",
       "    <tr>\n",
       "      <th>14</th>\n",
       "      <td>5129-JLPIS</td>\n",
       "      <td>Male</td>\n",
       "      <td>0</td>\n",
       "      <td>No</td>\n",
       "      <td>No</td>\n",
       "      <td>25</td>\n",
       "      <td>Yes</td>\n",
       "      <td>No</td>\n",
       "      <td>Fiber optic</td>\n",
       "      <td>Yes</td>\n",
       "      <td>No</td>\n",
       "      <td>Yes</td>\n",
       "      <td>Yes</td>\n",
       "      <td>Yes</td>\n",
       "      <td>Yes</td>\n",
       "      <td>Month-to-month</td>\n",
       "      <td>Yes</td>\n",
       "      <td>Electronic check</td>\n",
       "      <td>105.500</td>\n",
       "      <td>2686.05</td>\n",
       "      <td>No</td>\n",
       "    </tr>\n",
       "    <tr>\n",
       "      <th>15</th>\n",
       "      <td>3655-SNQYZ</td>\n",
       "      <td>Female</td>\n",
       "      <td>0</td>\n",
       "      <td>Yes</td>\n",
       "      <td>Yes</td>\n",
       "      <td>69</td>\n",
       "      <td>Yes</td>\n",
       "      <td>Yes</td>\n",
       "      <td>Fiber optic</td>\n",
       "      <td>Yes</td>\n",
       "      <td>Yes</td>\n",
       "      <td>Yes</td>\n",
       "      <td>Yes</td>\n",
       "      <td>Yes</td>\n",
       "      <td>Yes</td>\n",
       "      <td>Two year</td>\n",
       "      <td>No</td>\n",
       "      <td>Credit card (automatic)</td>\n",
       "      <td>113.250</td>\n",
       "      <td>7895.15</td>\n",
       "      <td>No</td>\n",
       "    </tr>\n",
       "    <tr>\n",
       "      <th>16</th>\n",
       "      <td>8191-XWSZG</td>\n",
       "      <td>Female</td>\n",
       "      <td>0</td>\n",
       "      <td>No</td>\n",
       "      <td>No</td>\n",
       "      <td>52</td>\n",
       "      <td>Yes</td>\n",
       "      <td>No</td>\n",
       "      <td>No</td>\n",
       "      <td>No internet service</td>\n",
       "      <td>No internet service</td>\n",
       "      <td>No internet service</td>\n",
       "      <td>No internet service</td>\n",
       "      <td>No internet service</td>\n",
       "      <td>No internet service</td>\n",
       "      <td>One year</td>\n",
       "      <td>No</td>\n",
       "      <td>Mailed check</td>\n",
       "      <td>20.650</td>\n",
       "      <td>1022.95</td>\n",
       "      <td>No</td>\n",
       "    </tr>\n",
       "    <tr>\n",
       "      <th>17</th>\n",
       "      <td>9959-WOFKT</td>\n",
       "      <td>Male</td>\n",
       "      <td>0</td>\n",
       "      <td>No</td>\n",
       "      <td>Yes</td>\n",
       "      <td>71</td>\n",
       "      <td>Yes</td>\n",
       "      <td>Yes</td>\n",
       "      <td>Fiber optic</td>\n",
       "      <td>Yes</td>\n",
       "      <td>No</td>\n",
       "      <td>Yes</td>\n",
       "      <td>No</td>\n",
       "      <td>Yes</td>\n",
       "      <td>Yes</td>\n",
       "      <td>Two year</td>\n",
       "      <td>No</td>\n",
       "      <td>Bank transfer (automatic)</td>\n",
       "      <td>106.700</td>\n",
       "      <td>7382.25</td>\n",
       "      <td>No</td>\n",
       "    </tr>\n",
       "    <tr>\n",
       "      <th>18</th>\n",
       "      <td>4190-MFLUW</td>\n",
       "      <td>Female</td>\n",
       "      <td>0</td>\n",
       "      <td>Yes</td>\n",
       "      <td>Yes</td>\n",
       "      <td>10</td>\n",
       "      <td>Yes</td>\n",
       "      <td>No</td>\n",
       "      <td>DSL</td>\n",
       "      <td>No</td>\n",
       "      <td>No</td>\n",
       "      <td>Yes</td>\n",
       "      <td>Yes</td>\n",
       "      <td>No</td>\n",
       "      <td>No</td>\n",
       "      <td>Month-to-month</td>\n",
       "      <td>No</td>\n",
       "      <td>Credit card (automatic)</td>\n",
       "      <td>55.200</td>\n",
       "      <td>528.35</td>\n",
       "      <td>Yes</td>\n",
       "    </tr>\n",
       "    <tr>\n",
       "      <th>19</th>\n",
       "      <td>4183-MYFRB</td>\n",
       "      <td>Female</td>\n",
       "      <td>0</td>\n",
       "      <td>No</td>\n",
       "      <td>No</td>\n",
       "      <td>21</td>\n",
       "      <td>Yes</td>\n",
       "      <td>No</td>\n",
       "      <td>Fiber optic</td>\n",
       "      <td>No</td>\n",
       "      <td>Yes</td>\n",
       "      <td>Yes</td>\n",
       "      <td>No</td>\n",
       "      <td>No</td>\n",
       "      <td>Yes</td>\n",
       "      <td>Month-to-month</td>\n",
       "      <td>Yes</td>\n",
       "      <td>Electronic check</td>\n",
       "      <td>90.050</td>\n",
       "      <td>1862.9</td>\n",
       "      <td>No</td>\n",
       "    </tr>\n",
       "  </tbody>\n",
       "</table>\n",
       "</div>"
      ],
      "text/plain": [
       "    customerID  gender  SeniorCitizen Partner Dependents  tenure PhoneService  \\\n",
       "0   7590-VHVEG  Female              0     Yes         No       1           No   \n",
       "1   5575-GNVDE    Male              0      No         No      34          Yes   \n",
       "2   3668-QPYBK    Male              0      No         No       2          Yes   \n",
       "3   7795-CFOCW    Male              0      No         No      45           No   \n",
       "4   9237-HQITU  Female              0      No         No       2          Yes   \n",
       "5   9305-CDSKC  Female              0      No         No       8          Yes   \n",
       "6   1452-KIOVK    Male              0      No        Yes      22          Yes   \n",
       "7   6713-OKOMC  Female              0      No         No      10           No   \n",
       "8   7892-POOKP  Female              0     Yes         No      28          Yes   \n",
       "9   6388-TABGU    Male              0      No        Yes      62          Yes   \n",
       "10  9763-GRSKD    Male              0     Yes        Yes      13          Yes   \n",
       "11  7469-LKBCI    Male              0      No         No      16          Yes   \n",
       "12  8091-TTVAX    Male              0     Yes         No      58          Yes   \n",
       "13  0280-XJGEX    Male              0      No         No      49          Yes   \n",
       "14  5129-JLPIS    Male              0      No         No      25          Yes   \n",
       "15  3655-SNQYZ  Female              0     Yes        Yes      69          Yes   \n",
       "16  8191-XWSZG  Female              0      No         No      52          Yes   \n",
       "17  9959-WOFKT    Male              0      No        Yes      71          Yes   \n",
       "18  4190-MFLUW  Female              0     Yes        Yes      10          Yes   \n",
       "19  4183-MYFRB  Female              0      No         No      21          Yes   \n",
       "\n",
       "       MultipleLines InternetService       OnlineSecurity  \\\n",
       "0   No phone service             DSL                   No   \n",
       "1                 No             DSL                  Yes   \n",
       "2                 No             DSL                  Yes   \n",
       "3   No phone service             DSL                  Yes   \n",
       "4                 No     Fiber optic                   No   \n",
       "5                Yes     Fiber optic                   No   \n",
       "6                Yes     Fiber optic                   No   \n",
       "7   No phone service             DSL                  Yes   \n",
       "8                Yes     Fiber optic                   No   \n",
       "9                 No             DSL                  Yes   \n",
       "10                No             DSL                  Yes   \n",
       "11                No              No  No internet service   \n",
       "12               Yes     Fiber optic                   No   \n",
       "13               Yes     Fiber optic                   No   \n",
       "14                No     Fiber optic                  Yes   \n",
       "15               Yes     Fiber optic                  Yes   \n",
       "16                No              No  No internet service   \n",
       "17               Yes     Fiber optic                  Yes   \n",
       "18                No             DSL                   No   \n",
       "19                No     Fiber optic                   No   \n",
       "\n",
       "           OnlineBackup     DeviceProtection          TechSupport  \\\n",
       "0                   Yes                   No                   No   \n",
       "1                    No                  Yes                   No   \n",
       "2                   Yes                   No                   No   \n",
       "3                    No                  Yes                  Yes   \n",
       "4                    No                   No                   No   \n",
       "5                    No                  Yes                   No   \n",
       "6                   Yes                   No                   No   \n",
       "7                    No                   No                   No   \n",
       "8                    No                  Yes                  Yes   \n",
       "9                   Yes                   No                   No   \n",
       "10                   No                   No                   No   \n",
       "11  No internet service  No internet service  No internet service   \n",
       "12                   No                  Yes                   No   \n",
       "13                  Yes                  Yes                   No   \n",
       "14                   No                  Yes                  Yes   \n",
       "15                  Yes                  Yes                  Yes   \n",
       "16  No internet service  No internet service  No internet service   \n",
       "17                   No                  Yes                   No   \n",
       "18                   No                  Yes                  Yes   \n",
       "19                  Yes                  Yes                   No   \n",
       "\n",
       "            StreamingTV      StreamingMovies        Contract PaperlessBilling  \\\n",
       "0                    No                   No  Month-to-month              Yes   \n",
       "1                    No                   No        One year               No   \n",
       "2                    No                   No  Month-to-month              Yes   \n",
       "3                    No                   No        One year               No   \n",
       "4                    No                   No  Month-to-month              Yes   \n",
       "5                   Yes                  Yes  Month-to-month              Yes   \n",
       "6                   Yes                   No  Month-to-month              Yes   \n",
       "7                    No                   No  Month-to-month               No   \n",
       "8                   Yes                  Yes  Month-to-month              Yes   \n",
       "9                    No                   No        One year               No   \n",
       "10                   No                   No  Month-to-month              Yes   \n",
       "11  No internet service  No internet service        Two year               No   \n",
       "12                  Yes                  Yes        One year               No   \n",
       "13                  Yes                  Yes  Month-to-month              Yes   \n",
       "14                  Yes                  Yes  Month-to-month              Yes   \n",
       "15                  Yes                  Yes        Two year               No   \n",
       "16  No internet service  No internet service        One year               No   \n",
       "17                  Yes                  Yes        Two year               No   \n",
       "18                   No                   No  Month-to-month               No   \n",
       "19                   No                  Yes  Month-to-month              Yes   \n",
       "\n",
       "                PaymentMethod  MonthlyCharges TotalCharges Churn  \n",
       "0            Electronic check          29.850        29.85    No  \n",
       "1                Mailed check          56.950       1889.5    No  \n",
       "2                Mailed check          53.850       108.15   Yes  \n",
       "3   Bank transfer (automatic)          42.300      1840.75    No  \n",
       "4            Electronic check          70.700       151.65   Yes  \n",
       "5            Electronic check          99.650        820.5   Yes  \n",
       "6     Credit card (automatic)          89.100       1949.4    No  \n",
       "7                Mailed check          29.750        301.9    No  \n",
       "8            Electronic check         104.800      3046.05   Yes  \n",
       "9   Bank transfer (automatic)          56.150      3487.95    No  \n",
       "10               Mailed check          49.950       587.45    No  \n",
       "11    Credit card (automatic)          18.950        326.8    No  \n",
       "12    Credit card (automatic)         100.350       5681.1    No  \n",
       "13  Bank transfer (automatic)         103.700       5036.3   Yes  \n",
       "14           Electronic check         105.500      2686.05    No  \n",
       "15    Credit card (automatic)         113.250      7895.15    No  \n",
       "16               Mailed check          20.650      1022.95    No  \n",
       "17  Bank transfer (automatic)         106.700      7382.25    No  \n",
       "18    Credit card (automatic)          55.200       528.35   Yes  \n",
       "19           Electronic check          90.050       1862.9    No  "
      ]
     },
     "execution_count": 5,
     "metadata": {},
     "output_type": "execute_result"
    }
   ],
   "source": [
    "telco.head(20)"
   ]
  },
  {
   "cell_type": "markdown",
   "id": "df126a93",
   "metadata": {},
   "source": [
    "## Connecting SQLite on this notebook"
   ]
  },
  {
   "cell_type": "code",
   "execution_count": 6,
   "id": "f0ae93e3",
   "metadata": {},
   "outputs": [],
   "source": [
    "%load_ext sql"
   ]
  },
  {
   "cell_type": "code",
   "execution_count": 7,
   "id": "8b887ba2",
   "metadata": {},
   "outputs": [],
   "source": [
    "# Connect to a SQLite database (creates a new one if it doesn't exist)\n",
    "conn = sqlite3.connect('telco.db')\n",
    "cursor = conn.cursor()"
   ]
  },
  {
   "cell_type": "code",
   "execution_count": 8,
   "id": "34eb9537",
   "metadata": {},
   "outputs": [
    {
     "data": {
      "text/plain": [
       "7043"
      ]
     },
     "execution_count": 8,
     "metadata": {},
     "output_type": "execute_result"
    }
   ],
   "source": [
    "# 2. Create SQLite connection\n",
    "engine = create_engine(\"sqlite:///telco.db\", echo=False)\n",
    "\n",
    "# 3. Write DataFrame to a new table named 'telco'\n",
    "telco.to_sql(\"telco\", con=engine, if_exists=\"replace\", index=False)"
   ]
  },
  {
   "cell_type": "code",
   "execution_count": 9,
   "id": "a427fbf3",
   "metadata": {},
   "outputs": [],
   "source": [
    "#load the sql extension\n",
    "%reload_ext sql\n",
    "%sql sqlite:///telco.db\n",
    "\n"
   ]
  },
  {
   "cell_type": "code",
   "execution_count": 10,
   "id": "67136a14",
   "metadata": {},
   "outputs": [
    {
     "name": "stdout",
     "output_type": "stream",
     "text": [
      "Requirement already satisfied: ipython-sql in c:\\users\\rakib\\appdata\\local\\programs\\python\\python313\\lib\\site-packages (0.5.0)\n",
      "Requirement already satisfied: prettytable in c:\\users\\rakib\\appdata\\local\\programs\\python\\python313\\lib\\site-packages (from ipython-sql) (3.9.0)\n",
      "Requirement already satisfied: ipython in c:\\users\\rakib\\appdata\\roaming\\python\\python313\\site-packages (from ipython-sql) (9.5.0)\n",
      "Requirement already satisfied: sqlalchemy>=2.0 in c:\\users\\rakib\\appdata\\local\\programs\\python\\python313\\lib\\site-packages (from ipython-sql) (2.0.43)\n",
      "Requirement already satisfied: sqlparse in c:\\users\\rakib\\appdata\\local\\programs\\python\\python313\\lib\\site-packages (from ipython-sql) (0.5.3)\n",
      "Requirement already satisfied: six in c:\\users\\rakib\\appdata\\local\\programs\\python\\python313\\lib\\site-packages (from ipython-sql) (1.17.0)\n",
      "Requirement already satisfied: ipython-genutils in c:\\users\\rakib\\appdata\\local\\programs\\python\\python313\\lib\\site-packages (from ipython-sql) (0.2.0)\n",
      "Requirement already satisfied: greenlet>=1 in c:\\users\\rakib\\appdata\\local\\programs\\python\\python313\\lib\\site-packages (from sqlalchemy>=2.0->ipython-sql) (3.2.4)\n",
      "Requirement already satisfied: typing-extensions>=4.6.0 in c:\\users\\rakib\\appdata\\local\\programs\\python\\python313\\lib\\site-packages (from sqlalchemy>=2.0->ipython-sql) (4.14.1)\n",
      "Requirement already satisfied: colorama in c:\\users\\rakib\\appdata\\roaming\\python\\python313\\site-packages (from ipython->ipython-sql) (0.4.6)\n",
      "Requirement already satisfied: decorator in c:\\users\\rakib\\appdata\\roaming\\python\\python313\\site-packages (from ipython->ipython-sql) (5.2.1)\n",
      "Requirement already satisfied: ipython-pygments-lexers in c:\\users\\rakib\\appdata\\roaming\\python\\python313\\site-packages (from ipython->ipython-sql) (1.1.1)\n",
      "Requirement already satisfied: jedi>=0.16 in c:\\users\\rakib\\appdata\\roaming\\python\\python313\\site-packages (from ipython->ipython-sql) (0.19.2)\n",
      "Requirement already satisfied: matplotlib-inline in c:\\users\\rakib\\appdata\\roaming\\python\\python313\\site-packages (from ipython->ipython-sql) (0.1.7)\n",
      "Requirement already satisfied: prompt_toolkit<3.1.0,>=3.0.41 in c:\\users\\rakib\\appdata\\roaming\\python\\python313\\site-packages (from ipython->ipython-sql) (3.0.52)\n",
      "Requirement already satisfied: pygments>=2.4.0 in c:\\users\\rakib\\appdata\\local\\programs\\python\\python313\\lib\\site-packages (from ipython->ipython-sql) (2.19.1)\n",
      "Requirement already satisfied: stack_data in c:\\users\\rakib\\appdata\\roaming\\python\\python313\\site-packages (from ipython->ipython-sql) (0.6.3)\n",
      "Requirement already satisfied: traitlets>=5.13.0 in c:\\users\\rakib\\appdata\\roaming\\python\\python313\\site-packages (from ipython->ipython-sql) (5.14.3)\n",
      "Requirement already satisfied: wcwidth in c:\\users\\rakib\\appdata\\roaming\\python\\python313\\site-packages (from prompt_toolkit<3.1.0,>=3.0.41->ipython->ipython-sql) (0.2.13)\n",
      "Requirement already satisfied: parso<0.9.0,>=0.8.4 in c:\\users\\rakib\\appdata\\roaming\\python\\python313\\site-packages (from jedi>=0.16->ipython->ipython-sql) (0.8.5)\n",
      "Requirement already satisfied: executing>=1.2.0 in c:\\users\\rakib\\appdata\\roaming\\python\\python313\\site-packages (from stack_data->ipython->ipython-sql) (2.2.1)\n",
      "Requirement already satisfied: asttokens>=2.1.0 in c:\\users\\rakib\\appdata\\roaming\\python\\python313\\site-packages (from stack_data->ipython->ipython-sql) (3.0.0)\n",
      "Requirement already satisfied: pure-eval in c:\\users\\rakib\\appdata\\roaming\\python\\python313\\site-packages (from stack_data->ipython->ipython-sql) (0.2.3)\n"
     ]
    }
   ],
   "source": [
    "!pip install ipython-sql"
   ]
  },
  {
   "cell_type": "code",
   "execution_count": 11,
   "id": "bcb9d4e9",
   "metadata": {},
   "outputs": [
    {
     "name": "stdout",
     "output_type": "stream",
     "text": [
      " * sqlite:///telco.db\n",
      "Done.\n"
     ]
    },
    {
     "data": {
      "text/html": [
       "<table>\n",
       "    <thead>\n",
       "        <tr>\n",
       "            <th>customerID</th>\n",
       "            <th>gender</th>\n",
       "            <th>SeniorCitizen</th>\n",
       "            <th>Partner</th>\n",
       "            <th>Dependents</th>\n",
       "            <th>tenure</th>\n",
       "            <th>PhoneService</th>\n",
       "            <th>MultipleLines</th>\n",
       "            <th>InternetService</th>\n",
       "            <th>OnlineSecurity</th>\n",
       "            <th>OnlineBackup</th>\n",
       "            <th>DeviceProtection</th>\n",
       "            <th>TechSupport</th>\n",
       "            <th>StreamingTV</th>\n",
       "            <th>StreamingMovies</th>\n",
       "            <th>Contract</th>\n",
       "            <th>PaperlessBilling</th>\n",
       "            <th>PaymentMethod</th>\n",
       "            <th>MonthlyCharges</th>\n",
       "            <th>TotalCharges</th>\n",
       "            <th>Churn</th>\n",
       "        </tr>\n",
       "    </thead>\n",
       "    <tbody>\n",
       "        <tr>\n",
       "            <td>7590-VHVEG</td>\n",
       "            <td>Female</td>\n",
       "            <td>0</td>\n",
       "            <td>Yes</td>\n",
       "            <td>No</td>\n",
       "            <td>1</td>\n",
       "            <td>No</td>\n",
       "            <td>No phone service</td>\n",
       "            <td>DSL</td>\n",
       "            <td>No</td>\n",
       "            <td>Yes</td>\n",
       "            <td>No</td>\n",
       "            <td>No</td>\n",
       "            <td>No</td>\n",
       "            <td>No</td>\n",
       "            <td>Month-to-month</td>\n",
       "            <td>Yes</td>\n",
       "            <td>Electronic check</td>\n",
       "            <td>29.85</td>\n",
       "            <td>29.85</td>\n",
       "            <td>No</td>\n",
       "        </tr>\n",
       "        <tr>\n",
       "            <td>5575-GNVDE</td>\n",
       "            <td>Male</td>\n",
       "            <td>0</td>\n",
       "            <td>No</td>\n",
       "            <td>No</td>\n",
       "            <td>34</td>\n",
       "            <td>Yes</td>\n",
       "            <td>No</td>\n",
       "            <td>DSL</td>\n",
       "            <td>Yes</td>\n",
       "            <td>No</td>\n",
       "            <td>Yes</td>\n",
       "            <td>No</td>\n",
       "            <td>No</td>\n",
       "            <td>No</td>\n",
       "            <td>One year</td>\n",
       "            <td>No</td>\n",
       "            <td>Mailed check</td>\n",
       "            <td>56.95</td>\n",
       "            <td>1889.5</td>\n",
       "            <td>No</td>\n",
       "        </tr>\n",
       "        <tr>\n",
       "            <td>3668-QPYBK</td>\n",
       "            <td>Male</td>\n",
       "            <td>0</td>\n",
       "            <td>No</td>\n",
       "            <td>No</td>\n",
       "            <td>2</td>\n",
       "            <td>Yes</td>\n",
       "            <td>No</td>\n",
       "            <td>DSL</td>\n",
       "            <td>Yes</td>\n",
       "            <td>Yes</td>\n",
       "            <td>No</td>\n",
       "            <td>No</td>\n",
       "            <td>No</td>\n",
       "            <td>No</td>\n",
       "            <td>Month-to-month</td>\n",
       "            <td>Yes</td>\n",
       "            <td>Mailed check</td>\n",
       "            <td>53.85</td>\n",
       "            <td>108.15</td>\n",
       "            <td>Yes</td>\n",
       "        </tr>\n",
       "        <tr>\n",
       "            <td>7795-CFOCW</td>\n",
       "            <td>Male</td>\n",
       "            <td>0</td>\n",
       "            <td>No</td>\n",
       "            <td>No</td>\n",
       "            <td>45</td>\n",
       "            <td>No</td>\n",
       "            <td>No phone service</td>\n",
       "            <td>DSL</td>\n",
       "            <td>Yes</td>\n",
       "            <td>No</td>\n",
       "            <td>Yes</td>\n",
       "            <td>Yes</td>\n",
       "            <td>No</td>\n",
       "            <td>No</td>\n",
       "            <td>One year</td>\n",
       "            <td>No</td>\n",
       "            <td>Bank transfer (automatic)</td>\n",
       "            <td>42.3</td>\n",
       "            <td>1840.75</td>\n",
       "            <td>No</td>\n",
       "        </tr>\n",
       "        <tr>\n",
       "            <td>9237-HQITU</td>\n",
       "            <td>Female</td>\n",
       "            <td>0</td>\n",
       "            <td>No</td>\n",
       "            <td>No</td>\n",
       "            <td>2</td>\n",
       "            <td>Yes</td>\n",
       "            <td>No</td>\n",
       "            <td>Fiber optic</td>\n",
       "            <td>No</td>\n",
       "            <td>No</td>\n",
       "            <td>No</td>\n",
       "            <td>No</td>\n",
       "            <td>No</td>\n",
       "            <td>No</td>\n",
       "            <td>Month-to-month</td>\n",
       "            <td>Yes</td>\n",
       "            <td>Electronic check</td>\n",
       "            <td>70.7</td>\n",
       "            <td>151.65</td>\n",
       "            <td>Yes</td>\n",
       "        </tr>\n",
       "    </tbody>\n",
       "</table>"
      ],
      "text/plain": [
       "[('7590-VHVEG', 'Female', 0, 'Yes', 'No', 1, 'No', 'No phone service', 'DSL', 'No', 'Yes', 'No', 'No', 'No', 'No', 'Month-to-month', 'Yes', 'Electronic check', 29.85, '29.85', 'No'),\n",
       " ('5575-GNVDE', 'Male', 0, 'No', 'No', 34, 'Yes', 'No', 'DSL', 'Yes', 'No', 'Yes', 'No', 'No', 'No', 'One year', 'No', 'Mailed check', 56.95, '1889.5', 'No'),\n",
       " ('3668-QPYBK', 'Male', 0, 'No', 'No', 2, 'Yes', 'No', 'DSL', 'Yes', 'Yes', 'No', 'No', 'No', 'No', 'Month-to-month', 'Yes', 'Mailed check', 53.85, '108.15', 'Yes'),\n",
       " ('7795-CFOCW', 'Male', 0, 'No', 'No', 45, 'No', 'No phone service', 'DSL', 'Yes', 'No', 'Yes', 'Yes', 'No', 'No', 'One year', 'No', 'Bank transfer (automatic)', 42.3, '1840.75', 'No'),\n",
       " ('9237-HQITU', 'Female', 0, 'No', 'No', 2, 'Yes', 'No', 'Fiber optic', 'No', 'No', 'No', 'No', 'No', 'No', 'Month-to-month', 'Yes', 'Electronic check', 70.7, '151.65', 'Yes')]"
      ]
     },
     "execution_count": 11,
     "metadata": {},
     "output_type": "execute_result"
    }
   ],
   "source": [
    "\n",
    "%%sql\n",
    "--testing the connection\n",
    "\n",
    "\n",
    "select * from telco\n",
    "limit 5;"
   ]
  },
  {
   "cell_type": "markdown",
   "id": "bf9e3b0b",
   "metadata": {},
   "source": [
    "### Initial Data inspection"
   ]
  },
  {
   "cell_type": "code",
   "execution_count": 12,
   "id": "4920ab99",
   "metadata": {},
   "outputs": [
    {
     "data": {
      "text/plain": [
       "(7043, 21)"
      ]
     },
     "execution_count": 12,
     "metadata": {},
     "output_type": "execute_result"
    }
   ],
   "source": [
    "telco.shape"
   ]
  },
  {
   "cell_type": "code",
   "execution_count": 13,
   "id": "7acc985e",
   "metadata": {},
   "outputs": [
    {
     "name": "stdout",
     "output_type": "stream",
     "text": [
      "<class 'pandas.core.frame.DataFrame'>\n",
      "RangeIndex: 7043 entries, 0 to 7042\n",
      "Data columns (total 21 columns):\n",
      " #   Column            Non-Null Count  Dtype  \n",
      "---  ------            --------------  -----  \n",
      " 0   customerID        7043 non-null   object \n",
      " 1   gender            7043 non-null   object \n",
      " 2   SeniorCitizen     7043 non-null   int64  \n",
      " 3   Partner           7043 non-null   object \n",
      " 4   Dependents        7043 non-null   object \n",
      " 5   tenure            7043 non-null   int64  \n",
      " 6   PhoneService      7043 non-null   object \n",
      " 7   MultipleLines     7043 non-null   object \n",
      " 8   InternetService   7043 non-null   object \n",
      " 9   OnlineSecurity    7043 non-null   object \n",
      " 10  OnlineBackup      7043 non-null   object \n",
      " 11  DeviceProtection  7043 non-null   object \n",
      " 12  TechSupport       7043 non-null   object \n",
      " 13  StreamingTV       7043 non-null   object \n",
      " 14  StreamingMovies   7043 non-null   object \n",
      " 15  Contract          7043 non-null   object \n",
      " 16  PaperlessBilling  7043 non-null   object \n",
      " 17  PaymentMethod     7043 non-null   object \n",
      " 18  MonthlyCharges    7043 non-null   float64\n",
      " 19  TotalCharges      7043 non-null   object \n",
      " 20  Churn             7043 non-null   object \n",
      "dtypes: float64(1), int64(2), object(18)\n",
      "memory usage: 1.1+ MB\n"
     ]
    }
   ],
   "source": [
    "telco.info()"
   ]
  },
  {
   "cell_type": "code",
   "execution_count": 14,
   "id": "ceb137d5",
   "metadata": {},
   "outputs": [
    {
     "data": {
      "application/vnd.microsoft.datawrangler.viewer.v0+json": {
       "columns": [
        {
         "name": "index",
         "rawType": "object",
         "type": "string"
        },
        {
         "name": "SeniorCitizen",
         "rawType": "float64",
         "type": "float"
        },
        {
         "name": "tenure",
         "rawType": "float64",
         "type": "float"
        },
        {
         "name": "MonthlyCharges",
         "rawType": "float64",
         "type": "float"
        }
       ],
       "ref": "8372d0a3-f09c-4915-ac97-c967107a1b04",
       "rows": [
        [
         "count",
         "7043.0",
         "7043.0",
         "7043.0"
        ],
        [
         "mean",
         "0.1621468124378816",
         "32.37114865824223",
         "64.76169246059918"
        ],
        [
         "std",
         "0.3686116056100131",
         "24.55948102309446",
         "30.090047097678493"
        ],
        [
         "min",
         "0.0",
         "0.0",
         "18.25"
        ],
        [
         "25%",
         "0.0",
         "9.0",
         "35.5"
        ],
        [
         "50%",
         "0.0",
         "29.0",
         "70.35"
        ],
        [
         "75%",
         "0.0",
         "55.0",
         "89.85"
        ],
        [
         "max",
         "1.0",
         "72.0",
         "118.75"
        ]
       ],
       "shape": {
        "columns": 3,
        "rows": 8
       }
      },
      "text/html": [
       "<div>\n",
       "<style scoped>\n",
       "    .dataframe tbody tr th:only-of-type {\n",
       "        vertical-align: middle;\n",
       "    }\n",
       "\n",
       "    .dataframe tbody tr th {\n",
       "        vertical-align: top;\n",
       "    }\n",
       "\n",
       "    .dataframe thead th {\n",
       "        text-align: right;\n",
       "    }\n",
       "</style>\n",
       "<table border=\"1\" class=\"dataframe\">\n",
       "  <thead>\n",
       "    <tr style=\"text-align: right;\">\n",
       "      <th></th>\n",
       "      <th>SeniorCitizen</th>\n",
       "      <th>tenure</th>\n",
       "      <th>MonthlyCharges</th>\n",
       "    </tr>\n",
       "  </thead>\n",
       "  <tbody>\n",
       "    <tr>\n",
       "      <th>count</th>\n",
       "      <td>7043.000</td>\n",
       "      <td>7043.000</td>\n",
       "      <td>7043.000</td>\n",
       "    </tr>\n",
       "    <tr>\n",
       "      <th>mean</th>\n",
       "      <td>0.162</td>\n",
       "      <td>32.371</td>\n",
       "      <td>64.762</td>\n",
       "    </tr>\n",
       "    <tr>\n",
       "      <th>std</th>\n",
       "      <td>0.369</td>\n",
       "      <td>24.559</td>\n",
       "      <td>30.090</td>\n",
       "    </tr>\n",
       "    <tr>\n",
       "      <th>min</th>\n",
       "      <td>0.000</td>\n",
       "      <td>0.000</td>\n",
       "      <td>18.250</td>\n",
       "    </tr>\n",
       "    <tr>\n",
       "      <th>25%</th>\n",
       "      <td>0.000</td>\n",
       "      <td>9.000</td>\n",
       "      <td>35.500</td>\n",
       "    </tr>\n",
       "    <tr>\n",
       "      <th>50%</th>\n",
       "      <td>0.000</td>\n",
       "      <td>29.000</td>\n",
       "      <td>70.350</td>\n",
       "    </tr>\n",
       "    <tr>\n",
       "      <th>75%</th>\n",
       "      <td>0.000</td>\n",
       "      <td>55.000</td>\n",
       "      <td>89.850</td>\n",
       "    </tr>\n",
       "    <tr>\n",
       "      <th>max</th>\n",
       "      <td>1.000</td>\n",
       "      <td>72.000</td>\n",
       "      <td>118.750</td>\n",
       "    </tr>\n",
       "  </tbody>\n",
       "</table>\n",
       "</div>"
      ],
      "text/plain": [
       "       SeniorCitizen   tenure  MonthlyCharges\n",
       "count       7043.000 7043.000        7043.000\n",
       "mean           0.162   32.371          64.762\n",
       "std            0.369   24.559          30.090\n",
       "min            0.000    0.000          18.250\n",
       "25%            0.000    9.000          35.500\n",
       "50%            0.000   29.000          70.350\n",
       "75%            0.000   55.000          89.850\n",
       "max            1.000   72.000         118.750"
      ]
     },
     "execution_count": 14,
     "metadata": {},
     "output_type": "execute_result"
    }
   ],
   "source": [
    "telco.describe()"
   ]
  },
  {
   "cell_type": "markdown",
   "id": "cf9da438",
   "metadata": {},
   "source": [
    "### Let's see if there any duplicate or null values"
   ]
  },
  {
   "cell_type": "code",
   "execution_count": 15,
   "id": "cca98d49",
   "metadata": {},
   "outputs": [
    {
     "data": {
      "text/plain": [
       "np.int64(0)"
      ]
     },
     "execution_count": 15,
     "metadata": {},
     "output_type": "execute_result"
    }
   ],
   "source": [
    "#see if there's any duplicate value\n",
    "telco.duplicated().sum()"
   ]
  },
  {
   "cell_type": "code",
   "execution_count": 16,
   "id": "dd016a8c",
   "metadata": {},
   "outputs": [
    {
     "data": {
      "application/vnd.microsoft.datawrangler.viewer.v0+json": {
       "columns": [
        {
         "name": "index",
         "rawType": "object",
         "type": "string"
        },
        {
         "name": "0",
         "rawType": "int64",
         "type": "integer"
        }
       ],
       "ref": "e64f5f85-9fe0-421e-ad96-6702f48cd32d",
       "rows": [
        [
         "customerID",
         "0"
        ],
        [
         "gender",
         "0"
        ],
        [
         "SeniorCitizen",
         "0"
        ],
        [
         "Partner",
         "0"
        ],
        [
         "Dependents",
         "0"
        ],
        [
         "tenure",
         "0"
        ],
        [
         "PhoneService",
         "0"
        ],
        [
         "MultipleLines",
         "0"
        ],
        [
         "InternetService",
         "0"
        ],
        [
         "OnlineSecurity",
         "0"
        ],
        [
         "OnlineBackup",
         "0"
        ],
        [
         "DeviceProtection",
         "0"
        ],
        [
         "TechSupport",
         "0"
        ],
        [
         "StreamingTV",
         "0"
        ],
        [
         "StreamingMovies",
         "0"
        ],
        [
         "Contract",
         "0"
        ],
        [
         "PaperlessBilling",
         "0"
        ],
        [
         "PaymentMethod",
         "0"
        ],
        [
         "MonthlyCharges",
         "0"
        ],
        [
         "TotalCharges",
         "11"
        ],
        [
         "Churn",
         "0"
        ]
       ],
       "shape": {
        "columns": 1,
        "rows": 21
       }
      },
      "text/plain": [
       "customerID           0\n",
       "gender               0\n",
       "SeniorCitizen        0\n",
       "Partner              0\n",
       "Dependents           0\n",
       "tenure               0\n",
       "PhoneService         0\n",
       "MultipleLines        0\n",
       "InternetService      0\n",
       "OnlineSecurity       0\n",
       "OnlineBackup         0\n",
       "DeviceProtection     0\n",
       "TechSupport          0\n",
       "StreamingTV          0\n",
       "StreamingMovies      0\n",
       "Contract             0\n",
       "PaperlessBilling     0\n",
       "PaymentMethod        0\n",
       "MonthlyCharges       0\n",
       "TotalCharges        11\n",
       "Churn                0\n",
       "dtype: int64"
      ]
     },
     "execution_count": 16,
     "metadata": {},
     "output_type": "execute_result"
    }
   ],
   "source": [
    "#see the null values\n",
    "telco['TotalCharges']=pd.to_numeric(telco.TotalCharges, errors='coerce')\n",
    "telco.isnull().sum()"
   ]
  },
  {
   "cell_type": "code",
   "execution_count": 17,
   "id": "ee02429f",
   "metadata": {},
   "outputs": [
    {
     "data": {
      "application/vnd.microsoft.datawrangler.viewer.v0+json": {
       "columns": [
        {
         "name": "index",
         "rawType": "int64",
         "type": "integer"
        },
        {
         "name": "customerID",
         "rawType": "object",
         "type": "string"
        },
        {
         "name": "gender",
         "rawType": "object",
         "type": "string"
        },
        {
         "name": "SeniorCitizen",
         "rawType": "int64",
         "type": "integer"
        },
        {
         "name": "Partner",
         "rawType": "object",
         "type": "string"
        },
        {
         "name": "Dependents",
         "rawType": "object",
         "type": "string"
        },
        {
         "name": "tenure",
         "rawType": "int64",
         "type": "integer"
        },
        {
         "name": "PhoneService",
         "rawType": "object",
         "type": "string"
        },
        {
         "name": "MultipleLines",
         "rawType": "object",
         "type": "string"
        },
        {
         "name": "InternetService",
         "rawType": "object",
         "type": "string"
        },
        {
         "name": "OnlineSecurity",
         "rawType": "object",
         "type": "string"
        },
        {
         "name": "OnlineBackup",
         "rawType": "object",
         "type": "string"
        },
        {
         "name": "DeviceProtection",
         "rawType": "object",
         "type": "string"
        },
        {
         "name": "TechSupport",
         "rawType": "object",
         "type": "string"
        },
        {
         "name": "StreamingTV",
         "rawType": "object",
         "type": "string"
        },
        {
         "name": "StreamingMovies",
         "rawType": "object",
         "type": "string"
        },
        {
         "name": "Contract",
         "rawType": "object",
         "type": "string"
        },
        {
         "name": "PaperlessBilling",
         "rawType": "object",
         "type": "string"
        },
        {
         "name": "PaymentMethod",
         "rawType": "object",
         "type": "string"
        },
        {
         "name": "MonthlyCharges",
         "rawType": "float64",
         "type": "float"
        },
        {
         "name": "TotalCharges",
         "rawType": "float64",
         "type": "float"
        },
        {
         "name": "Churn",
         "rawType": "object",
         "type": "string"
        }
       ],
       "ref": "ab56808d-b4da-48d0-892c-86f5677005c3",
       "rows": [
        [
         "488",
         "4472-LVYGI",
         "Female",
         "0",
         "Yes",
         "Yes",
         "0",
         "No",
         "No phone service",
         "DSL",
         "Yes",
         "No",
         "Yes",
         "Yes",
         "Yes",
         "No",
         "Two year",
         "Yes",
         "Bank transfer (automatic)",
         "52.55",
         null,
         "No"
        ],
        [
         "753",
         "3115-CZMZD",
         "Male",
         "0",
         "No",
         "Yes",
         "0",
         "Yes",
         "No",
         "No",
         "No internet service",
         "No internet service",
         "No internet service",
         "No internet service",
         "No internet service",
         "No internet service",
         "Two year",
         "No",
         "Mailed check",
         "20.25",
         null,
         "No"
        ],
        [
         "936",
         "5709-LVOEQ",
         "Female",
         "0",
         "Yes",
         "Yes",
         "0",
         "Yes",
         "No",
         "DSL",
         "Yes",
         "Yes",
         "Yes",
         "No",
         "Yes",
         "Yes",
         "Two year",
         "No",
         "Mailed check",
         "80.85",
         null,
         "No"
        ],
        [
         "1082",
         "4367-NUYAO",
         "Male",
         "0",
         "Yes",
         "Yes",
         "0",
         "Yes",
         "Yes",
         "No",
         "No internet service",
         "No internet service",
         "No internet service",
         "No internet service",
         "No internet service",
         "No internet service",
         "Two year",
         "No",
         "Mailed check",
         "25.75",
         null,
         "No"
        ],
        [
         "1340",
         "1371-DWPAZ",
         "Female",
         "0",
         "Yes",
         "Yes",
         "0",
         "No",
         "No phone service",
         "DSL",
         "Yes",
         "Yes",
         "Yes",
         "Yes",
         "Yes",
         "No",
         "Two year",
         "No",
         "Credit card (automatic)",
         "56.05",
         null,
         "No"
        ],
        [
         "3331",
         "7644-OMVMY",
         "Male",
         "0",
         "Yes",
         "Yes",
         "0",
         "Yes",
         "No",
         "No",
         "No internet service",
         "No internet service",
         "No internet service",
         "No internet service",
         "No internet service",
         "No internet service",
         "Two year",
         "No",
         "Mailed check",
         "19.85",
         null,
         "No"
        ],
        [
         "3826",
         "3213-VVOLG",
         "Male",
         "0",
         "Yes",
         "Yes",
         "0",
         "Yes",
         "Yes",
         "No",
         "No internet service",
         "No internet service",
         "No internet service",
         "No internet service",
         "No internet service",
         "No internet service",
         "Two year",
         "No",
         "Mailed check",
         "25.35",
         null,
         "No"
        ],
        [
         "4380",
         "2520-SGTTA",
         "Female",
         "0",
         "Yes",
         "Yes",
         "0",
         "Yes",
         "No",
         "No",
         "No internet service",
         "No internet service",
         "No internet service",
         "No internet service",
         "No internet service",
         "No internet service",
         "Two year",
         "No",
         "Mailed check",
         "20.0",
         null,
         "No"
        ],
        [
         "5218",
         "2923-ARZLG",
         "Male",
         "0",
         "Yes",
         "Yes",
         "0",
         "Yes",
         "No",
         "No",
         "No internet service",
         "No internet service",
         "No internet service",
         "No internet service",
         "No internet service",
         "No internet service",
         "One year",
         "Yes",
         "Mailed check",
         "19.7",
         null,
         "No"
        ],
        [
         "6670",
         "4075-WKNIU",
         "Female",
         "0",
         "Yes",
         "Yes",
         "0",
         "Yes",
         "Yes",
         "DSL",
         "No",
         "Yes",
         "Yes",
         "Yes",
         "Yes",
         "No",
         "Two year",
         "No",
         "Mailed check",
         "73.35",
         null,
         "No"
        ],
        [
         "6754",
         "2775-SEFEE",
         "Male",
         "0",
         "No",
         "Yes",
         "0",
         "Yes",
         "Yes",
         "DSL",
         "Yes",
         "Yes",
         "No",
         "Yes",
         "No",
         "No",
         "Two year",
         "Yes",
         "Bank transfer (automatic)",
         "61.9",
         null,
         "No"
        ]
       ],
       "shape": {
        "columns": 21,
        "rows": 11
       }
      },
      "text/html": [
       "<div>\n",
       "<style scoped>\n",
       "    .dataframe tbody tr th:only-of-type {\n",
       "        vertical-align: middle;\n",
       "    }\n",
       "\n",
       "    .dataframe tbody tr th {\n",
       "        vertical-align: top;\n",
       "    }\n",
       "\n",
       "    .dataframe thead th {\n",
       "        text-align: right;\n",
       "    }\n",
       "</style>\n",
       "<table border=\"1\" class=\"dataframe\">\n",
       "  <thead>\n",
       "    <tr style=\"text-align: right;\">\n",
       "      <th></th>\n",
       "      <th>customerID</th>\n",
       "      <th>gender</th>\n",
       "      <th>SeniorCitizen</th>\n",
       "      <th>Partner</th>\n",
       "      <th>Dependents</th>\n",
       "      <th>tenure</th>\n",
       "      <th>PhoneService</th>\n",
       "      <th>MultipleLines</th>\n",
       "      <th>InternetService</th>\n",
       "      <th>OnlineSecurity</th>\n",
       "      <th>OnlineBackup</th>\n",
       "      <th>DeviceProtection</th>\n",
       "      <th>TechSupport</th>\n",
       "      <th>StreamingTV</th>\n",
       "      <th>StreamingMovies</th>\n",
       "      <th>Contract</th>\n",
       "      <th>PaperlessBilling</th>\n",
       "      <th>PaymentMethod</th>\n",
       "      <th>MonthlyCharges</th>\n",
       "      <th>TotalCharges</th>\n",
       "      <th>Churn</th>\n",
       "    </tr>\n",
       "  </thead>\n",
       "  <tbody>\n",
       "    <tr>\n",
       "      <th>488</th>\n",
       "      <td>4472-LVYGI</td>\n",
       "      <td>Female</td>\n",
       "      <td>0</td>\n",
       "      <td>Yes</td>\n",
       "      <td>Yes</td>\n",
       "      <td>0</td>\n",
       "      <td>No</td>\n",
       "      <td>No phone service</td>\n",
       "      <td>DSL</td>\n",
       "      <td>Yes</td>\n",
       "      <td>No</td>\n",
       "      <td>Yes</td>\n",
       "      <td>Yes</td>\n",
       "      <td>Yes</td>\n",
       "      <td>No</td>\n",
       "      <td>Two year</td>\n",
       "      <td>Yes</td>\n",
       "      <td>Bank transfer (automatic)</td>\n",
       "      <td>52.550</td>\n",
       "      <td>NaN</td>\n",
       "      <td>No</td>\n",
       "    </tr>\n",
       "    <tr>\n",
       "      <th>753</th>\n",
       "      <td>3115-CZMZD</td>\n",
       "      <td>Male</td>\n",
       "      <td>0</td>\n",
       "      <td>No</td>\n",
       "      <td>Yes</td>\n",
       "      <td>0</td>\n",
       "      <td>Yes</td>\n",
       "      <td>No</td>\n",
       "      <td>No</td>\n",
       "      <td>No internet service</td>\n",
       "      <td>No internet service</td>\n",
       "      <td>No internet service</td>\n",
       "      <td>No internet service</td>\n",
       "      <td>No internet service</td>\n",
       "      <td>No internet service</td>\n",
       "      <td>Two year</td>\n",
       "      <td>No</td>\n",
       "      <td>Mailed check</td>\n",
       "      <td>20.250</td>\n",
       "      <td>NaN</td>\n",
       "      <td>No</td>\n",
       "    </tr>\n",
       "    <tr>\n",
       "      <th>936</th>\n",
       "      <td>5709-LVOEQ</td>\n",
       "      <td>Female</td>\n",
       "      <td>0</td>\n",
       "      <td>Yes</td>\n",
       "      <td>Yes</td>\n",
       "      <td>0</td>\n",
       "      <td>Yes</td>\n",
       "      <td>No</td>\n",
       "      <td>DSL</td>\n",
       "      <td>Yes</td>\n",
       "      <td>Yes</td>\n",
       "      <td>Yes</td>\n",
       "      <td>No</td>\n",
       "      <td>Yes</td>\n",
       "      <td>Yes</td>\n",
       "      <td>Two year</td>\n",
       "      <td>No</td>\n",
       "      <td>Mailed check</td>\n",
       "      <td>80.850</td>\n",
       "      <td>NaN</td>\n",
       "      <td>No</td>\n",
       "    </tr>\n",
       "    <tr>\n",
       "      <th>1082</th>\n",
       "      <td>4367-NUYAO</td>\n",
       "      <td>Male</td>\n",
       "      <td>0</td>\n",
       "      <td>Yes</td>\n",
       "      <td>Yes</td>\n",
       "      <td>0</td>\n",
       "      <td>Yes</td>\n",
       "      <td>Yes</td>\n",
       "      <td>No</td>\n",
       "      <td>No internet service</td>\n",
       "      <td>No internet service</td>\n",
       "      <td>No internet service</td>\n",
       "      <td>No internet service</td>\n",
       "      <td>No internet service</td>\n",
       "      <td>No internet service</td>\n",
       "      <td>Two year</td>\n",
       "      <td>No</td>\n",
       "      <td>Mailed check</td>\n",
       "      <td>25.750</td>\n",
       "      <td>NaN</td>\n",
       "      <td>No</td>\n",
       "    </tr>\n",
       "    <tr>\n",
       "      <th>1340</th>\n",
       "      <td>1371-DWPAZ</td>\n",
       "      <td>Female</td>\n",
       "      <td>0</td>\n",
       "      <td>Yes</td>\n",
       "      <td>Yes</td>\n",
       "      <td>0</td>\n",
       "      <td>No</td>\n",
       "      <td>No phone service</td>\n",
       "      <td>DSL</td>\n",
       "      <td>Yes</td>\n",
       "      <td>Yes</td>\n",
       "      <td>Yes</td>\n",
       "      <td>Yes</td>\n",
       "      <td>Yes</td>\n",
       "      <td>No</td>\n",
       "      <td>Two year</td>\n",
       "      <td>No</td>\n",
       "      <td>Credit card (automatic)</td>\n",
       "      <td>56.050</td>\n",
       "      <td>NaN</td>\n",
       "      <td>No</td>\n",
       "    </tr>\n",
       "    <tr>\n",
       "      <th>3331</th>\n",
       "      <td>7644-OMVMY</td>\n",
       "      <td>Male</td>\n",
       "      <td>0</td>\n",
       "      <td>Yes</td>\n",
       "      <td>Yes</td>\n",
       "      <td>0</td>\n",
       "      <td>Yes</td>\n",
       "      <td>No</td>\n",
       "      <td>No</td>\n",
       "      <td>No internet service</td>\n",
       "      <td>No internet service</td>\n",
       "      <td>No internet service</td>\n",
       "      <td>No internet service</td>\n",
       "      <td>No internet service</td>\n",
       "      <td>No internet service</td>\n",
       "      <td>Two year</td>\n",
       "      <td>No</td>\n",
       "      <td>Mailed check</td>\n",
       "      <td>19.850</td>\n",
       "      <td>NaN</td>\n",
       "      <td>No</td>\n",
       "    </tr>\n",
       "    <tr>\n",
       "      <th>3826</th>\n",
       "      <td>3213-VVOLG</td>\n",
       "      <td>Male</td>\n",
       "      <td>0</td>\n",
       "      <td>Yes</td>\n",
       "      <td>Yes</td>\n",
       "      <td>0</td>\n",
       "      <td>Yes</td>\n",
       "      <td>Yes</td>\n",
       "      <td>No</td>\n",
       "      <td>No internet service</td>\n",
       "      <td>No internet service</td>\n",
       "      <td>No internet service</td>\n",
       "      <td>No internet service</td>\n",
       "      <td>No internet service</td>\n",
       "      <td>No internet service</td>\n",
       "      <td>Two year</td>\n",
       "      <td>No</td>\n",
       "      <td>Mailed check</td>\n",
       "      <td>25.350</td>\n",
       "      <td>NaN</td>\n",
       "      <td>No</td>\n",
       "    </tr>\n",
       "    <tr>\n",
       "      <th>4380</th>\n",
       "      <td>2520-SGTTA</td>\n",
       "      <td>Female</td>\n",
       "      <td>0</td>\n",
       "      <td>Yes</td>\n",
       "      <td>Yes</td>\n",
       "      <td>0</td>\n",
       "      <td>Yes</td>\n",
       "      <td>No</td>\n",
       "      <td>No</td>\n",
       "      <td>No internet service</td>\n",
       "      <td>No internet service</td>\n",
       "      <td>No internet service</td>\n",
       "      <td>No internet service</td>\n",
       "      <td>No internet service</td>\n",
       "      <td>No internet service</td>\n",
       "      <td>Two year</td>\n",
       "      <td>No</td>\n",
       "      <td>Mailed check</td>\n",
       "      <td>20.000</td>\n",
       "      <td>NaN</td>\n",
       "      <td>No</td>\n",
       "    </tr>\n",
       "    <tr>\n",
       "      <th>5218</th>\n",
       "      <td>2923-ARZLG</td>\n",
       "      <td>Male</td>\n",
       "      <td>0</td>\n",
       "      <td>Yes</td>\n",
       "      <td>Yes</td>\n",
       "      <td>0</td>\n",
       "      <td>Yes</td>\n",
       "      <td>No</td>\n",
       "      <td>No</td>\n",
       "      <td>No internet service</td>\n",
       "      <td>No internet service</td>\n",
       "      <td>No internet service</td>\n",
       "      <td>No internet service</td>\n",
       "      <td>No internet service</td>\n",
       "      <td>No internet service</td>\n",
       "      <td>One year</td>\n",
       "      <td>Yes</td>\n",
       "      <td>Mailed check</td>\n",
       "      <td>19.700</td>\n",
       "      <td>NaN</td>\n",
       "      <td>No</td>\n",
       "    </tr>\n",
       "    <tr>\n",
       "      <th>6670</th>\n",
       "      <td>4075-WKNIU</td>\n",
       "      <td>Female</td>\n",
       "      <td>0</td>\n",
       "      <td>Yes</td>\n",
       "      <td>Yes</td>\n",
       "      <td>0</td>\n",
       "      <td>Yes</td>\n",
       "      <td>Yes</td>\n",
       "      <td>DSL</td>\n",
       "      <td>No</td>\n",
       "      <td>Yes</td>\n",
       "      <td>Yes</td>\n",
       "      <td>Yes</td>\n",
       "      <td>Yes</td>\n",
       "      <td>No</td>\n",
       "      <td>Two year</td>\n",
       "      <td>No</td>\n",
       "      <td>Mailed check</td>\n",
       "      <td>73.350</td>\n",
       "      <td>NaN</td>\n",
       "      <td>No</td>\n",
       "    </tr>\n",
       "    <tr>\n",
       "      <th>6754</th>\n",
       "      <td>2775-SEFEE</td>\n",
       "      <td>Male</td>\n",
       "      <td>0</td>\n",
       "      <td>No</td>\n",
       "      <td>Yes</td>\n",
       "      <td>0</td>\n",
       "      <td>Yes</td>\n",
       "      <td>Yes</td>\n",
       "      <td>DSL</td>\n",
       "      <td>Yes</td>\n",
       "      <td>Yes</td>\n",
       "      <td>No</td>\n",
       "      <td>Yes</td>\n",
       "      <td>No</td>\n",
       "      <td>No</td>\n",
       "      <td>Two year</td>\n",
       "      <td>Yes</td>\n",
       "      <td>Bank transfer (automatic)</td>\n",
       "      <td>61.900</td>\n",
       "      <td>NaN</td>\n",
       "      <td>No</td>\n",
       "    </tr>\n",
       "  </tbody>\n",
       "</table>\n",
       "</div>"
      ],
      "text/plain": [
       "      customerID  gender  SeniorCitizen Partner Dependents  tenure  \\\n",
       "488   4472-LVYGI  Female              0     Yes        Yes       0   \n",
       "753   3115-CZMZD    Male              0      No        Yes       0   \n",
       "936   5709-LVOEQ  Female              0     Yes        Yes       0   \n",
       "1082  4367-NUYAO    Male              0     Yes        Yes       0   \n",
       "1340  1371-DWPAZ  Female              0     Yes        Yes       0   \n",
       "3331  7644-OMVMY    Male              0     Yes        Yes       0   \n",
       "3826  3213-VVOLG    Male              0     Yes        Yes       0   \n",
       "4380  2520-SGTTA  Female              0     Yes        Yes       0   \n",
       "5218  2923-ARZLG    Male              0     Yes        Yes       0   \n",
       "6670  4075-WKNIU  Female              0     Yes        Yes       0   \n",
       "6754  2775-SEFEE    Male              0      No        Yes       0   \n",
       "\n",
       "     PhoneService     MultipleLines InternetService       OnlineSecurity  \\\n",
       "488            No  No phone service             DSL                  Yes   \n",
       "753           Yes                No              No  No internet service   \n",
       "936           Yes                No             DSL                  Yes   \n",
       "1082          Yes               Yes              No  No internet service   \n",
       "1340           No  No phone service             DSL                  Yes   \n",
       "3331          Yes                No              No  No internet service   \n",
       "3826          Yes               Yes              No  No internet service   \n",
       "4380          Yes                No              No  No internet service   \n",
       "5218          Yes                No              No  No internet service   \n",
       "6670          Yes               Yes             DSL                   No   \n",
       "6754          Yes               Yes             DSL                  Yes   \n",
       "\n",
       "             OnlineBackup     DeviceProtection          TechSupport  \\\n",
       "488                    No                  Yes                  Yes   \n",
       "753   No internet service  No internet service  No internet service   \n",
       "936                   Yes                  Yes                   No   \n",
       "1082  No internet service  No internet service  No internet service   \n",
       "1340                  Yes                  Yes                  Yes   \n",
       "3331  No internet service  No internet service  No internet service   \n",
       "3826  No internet service  No internet service  No internet service   \n",
       "4380  No internet service  No internet service  No internet service   \n",
       "5218  No internet service  No internet service  No internet service   \n",
       "6670                  Yes                  Yes                  Yes   \n",
       "6754                  Yes                   No                  Yes   \n",
       "\n",
       "              StreamingTV      StreamingMovies  Contract PaperlessBilling  \\\n",
       "488                   Yes                   No  Two year              Yes   \n",
       "753   No internet service  No internet service  Two year               No   \n",
       "936                   Yes                  Yes  Two year               No   \n",
       "1082  No internet service  No internet service  Two year               No   \n",
       "1340                  Yes                   No  Two year               No   \n",
       "3331  No internet service  No internet service  Two year               No   \n",
       "3826  No internet service  No internet service  Two year               No   \n",
       "4380  No internet service  No internet service  Two year               No   \n",
       "5218  No internet service  No internet service  One year              Yes   \n",
       "6670                  Yes                   No  Two year               No   \n",
       "6754                   No                   No  Two year              Yes   \n",
       "\n",
       "                  PaymentMethod  MonthlyCharges  TotalCharges Churn  \n",
       "488   Bank transfer (automatic)          52.550           NaN    No  \n",
       "753                Mailed check          20.250           NaN    No  \n",
       "936                Mailed check          80.850           NaN    No  \n",
       "1082               Mailed check          25.750           NaN    No  \n",
       "1340    Credit card (automatic)          56.050           NaN    No  \n",
       "3331               Mailed check          19.850           NaN    No  \n",
       "3826               Mailed check          25.350           NaN    No  \n",
       "4380               Mailed check          20.000           NaN    No  \n",
       "5218               Mailed check          19.700           NaN    No  \n",
       "6670               Mailed check          73.350           NaN    No  \n",
       "6754  Bank transfer (automatic)          61.900           NaN    No  "
      ]
     },
     "execution_count": 17,
     "metadata": {},
     "output_type": "execute_result"
    }
   ],
   "source": [
    "telco[np.isnan(telco['TotalCharges'])]"
   ]
  },
  {
   "cell_type": "markdown",
   "id": "29d8202f",
   "metadata": {},
   "source": [
    "### Converted the TotalCharges \" \" value into nan, now visualize this\n"
   ]
  },
  {
   "cell_type": "code",
   "execution_count": 18,
   "id": "318ac0e2",
   "metadata": {},
   "outputs": [
    {
     "data": {
      "image/png": "[encoded data removed]",
      "text/plain": [
       "<Figure size 1000x600 with 1 Axes>"
      ]
     },
     "metadata": {},
     "output_type": "display_data"
    }
   ],
   "source": [
    "  \n",
    "plt.figure(figsize=(10,6))\n",
    "sns.heatmap(telco.isnull(), cbar=False, cmap='viridis')\n",
    "plt.title('Missing Values Heatmap')\n",
    "plt.show()"
   ]
  },
  {
   "cell_type": "markdown",
   "id": "66a965dd",
   "metadata": {},
   "source": [
    "### Fill the missing nan values with median totalcharges"
   ]
  },
  {
   "cell_type": "code",
   "execution_count": 19,
   "id": "440761ce",
   "metadata": {},
   "outputs": [
    {
     "name": "stderr",
     "output_type": "stream",
     "text": [
      "C:\\Users\\rakib\\AppData\\Local\\Temp\\ipykernel_17140\\1108568668.py:1: FutureWarning: A value is trying to be set on a copy of a DataFrame or Series through chained assignment using an inplace method.\n",
      "The behavior will change in pandas 3.0. This inplace method will never work because the intermediate object on which we are setting values always behaves as a copy.\n",
      "\n",
      "For example, when doing 'df[col].method(value, inplace=True)', try using 'df.method({col: value}, inplace=True)' or df[col] = df[col].method(value) instead, to perform the operation inplace on the original object.\n",
      "\n",
      "\n",
      "  telco['TotalCharges'].fillna(telco['TotalCharges'].median(), inplace=True)\n"
     ]
    }
   ],
   "source": [
    "telco['TotalCharges'].fillna(telco['TotalCharges'].median(), inplace=True)"
   ]
  },
  {
   "cell_type": "markdown",
   "id": "561a8406",
   "metadata": {},
   "source": [
    "Now see , if there's any null values\n"
   ]
  },
  {
   "cell_type": "code",
   "execution_count": 20,
   "id": "4dbd15e7",
   "metadata": {},
   "outputs": [
    {
     "data": {
      "application/vnd.microsoft.datawrangler.viewer.v0+json": {
       "columns": [
        {
         "name": "index",
         "rawType": "int64",
         "type": "integer"
        },
        {
         "name": "customerID",
         "rawType": "object",
         "type": "string"
        },
        {
         "name": "gender",
         "rawType": "object",
         "type": "string"
        },
        {
         "name": "SeniorCitizen",
         "rawType": "int64",
         "type": "integer"
        },
        {
         "name": "Partner",
         "rawType": "object",
         "type": "string"
        },
        {
         "name": "Dependents",
         "rawType": "object",
         "type": "string"
        },
        {
         "name": "tenure",
         "rawType": "int64",
         "type": "integer"
        },
        {
         "name": "PhoneService",
         "rawType": "object",
         "type": "string"
        },
        {
         "name": "MultipleLines",
         "rawType": "object",
         "type": "string"
        },
        {
         "name": "InternetService",
         "rawType": "object",
         "type": "string"
        },
        {
         "name": "OnlineSecurity",
         "rawType": "object",
         "type": "string"
        },
        {
         "name": "OnlineBackup",
         "rawType": "object",
         "type": "string"
        },
        {
         "name": "DeviceProtection",
         "rawType": "object",
         "type": "string"
        },
        {
         "name": "TechSupport",
         "rawType": "object",
         "type": "string"
        },
        {
         "name": "StreamingTV",
         "rawType": "object",
         "type": "string"
        },
        {
         "name": "StreamingMovies",
         "rawType": "object",
         "type": "string"
        },
        {
         "name": "Contract",
         "rawType": "object",
         "type": "string"
        },
        {
         "name": "PaperlessBilling",
         "rawType": "object",
         "type": "string"
        },
        {
         "name": "PaymentMethod",
         "rawType": "object",
         "type": "string"
        },
        {
         "name": "MonthlyCharges",
         "rawType": "float64",
         "type": "float"
        },
        {
         "name": "TotalCharges",
         "rawType": "float64",
         "type": "float"
        },
        {
         "name": "Churn",
         "rawType": "object",
         "type": "string"
        }
       ],
       "ref": "df0b3309-236f-45fb-98e0-3c37a2f3cfe6",
       "rows": [],
       "shape": {
        "columns": 21,
        "rows": 0
       }
      },
      "text/html": [
       "<div>\n",
       "<style scoped>\n",
       "    .dataframe tbody tr th:only-of-type {\n",
       "        vertical-align: middle;\n",
       "    }\n",
       "\n",
       "    .dataframe tbody tr th {\n",
       "        vertical-align: top;\n",
       "    }\n",
       "\n",
       "    .dataframe thead th {\n",
       "        text-align: right;\n",
       "    }\n",
       "</style>\n",
       "<table border=\"1\" class=\"dataframe\">\n",
       "  <thead>\n",
       "    <tr style=\"text-align: right;\">\n",
       "      <th></th>\n",
       "      <th>customerID</th>\n",
       "      <th>gender</th>\n",
       "      <th>SeniorCitizen</th>\n",
       "      <th>Partner</th>\n",
       "      <th>Dependents</th>\n",
       "      <th>tenure</th>\n",
       "      <th>PhoneService</th>\n",
       "      <th>MultipleLines</th>\n",
       "      <th>InternetService</th>\n",
       "      <th>OnlineSecurity</th>\n",
       "      <th>OnlineBackup</th>\n",
       "      <th>DeviceProtection</th>\n",
       "      <th>TechSupport</th>\n",
       "      <th>StreamingTV</th>\n",
       "      <th>StreamingMovies</th>\n",
       "      <th>Contract</th>\n",
       "      <th>PaperlessBilling</th>\n",
       "      <th>PaymentMethod</th>\n",
       "      <th>MonthlyCharges</th>\n",
       "      <th>TotalCharges</th>\n",
       "      <th>Churn</th>\n",
       "    </tr>\n",
       "  </thead>\n",
       "  <tbody>\n",
       "  </tbody>\n",
       "</table>\n",
       "</div>"
      ],
      "text/plain": [
       "Empty DataFrame\n",
       "Columns: [customerID, gender, SeniorCitizen, Partner, Dependents, tenure, PhoneService, MultipleLines, InternetService, OnlineSecurity, OnlineBackup, DeviceProtection, TechSupport, StreamingTV, StreamingMovies, Contract, PaperlessBilling, PaymentMethod, MonthlyCharges, TotalCharges, Churn]\n",
       "Index: []"
      ]
     },
     "execution_count": 20,
     "metadata": {},
     "output_type": "execute_result"
    }
   ],
   "source": [
    "telco[np.isnan(telco['TotalCharges'])]"
   ]
  },
  {
   "cell_type": "code",
   "execution_count": 21,
   "id": "827428e5",
   "metadata": {},
   "outputs": [
    {
     "data": {
      "text/plain": [
       "array(['customerID', 'gender', 'SeniorCitizen', 'Partner', 'Dependents',\n",
       "       'tenure', 'PhoneService', 'MultipleLines', 'InternetService',\n",
       "       'OnlineSecurity', 'OnlineBackup', 'DeviceProtection',\n",
       "       'TechSupport', 'StreamingTV', 'StreamingMovies', 'Contract',\n",
       "       'PaperlessBilling', 'PaymentMethod', 'MonthlyCharges',\n",
       "       'TotalCharges', 'Churn'], dtype=object)"
      ]
     },
     "execution_count": 21,
     "metadata": {},
     "output_type": "execute_result"
    }
   ],
   "source": [
    "telco.columns.values"
   ]
  },
  {
   "cell_type": "code",
   "execution_count": 22,
   "id": "c32066fb",
   "metadata": {},
   "outputs": [
    {
     "data": {
      "application/vnd.microsoft.datawrangler.viewer.v0+json": {
       "columns": [
        {
         "name": "index",
         "rawType": "object",
         "type": "string"
        },
        {
         "name": "0",
         "rawType": "object",
         "type": "unknown"
        }
       ],
       "ref": "a873b23c-9eb2-4f5f-8f23-10b9473f07d6",
       "rows": [
        [
         "customerID",
         "object"
        ],
        [
         "gender",
         "object"
        ],
        [
         "SeniorCitizen",
         "int64"
        ],
        [
         "Partner",
         "object"
        ],
        [
         "Dependents",
         "object"
        ],
        [
         "tenure",
         "int64"
        ],
        [
         "PhoneService",
         "object"
        ],
        [
         "MultipleLines",
         "object"
        ],
        [
         "InternetService",
         "object"
        ],
        [
         "OnlineSecurity",
         "object"
        ],
        [
         "OnlineBackup",
         "object"
        ],
        [
         "DeviceProtection",
         "object"
        ],
        [
         "TechSupport",
         "object"
        ],
        [
         "StreamingTV",
         "object"
        ],
        [
         "StreamingMovies",
         "object"
        ],
        [
         "Contract",
         "object"
        ],
        [
         "PaperlessBilling",
         "object"
        ],
        [
         "PaymentMethod",
         "object"
        ],
        [
         "MonthlyCharges",
         "float64"
        ],
        [
         "TotalCharges",
         "float64"
        ],
        [
         "Churn",
         "object"
        ]
       ],
       "shape": {
        "columns": 1,
        "rows": 21
       }
      },
      "text/plain": [
       "customerID           object\n",
       "gender               object\n",
       "SeniorCitizen         int64\n",
       "Partner              object\n",
       "Dependents           object\n",
       "tenure                int64\n",
       "PhoneService         object\n",
       "MultipleLines        object\n",
       "InternetService      object\n",
       "OnlineSecurity       object\n",
       "OnlineBackup         object\n",
       "DeviceProtection     object\n",
       "TechSupport          object\n",
       "StreamingTV          object\n",
       "StreamingMovies      object\n",
       "Contract             object\n",
       "PaperlessBilling     object\n",
       "PaymentMethod        object\n",
       "MonthlyCharges      float64\n",
       "TotalCharges        float64\n",
       "Churn                object\n",
       "dtype: object"
      ]
     },
     "execution_count": 22,
     "metadata": {},
     "output_type": "execute_result"
    }
   ],
   "source": [
    "telco.dtypes"
   ]
  },
  {
   "cell_type": "code",
   "execution_count": 23,
   "id": "b6bb7b28",
   "metadata": {},
   "outputs": [
    {
     "data": {
      "application/vnd.microsoft.datawrangler.viewer.v0+json": {
       "columns": [
        {
         "name": "index",
         "rawType": "int64",
         "type": "integer"
        },
        {
         "name": "customerID",
         "rawType": "object",
         "type": "string"
        },
        {
         "name": "gender",
         "rawType": "object",
         "type": "string"
        },
        {
         "name": "SeniorCitizen",
         "rawType": "int64",
         "type": "integer"
        },
        {
         "name": "Partner",
         "rawType": "object",
         "type": "string"
        },
        {
         "name": "Dependents",
         "rawType": "object",
         "type": "string"
        },
        {
         "name": "tenure",
         "rawType": "int64",
         "type": "integer"
        },
        {
         "name": "PhoneService",
         "rawType": "object",
         "type": "string"
        },
        {
         "name": "MultipleLines",
         "rawType": "object",
         "type": "string"
        },
        {
         "name": "InternetService",
         "rawType": "object",
         "type": "string"
        },
        {
         "name": "OnlineSecurity",
         "rawType": "object",
         "type": "string"
        },
        {
         "name": "OnlineBackup",
         "rawType": "object",
         "type": "string"
        },
        {
         "name": "DeviceProtection",
         "rawType": "object",
         "type": "string"
        },
        {
         "name": "TechSupport",
         "rawType": "object",
         "type": "string"
        },
        {
         "name": "StreamingTV",
         "rawType": "object",
         "type": "string"
        },
        {
         "name": "StreamingMovies",
         "rawType": "object",
         "type": "string"
        },
        {
         "name": "Contract",
         "rawType": "object",
         "type": "string"
        },
        {
         "name": "PaperlessBilling",
         "rawType": "object",
         "type": "string"
        },
        {
         "name": "PaymentMethod",
         "rawType": "object",
         "type": "string"
        },
        {
         "name": "MonthlyCharges",
         "rawType": "float64",
         "type": "float"
        },
        {
         "name": "TotalCharges",
         "rawType": "float64",
         "type": "float"
        },
        {
         "name": "Churn",
         "rawType": "object",
         "type": "string"
        }
       ],
       "ref": "ff11ebe5-0ddf-4e2c-abbf-7298d2d26c45",
       "rows": [
        [
         "0",
         "7590-VHVEG",
         "Female",
         "0",
         "Yes",
         "No",
         "1",
         "No",
         "No phone service",
         "DSL",
         "No",
         "Yes",
         "No",
         "No",
         "No",
         "No",
         "Month-to-month",
         "Yes",
         "Electronic check",
         "29.85",
         "29.85",
         "No"
        ],
        [
         "1",
         "5575-GNVDE",
         "Male",
         "0",
         "No",
         "No",
         "34",
         "Yes",
         "No",
         "DSL",
         "Yes",
         "No",
         "Yes",
         "No",
         "No",
         "No",
         "One year",
         "No",
         "Mailed check",
         "56.95",
         "1889.5",
         "No"
        ],
        [
         "2",
         "3668-QPYBK",
         "Male",
         "0",
         "No",
         "No",
         "2",
         "Yes",
         "No",
         "DSL",
         "Yes",
         "Yes",
         "No",
         "No",
         "No",
         "No",
         "Month-to-month",
         "Yes",
         "Mailed check",
         "53.85",
         "108.15",
         "Yes"
        ],
        [
         "3",
         "7795-CFOCW",
         "Male",
         "0",
         "No",
         "No",
         "45",
         "No",
         "No phone service",
         "DSL",
         "Yes",
         "No",
         "Yes",
         "Yes",
         "No",
         "No",
         "One year",
         "No",
         "Bank transfer (automatic)",
         "42.3",
         "1840.75",
         "No"
        ],
        [
         "4",
         "9237-HQITU",
         "Female",
         "0",
         "No",
         "No",
         "2",
         "Yes",
         "No",
         "Fiber optic",
         "No",
         "No",
         "No",
         "No",
         "No",
         "No",
         "Month-to-month",
         "Yes",
         "Electronic check",
         "70.7",
         "151.65",
         "Yes"
        ],
        [
         "5",
         "9305-CDSKC",
         "Female",
         "0",
         "No",
         "No",
         "8",
         "Yes",
         "Yes",
         "Fiber optic",
         "No",
         "No",
         "Yes",
         "No",
         "Yes",
         "Yes",
         "Month-to-month",
         "Yes",
         "Electronic check",
         "99.65",
         "820.5",
         "Yes"
        ]
       ],
       "shape": {
        "columns": 21,
        "rows": 6
       }
      },
      "text/html": [
       "<div>\n",
       "<style scoped>\n",
       "    .dataframe tbody tr th:only-of-type {\n",
       "        vertical-align: middle;\n",
       "    }\n",
       "\n",
       "    .dataframe tbody tr th {\n",
       "        vertical-align: top;\n",
       "    }\n",
       "\n",
       "    .dataframe thead th {\n",
       "        text-align: right;\n",
       "    }\n",
       "</style>\n",
       "<table border=\"1\" class=\"dataframe\">\n",
       "  <thead>\n",
       "    <tr style=\"text-align: right;\">\n",
       "      <th></th>\n",
       "      <th>customerID</th>\n",
       "      <th>gender</th>\n",
       "      <th>SeniorCitizen</th>\n",
       "      <th>Partner</th>\n",
       "      <th>Dependents</th>\n",
       "      <th>tenure</th>\n",
       "      <th>PhoneService</th>\n",
       "      <th>MultipleLines</th>\n",
       "      <th>InternetService</th>\n",
       "      <th>OnlineSecurity</th>\n",
       "      <th>OnlineBackup</th>\n",
       "      <th>DeviceProtection</th>\n",
       "      <th>TechSupport</th>\n",
       "      <th>StreamingTV</th>\n",
       "      <th>StreamingMovies</th>\n",
       "      <th>Contract</th>\n",
       "      <th>PaperlessBilling</th>\n",
       "      <th>PaymentMethod</th>\n",
       "      <th>MonthlyCharges</th>\n",
       "      <th>TotalCharges</th>\n",
       "      <th>Churn</th>\n",
       "    </tr>\n",
       "  </thead>\n",
       "  <tbody>\n",
       "    <tr>\n",
       "      <th>0</th>\n",
       "      <td>7590-VHVEG</td>\n",
       "      <td>Female</td>\n",
       "      <td>0</td>\n",
       "      <td>Yes</td>\n",
       "      <td>No</td>\n",
       "      <td>1</td>\n",
       "      <td>No</td>\n",
       "      <td>No phone service</td>\n",
       "      <td>DSL</td>\n",
       "      <td>No</td>\n",
       "      <td>Yes</td>\n",
       "      <td>No</td>\n",
       "      <td>No</td>\n",
       "      <td>No</td>\n",
       "      <td>No</td>\n",
       "      <td>Month-to-month</td>\n",
       "      <td>Yes</td>\n",
       "      <td>Electronic check</td>\n",
       "      <td>29.850</td>\n",
       "      <td>29.850</td>\n",
       "      <td>No</td>\n",
       "    </tr>\n",
       "    <tr>\n",
       "      <th>1</th>\n",
       "      <td>5575-GNVDE</td>\n",
       "      <td>Male</td>\n",
       "      <td>0</td>\n",
       "      <td>No</td>\n",
       "      <td>No</td>\n",
       "      <td>34</td>\n",
       "      <td>Yes</td>\n",
       "      <td>No</td>\n",
       "      <td>DSL</td>\n",
       "      <td>Yes</td>\n",
       "      <td>No</td>\n",
       "      <td>Yes</td>\n",
       "      <td>No</td>\n",
       "      <td>No</td>\n",
       "      <td>No</td>\n",
       "      <td>One year</td>\n",
       "      <td>No</td>\n",
       "      <td>Mailed check</td>\n",
       "      <td>56.950</td>\n",
       "      <td>1889.500</td>\n",
       "      <td>No</td>\n",
       "    </tr>\n",
       "    <tr>\n",
       "      <th>2</th>\n",
       "      <td>3668-QPYBK</td>\n",
       "      <td>Male</td>\n",
       "      <td>0</td>\n",
       "      <td>No</td>\n",
       "      <td>No</td>\n",
       "      <td>2</td>\n",
       "      <td>Yes</td>\n",
       "      <td>No</td>\n",
       "      <td>DSL</td>\n",
       "      <td>Yes</td>\n",
       "      <td>Yes</td>\n",
       "      <td>No</td>\n",
       "      <td>No</td>\n",
       "      <td>No</td>\n",
       "      <td>No</td>\n",
       "      <td>Month-to-month</td>\n",
       "      <td>Yes</td>\n",
       "      <td>Mailed check</td>\n",
       "      <td>53.850</td>\n",
       "      <td>108.150</td>\n",
       "      <td>Yes</td>\n",
       "    </tr>\n",
       "    <tr>\n",
       "      <th>3</th>\n",
       "      <td>7795-CFOCW</td>\n",
       "      <td>Male</td>\n",
       "      <td>0</td>\n",
       "      <td>No</td>\n",
       "      <td>No</td>\n",
       "      <td>45</td>\n",
       "      <td>No</td>\n",
       "      <td>No phone service</td>\n",
       "      <td>DSL</td>\n",
       "      <td>Yes</td>\n",
       "      <td>No</td>\n",
       "      <td>Yes</td>\n",
       "      <td>Yes</td>\n",
       "      <td>No</td>\n",
       "      <td>No</td>\n",
       "      <td>One year</td>\n",
       "      <td>No</td>\n",
       "      <td>Bank transfer (automatic)</td>\n",
       "      <td>42.300</td>\n",
       "      <td>1840.750</td>\n",
       "      <td>No</td>\n",
       "    </tr>\n",
       "    <tr>\n",
       "      <th>4</th>\n",
       "      <td>9237-HQITU</td>\n",
       "      <td>Female</td>\n",
       "      <td>0</td>\n",
       "      <td>No</td>\n",
       "      <td>No</td>\n",
       "      <td>2</td>\n",
       "      <td>Yes</td>\n",
       "      <td>No</td>\n",
       "      <td>Fiber optic</td>\n",
       "      <td>No</td>\n",
       "      <td>No</td>\n",
       "      <td>No</td>\n",
       "      <td>No</td>\n",
       "      <td>No</td>\n",
       "      <td>No</td>\n",
       "      <td>Month-to-month</td>\n",
       "      <td>Yes</td>\n",
       "      <td>Electronic check</td>\n",
       "      <td>70.700</td>\n",
       "      <td>151.650</td>\n",
       "      <td>Yes</td>\n",
       "    </tr>\n",
       "    <tr>\n",
       "      <th>5</th>\n",
       "      <td>9305-CDSKC</td>\n",
       "      <td>Female</td>\n",
       "      <td>0</td>\n",
       "      <td>No</td>\n",
       "      <td>No</td>\n",
       "      <td>8</td>\n",
       "      <td>Yes</td>\n",
       "      <td>Yes</td>\n",
       "      <td>Fiber optic</td>\n",
       "      <td>No</td>\n",
       "      <td>No</td>\n",
       "      <td>Yes</td>\n",
       "      <td>No</td>\n",
       "      <td>Yes</td>\n",
       "      <td>Yes</td>\n",
       "      <td>Month-to-month</td>\n",
       "      <td>Yes</td>\n",
       "      <td>Electronic check</td>\n",
       "      <td>99.650</td>\n",
       "      <td>820.500</td>\n",
       "      <td>Yes</td>\n",
       "    </tr>\n",
       "  </tbody>\n",
       "</table>\n",
       "</div>"
      ],
      "text/plain": [
       "   customerID  gender  SeniorCitizen Partner Dependents  tenure PhoneService  \\\n",
       "0  7590-VHVEG  Female              0     Yes         No       1           No   \n",
       "1  5575-GNVDE    Male              0      No         No      34          Yes   \n",
       "2  3668-QPYBK    Male              0      No         No       2          Yes   \n",
       "3  7795-CFOCW    Male              0      No         No      45           No   \n",
       "4  9237-HQITU  Female              0      No         No       2          Yes   \n",
       "5  9305-CDSKC  Female              0      No         No       8          Yes   \n",
       "\n",
       "      MultipleLines InternetService OnlineSecurity OnlineBackup  \\\n",
       "0  No phone service             DSL             No          Yes   \n",
       "1                No             DSL            Yes           No   \n",
       "2                No             DSL            Yes          Yes   \n",
       "3  No phone service             DSL            Yes           No   \n",
       "4                No     Fiber optic             No           No   \n",
       "5               Yes     Fiber optic             No           No   \n",
       "\n",
       "  DeviceProtection TechSupport StreamingTV StreamingMovies        Contract  \\\n",
       "0               No          No          No              No  Month-to-month   \n",
       "1              Yes          No          No              No        One year   \n",
       "2               No          No          No              No  Month-to-month   \n",
       "3              Yes         Yes          No              No        One year   \n",
       "4               No          No          No              No  Month-to-month   \n",
       "5              Yes          No         Yes             Yes  Month-to-month   \n",
       "\n",
       "  PaperlessBilling              PaymentMethod  MonthlyCharges  TotalCharges  \\\n",
       "0              Yes           Electronic check          29.850        29.850   \n",
       "1               No               Mailed check          56.950      1889.500   \n",
       "2              Yes               Mailed check          53.850       108.150   \n",
       "3               No  Bank transfer (automatic)          42.300      1840.750   \n",
       "4              Yes           Electronic check          70.700       151.650   \n",
       "5              Yes           Electronic check          99.650       820.500   \n",
       "\n",
       "  Churn  \n",
       "0    No  \n",
       "1    No  \n",
       "2   Yes  \n",
       "3    No  \n",
       "4   Yes  \n",
       "5   Yes  "
      ]
     },
     "execution_count": 23,
     "metadata": {},
     "output_type": "execute_result"
    }
   ],
   "source": [
    "telco.head(6)"
   ]
  },
  {
   "cell_type": "markdown",
   "id": "b09e9b85",
   "metadata": {},
   "source": [
    "## Determining Unique values in these columns\n"
   ]
  },
  {
   "cell_type": "code",
   "execution_count": 24,
   "id": "0fad7887",
   "metadata": {},
   "outputs": [
    {
     "data": {
      "text/plain": [
       "array(['No', 'Yes'], dtype=object)"
      ]
     },
     "execution_count": 24,
     "metadata": {},
     "output_type": "execute_result"
    }
   ],
   "source": [
    "telco['Churn'].unique()"
   ]
  },
  {
   "cell_type": "code",
   "execution_count": 25,
   "id": "bc4352bd",
   "metadata": {},
   "outputs": [
    {
     "data": {
      "text/plain": [
       "array(['Electronic check', 'Mailed check', 'Bank transfer (automatic)',\n",
       "       'Credit card (automatic)'], dtype=object)"
      ]
     },
     "execution_count": 25,
     "metadata": {},
     "output_type": "execute_result"
    }
   ],
   "source": [
    "telco['PaymentMethod'].unique()"
   ]
  },
  {
   "cell_type": "code",
   "execution_count": 26,
   "id": "f0d2c274",
   "metadata": {},
   "outputs": [
    {
     "data": {
      "text/plain": [
       "array(['Month-to-month', 'One year', 'Two year'], dtype=object)"
      ]
     },
     "execution_count": 26,
     "metadata": {},
     "output_type": "execute_result"
    }
   ],
   "source": [
    "telco['Contract'].unique()"
   ]
  },
  {
   "cell_type": "code",
   "execution_count": 27,
   "id": "862b7220",
   "metadata": {},
   "outputs": [
    {
     "data": {
      "text/plain": [
       "array(['DSL', 'Fiber optic', 'No'], dtype=object)"
      ]
     },
     "execution_count": 27,
     "metadata": {},
     "output_type": "execute_result"
    }
   ],
   "source": [
    "telco['InternetService'].unique()"
   ]
  },
  {
   "cell_type": "markdown",
   "id": "c16c1788",
   "metadata": {},
   "source": [
    "## Handling categorical inconsistencies"
   ]
  },
  {
   "cell_type": "code",
   "execution_count": 75,
   "id": "d75ff7cc",
   "metadata": {},
   "outputs": [
    {
     "name": "stdout",
     "output_type": "stream",
     "text": [
      "gender: ['Female' 'Male']\n",
      "Partner: ['Yes' 'No']\n",
      "Dependents: ['No' 'Yes']\n",
      "PhoneService: ['No' 'Yes']\n",
      "MultipleLines: ['No' 'Yes']\n",
      "InternetService: ['DSL' 'Fiber optic' 'No']\n",
      "OnlineSecurity: ['No' 'Yes']\n",
      "OnlineBackup: ['Yes' 'No']\n",
      "DeviceProtection: ['No' 'Yes']\n",
      "TechSupport: ['No' 'Yes']\n",
      "StreamingTV: ['No' 'Yes']\n",
      "StreamingMovies: ['No' 'Yes']\n",
      "Contract: ['Month-to-month' 'One year' 'Two year']\n",
      "PaperlessBilling: ['Yes' 'No']\n",
      "PaymentMethod: ['Electronic check' 'Mailed check' 'Bank transfer (automatic)'\n",
      " 'Credit card (automatic)']\n",
      "Churn: ['No' 'Yes']\n"
     ]
    }
   ],
   "source": [
    "# List categorical columns\n",
    "cat_cols = [col for col in telco.columns if telco[col].dtype == 'object' and col != 'customerID']\n",
    "\n",
    "# Recode 'No phone service' and 'No internet service' to 'No' for consistency\n",
    "services = ['MultipleLines', 'OnlineSecurity', 'OnlineBackup', 'DeviceProtection', 'TechSupport', 'StreamingTV', 'StreamingMovies']\n",
    "for col in services:\n",
    "    telco[col] = telco[col].replace({'No phone service': 'No', 'No internet service': 'No'})\n",
    "\n",
    "# Verify unique values\n",
    "for col in cat_cols:\n",
    "    print(f\"{col}: {telco[col].unique()}\")"
   ]
  },
  {
   "cell_type": "code",
   "execution_count": 29,
   "id": "67d4a9dc",
   "metadata": {},
   "outputs": [
    {
     "data": {
      "application/vnd.microsoft.datawrangler.viewer.v0+json": {
       "columns": [
        {
         "name": "index",
         "rawType": "int64",
         "type": "integer"
        },
        {
         "name": "customerID",
         "rawType": "object",
         "type": "string"
        },
        {
         "name": "gender",
         "rawType": "object",
         "type": "string"
        },
        {
         "name": "SeniorCitizen",
         "rawType": "int64",
         "type": "integer"
        },
        {
         "name": "Partner",
         "rawType": "object",
         "type": "string"
        },
        {
         "name": "Dependents",
         "rawType": "object",
         "type": "string"
        },
        {
         "name": "tenure",
         "rawType": "int64",
         "type": "integer"
        },
        {
         "name": "PhoneService",
         "rawType": "object",
         "type": "string"
        },
        {
         "name": "MultipleLines",
         "rawType": "object",
         "type": "string"
        },
        {
         "name": "InternetService",
         "rawType": "object",
         "type": "string"
        },
        {
         "name": "OnlineSecurity",
         "rawType": "object",
         "type": "string"
        },
        {
         "name": "OnlineBackup",
         "rawType": "object",
         "type": "string"
        },
        {
         "name": "DeviceProtection",
         "rawType": "object",
         "type": "string"
        },
        {
         "name": "TechSupport",
         "rawType": "object",
         "type": "string"
        },
        {
         "name": "StreamingTV",
         "rawType": "object",
         "type": "string"
        },
        {
         "name": "StreamingMovies",
         "rawType": "object",
         "type": "string"
        },
        {
         "name": "Contract",
         "rawType": "object",
         "type": "string"
        },
        {
         "name": "PaperlessBilling",
         "rawType": "object",
         "type": "string"
        },
        {
         "name": "PaymentMethod",
         "rawType": "object",
         "type": "string"
        },
        {
         "name": "MonthlyCharges",
         "rawType": "float64",
         "type": "float"
        },
        {
         "name": "TotalCharges",
         "rawType": "float64",
         "type": "float"
        },
        {
         "name": "Churn",
         "rawType": "object",
         "type": "string"
        }
       ],
       "ref": "fbce622f-a2c2-4188-b84b-5b124d62aed5",
       "rows": [
        [
         "0",
         "7590-VHVEG",
         "Female",
         "0",
         "Yes",
         "No",
         "1",
         "No",
         "No",
         "DSL",
         "No",
         "Yes",
         "No",
         "No",
         "No",
         "No",
         "Month-to-month",
         "Yes",
         "Electronic check",
         "29.85",
         "29.85",
         "No"
        ],
        [
         "1",
         "5575-GNVDE",
         "Male",
         "0",
         "No",
         "No",
         "34",
         "Yes",
         "No",
         "DSL",
         "Yes",
         "No",
         "Yes",
         "No",
         "No",
         "No",
         "One year",
         "No",
         "Mailed check",
         "56.95",
         "1889.5",
         "No"
        ],
        [
         "2",
         "3668-QPYBK",
         "Male",
         "0",
         "No",
         "No",
         "2",
         "Yes",
         "No",
         "DSL",
         "Yes",
         "Yes",
         "No",
         "No",
         "No",
         "No",
         "Month-to-month",
         "Yes",
         "Mailed check",
         "53.85",
         "108.15",
         "Yes"
        ],
        [
         "3",
         "7795-CFOCW",
         "Male",
         "0",
         "No",
         "No",
         "45",
         "No",
         "No",
         "DSL",
         "Yes",
         "No",
         "Yes",
         "Yes",
         "No",
         "No",
         "One year",
         "No",
         "Bank transfer (automatic)",
         "42.3",
         "1840.75",
         "No"
        ],
        [
         "4",
         "9237-HQITU",
         "Female",
         "0",
         "No",
         "No",
         "2",
         "Yes",
         "No",
         "Fiber optic",
         "No",
         "No",
         "No",
         "No",
         "No",
         "No",
         "Month-to-month",
         "Yes",
         "Electronic check",
         "70.7",
         "151.65",
         "Yes"
        ],
        [
         "5",
         "9305-CDSKC",
         "Female",
         "0",
         "No",
         "No",
         "8",
         "Yes",
         "Yes",
         "Fiber optic",
         "No",
         "No",
         "Yes",
         "No",
         "Yes",
         "Yes",
         "Month-to-month",
         "Yes",
         "Electronic check",
         "99.65",
         "820.5",
         "Yes"
        ]
       ],
       "shape": {
        "columns": 21,
        "rows": 6
       }
      },
      "text/html": [
       "<div>\n",
       "<style scoped>\n",
       "    .dataframe tbody tr th:only-of-type {\n",
       "        vertical-align: middle;\n",
       "    }\n",
       "\n",
       "    .dataframe tbody tr th {\n",
       "        vertical-align: top;\n",
       "    }\n",
       "\n",
       "    .dataframe thead th {\n",
       "        text-align: right;\n",
       "    }\n",
       "</style>\n",
       "<table border=\"1\" class=\"dataframe\">\n",
       "  <thead>\n",
       "    <tr style=\"text-align: right;\">\n",
       "      <th></th>\n",
       "      <th>customerID</th>\n",
       "      <th>gender</th>\n",
       "      <th>SeniorCitizen</th>\n",
       "      <th>Partner</th>\n",
       "      <th>Dependents</th>\n",
       "      <th>tenure</th>\n",
       "      <th>PhoneService</th>\n",
       "      <th>MultipleLines</th>\n",
       "      <th>InternetService</th>\n",
       "      <th>OnlineSecurity</th>\n",
       "      <th>OnlineBackup</th>\n",
       "      <th>DeviceProtection</th>\n",
       "      <th>TechSupport</th>\n",
       "      <th>StreamingTV</th>\n",
       "      <th>StreamingMovies</th>\n",
       "      <th>Contract</th>\n",
       "      <th>PaperlessBilling</th>\n",
       "      <th>PaymentMethod</th>\n",
       "      <th>MonthlyCharges</th>\n",
       "      <th>TotalCharges</th>\n",
       "      <th>Churn</th>\n",
       "    </tr>\n",
       "  </thead>\n",
       "  <tbody>\n",
       "    <tr>\n",
       "      <th>0</th>\n",
       "      <td>7590-VHVEG</td>\n",
       "      <td>Female</td>\n",
       "      <td>0</td>\n",
       "      <td>Yes</td>\n",
       "      <td>No</td>\n",
       "      <td>1</td>\n",
       "      <td>No</td>\n",
       "      <td>No</td>\n",
       "      <td>DSL</td>\n",
       "      <td>No</td>\n",
       "      <td>Yes</td>\n",
       "      <td>No</td>\n",
       "      <td>No</td>\n",
       "      <td>No</td>\n",
       "      <td>No</td>\n",
       "      <td>Month-to-month</td>\n",
       "      <td>Yes</td>\n",
       "      <td>Electronic check</td>\n",
       "      <td>29.850</td>\n",
       "      <td>29.850</td>\n",
       "      <td>No</td>\n",
       "    </tr>\n",
       "    <tr>\n",
       "      <th>1</th>\n",
       "      <td>5575-GNVDE</td>\n",
       "      <td>Male</td>\n",
       "      <td>0</td>\n",
       "      <td>No</td>\n",
       "      <td>No</td>\n",
       "      <td>34</td>\n",
       "      <td>Yes</td>\n",
       "      <td>No</td>\n",
       "      <td>DSL</td>\n",
       "      <td>Yes</td>\n",
       "      <td>No</td>\n",
       "      <td>Yes</td>\n",
       "      <td>No</td>\n",
       "      <td>No</td>\n",
       "      <td>No</td>\n",
       "      <td>One year</td>\n",
       "      <td>No</td>\n",
       "      <td>Mailed check</td>\n",
       "      <td>56.950</td>\n",
       "      <td>1889.500</td>\n",
       "      <td>No</td>\n",
       "    </tr>\n",
       "    <tr>\n",
       "      <th>2</th>\n",
       "      <td>3668-QPYBK</td>\n",
       "      <td>Male</td>\n",
       "      <td>0</td>\n",
       "      <td>No</td>\n",
       "      <td>No</td>\n",
       "      <td>2</td>\n",
       "      <td>Yes</td>\n",
       "      <td>No</td>\n",
       "      <td>DSL</td>\n",
       "      <td>Yes</td>\n",
       "      <td>Yes</td>\n",
       "      <td>No</td>\n",
       "      <td>No</td>\n",
       "      <td>No</td>\n",
       "      <td>No</td>\n",
       "      <td>Month-to-month</td>\n",
       "      <td>Yes</td>\n",
       "      <td>Mailed check</td>\n",
       "      <td>53.850</td>\n",
       "      <td>108.150</td>\n",
       "      <td>Yes</td>\n",
       "    </tr>\n",
       "    <tr>\n",
       "      <th>3</th>\n",
       "      <td>7795-CFOCW</td>\n",
       "      <td>Male</td>\n",
       "      <td>0</td>\n",
       "      <td>No</td>\n",
       "      <td>No</td>\n",
       "      <td>45</td>\n",
       "      <td>No</td>\n",
       "      <td>No</td>\n",
       "      <td>DSL</td>\n",
       "      <td>Yes</td>\n",
       "      <td>No</td>\n",
       "      <td>Yes</td>\n",
       "      <td>Yes</td>\n",
       "      <td>No</td>\n",
       "      <td>No</td>\n",
       "      <td>One year</td>\n",
       "      <td>No</td>\n",
       "      <td>Bank transfer (automatic)</td>\n",
       "      <td>42.300</td>\n",
       "      <td>1840.750</td>\n",
       "      <td>No</td>\n",
       "    </tr>\n",
       "    <tr>\n",
       "      <th>4</th>\n",
       "      <td>9237-HQITU</td>\n",
       "      <td>Female</td>\n",
       "      <td>0</td>\n",
       "      <td>No</td>\n",
       "      <td>No</td>\n",
       "      <td>2</td>\n",
       "      <td>Yes</td>\n",
       "      <td>No</td>\n",
       "      <td>Fiber optic</td>\n",
       "      <td>No</td>\n",
       "      <td>No</td>\n",
       "      <td>No</td>\n",
       "      <td>No</td>\n",
       "      <td>No</td>\n",
       "      <td>No</td>\n",
       "      <td>Month-to-month</td>\n",
       "      <td>Yes</td>\n",
       "      <td>Electronic check</td>\n",
       "      <td>70.700</td>\n",
       "      <td>151.650</td>\n",
       "      <td>Yes</td>\n",
       "    </tr>\n",
       "    <tr>\n",
       "      <th>5</th>\n",
       "      <td>9305-CDSKC</td>\n",
       "      <td>Female</td>\n",
       "      <td>0</td>\n",
       "      <td>No</td>\n",
       "      <td>No</td>\n",
       "      <td>8</td>\n",
       "      <td>Yes</td>\n",
       "      <td>Yes</td>\n",
       "      <td>Fiber optic</td>\n",
       "      <td>No</td>\n",
       "      <td>No</td>\n",
       "      <td>Yes</td>\n",
       "      <td>No</td>\n",
       "      <td>Yes</td>\n",
       "      <td>Yes</td>\n",
       "      <td>Month-to-month</td>\n",
       "      <td>Yes</td>\n",
       "      <td>Electronic check</td>\n",
       "      <td>99.650</td>\n",
       "      <td>820.500</td>\n",
       "      <td>Yes</td>\n",
       "    </tr>\n",
       "  </tbody>\n",
       "</table>\n",
       "</div>"
      ],
      "text/plain": [
       "   customerID  gender  SeniorCitizen Partner Dependents  tenure PhoneService  \\\n",
       "0  7590-VHVEG  Female              0     Yes         No       1           No   \n",
       "1  5575-GNVDE    Male              0      No         No      34          Yes   \n",
       "2  3668-QPYBK    Male              0      No         No       2          Yes   \n",
       "3  7795-CFOCW    Male              0      No         No      45           No   \n",
       "4  9237-HQITU  Female              0      No         No       2          Yes   \n",
       "5  9305-CDSKC  Female              0      No         No       8          Yes   \n",
       "\n",
       "  MultipleLines InternetService OnlineSecurity OnlineBackup DeviceProtection  \\\n",
       "0            No             DSL             No          Yes               No   \n",
       "1            No             DSL            Yes           No              Yes   \n",
       "2            No             DSL            Yes          Yes               No   \n",
       "3            No             DSL            Yes           No              Yes   \n",
       "4            No     Fiber optic             No           No               No   \n",
       "5           Yes     Fiber optic             No           No              Yes   \n",
       "\n",
       "  TechSupport StreamingTV StreamingMovies        Contract PaperlessBilling  \\\n",
       "0          No          No              No  Month-to-month              Yes   \n",
       "1          No          No              No        One year               No   \n",
       "2          No          No              No  Month-to-month              Yes   \n",
       "3         Yes          No              No        One year               No   \n",
       "4          No          No              No  Month-to-month              Yes   \n",
       "5          No         Yes             Yes  Month-to-month              Yes   \n",
       "\n",
       "               PaymentMethod  MonthlyCharges  TotalCharges Churn  \n",
       "0           Electronic check          29.850        29.850    No  \n",
       "1               Mailed check          56.950      1889.500    No  \n",
       "2               Mailed check          53.850       108.150   Yes  \n",
       "3  Bank transfer (automatic)          42.300      1840.750    No  \n",
       "4           Electronic check          70.700       151.650   Yes  \n",
       "5           Electronic check          99.650       820.500   Yes  "
      ]
     },
     "execution_count": 29,
     "metadata": {},
     "output_type": "execute_result"
    }
   ],
   "source": [
    "telco.head(6)"
   ]
  },
  {
   "cell_type": "code",
   "execution_count": 30,
   "id": "cd784881",
   "metadata": {},
   "outputs": [
    {
     "data": {
      "image/png": "[encoded data removed]",
      "text/plain": [
       "<Figure size 800x400 with 1 Axes>"
      ]
     },
     "metadata": {},
     "output_type": "display_data"
    }
   ],
   "source": [
    "# bar chart for after recoding\n",
    "plt.figure(figsize=(8,4))\n",
    "telco['MultipleLines'].value_counts().plot(kind='bar')\n",
    "plt.title('MultipleLines After Recoding')\n",
    "plt.show()"
   ]
  },
  {
   "cell_type": "markdown",
   "id": "97173e7c",
   "metadata": {},
   "source": [
    "### See the outliers with boxplots"
   ]
  },
  {
   "cell_type": "code",
   "execution_count": 31,
   "id": "6dc0ad0e",
   "metadata": {},
   "outputs": [
    {
     "data": {
      "image/png": "[encoded data removed]",
      "text/plain": [
       "<Figure size 500x300 with 1 Axes>"
      ]
     },
     "metadata": {},
     "output_type": "display_data"
    },
    {
     "data": {
      "image/png": "[encoded data removed]",
      "text/plain": [
       "<Figure size 500x300 with 1 Axes>"
      ]
     },
     "metadata": {},
     "output_type": "display_data"
    },
    {
     "data": {
      "image/png": "[encoded data removed]",
      "text/plain": [
       "<Figure size 500x300 with 1 Axes>"
      ]
     },
     "metadata": {},
     "output_type": "display_data"
    }
   ],
   "source": [
    "# Numerical columns\n",
    "num_cols = ['tenure', 'MonthlyCharges', 'TotalCharges']\n",
    "\n",
    "# Box plots to detect outliers\n",
    "for col in num_cols:\n",
    "    plt.figure(figsize=(5,3))\n",
    "    telco.boxplot(column=col)\n",
    "    plt.title(f'Box Plot for {col}')\n",
    "    plt.show()"
   ]
  },
  {
   "cell_type": "markdown",
   "id": "cbab0790",
   "metadata": {},
   "source": [
    "## Handling the outliers"
   ]
  },
  {
   "cell_type": "code",
   "execution_count": 32,
   "id": "f0db7214",
   "metadata": {},
   "outputs": [],
   "source": [
    "num_cols = ['tenure', 'MonthlyCharges', 'TotalCharges']\n",
    "\n",
    "for col in num_cols:\n",
    "    # Calculate IQR\n",
    "    Q1 = telco[col].quantile(0.25)\n",
    "    Q3 = telco[col].quantile(0.75)\n",
    "    IQR = Q3 - Q1\n",
    "    \n",
    "    lower_bound = Q1 - 1.5 * IQR\n",
    "    upper_bound = Q3 + 1.5 * IQR\n",
    "    \n",
    "    # Cap outliers\n",
    "    telco[col] = np.where(telco[col] > upper_bound, upper_bound,\n",
    "                       np.where(telco[col] < lower_bound, lower_bound, telco[col]))\n"
   ]
  },
  {
   "cell_type": "code",
   "execution_count": 33,
   "id": "2ebbf7a4",
   "metadata": {},
   "outputs": [
    {
     "data": {
      "image/png": "[encoded data removed]",
      "text/plain": [
       "<Figure size 500x300 with 1 Axes>"
      ]
     },
     "metadata": {},
     "output_type": "display_data"
    },
    {
     "data": {
      "image/png": "[encoded data removed]",
      "text/plain": [
       "<Figure size 500x300 with 1 Axes>"
      ]
     },
     "metadata": {},
     "output_type": "display_data"
    },
    {
     "data": {
      "image/png": "[encoded data removed]",
      "text/plain": [
       "<Figure size 500x300 with 1 Axes>"
      ]
     },
     "metadata": {},
     "output_type": "display_data"
    }
   ],
   "source": [
    "# Numerical columns\n",
    "num_cols = ['tenure', 'MonthlyCharges', 'TotalCharges']\n",
    "\n",
    "# Box plots to detect outliers\n",
    "for col in num_cols:\n",
    "    plt.figure(figsize=(5,3))\n",
    "    telco.boxplot(column=col)\n",
    "    plt.title(f'Box Plot for {col} After Handling Outliers')\n",
    "    plt.show()"
   ]
  },
  {
   "cell_type": "markdown",
   "id": "5d8406f4",
   "metadata": {},
   "source": [
    "## Feature Engineering \n"
   ]
  },
  {
   "cell_type": "code",
   "execution_count": 77,
   "id": "d3b2e4c9",
   "metadata": {},
   "outputs": [],
   "source": [
    "# Tenure in years\n",
    "telco['TenureYears'] = telco['tenure'] // 12\n",
    "\n"
   ]
  },
  {
   "cell_type": "code",
   "execution_count": 82,
   "id": "57c08e6f",
   "metadata": {},
   "outputs": [
    {
     "data": {
      "application/vnd.microsoft.datawrangler.viewer.v0+json": {
       "columns": [
        {
         "name": "index",
         "rawType": "int64",
         "type": "integer"
        },
        {
         "name": "gender",
         "rawType": "object",
         "type": "string"
        },
        {
         "name": "SeniorCitizen",
         "rawType": "int64",
         "type": "integer"
        },
        {
         "name": "Partner",
         "rawType": "object",
         "type": "string"
        },
        {
         "name": "Dependents",
         "rawType": "object",
         "type": "string"
        },
        {
         "name": "tenure",
         "rawType": "float64",
         "type": "float"
        },
        {
         "name": "PhoneService",
         "rawType": "object",
         "type": "string"
        },
        {
         "name": "MultipleLines",
         "rawType": "object",
         "type": "string"
        },
        {
         "name": "InternetService",
         "rawType": "object",
         "type": "string"
        },
        {
         "name": "OnlineSecurity",
         "rawType": "object",
         "type": "string"
        },
        {
         "name": "OnlineBackup",
         "rawType": "object",
         "type": "string"
        },
        {
         "name": "DeviceProtection",
         "rawType": "object",
         "type": "string"
        },
        {
         "name": "TechSupport",
         "rawType": "object",
         "type": "string"
        },
        {
         "name": "StreamingTV",
         "rawType": "object",
         "type": "string"
        },
        {
         "name": "StreamingMovies",
         "rawType": "object",
         "type": "string"
        },
        {
         "name": "Contract",
         "rawType": "object",
         "type": "string"
        },
        {
         "name": "PaperlessBilling",
         "rawType": "object",
         "type": "string"
        },
        {
         "name": "PaymentMethod",
         "rawType": "object",
         "type": "string"
        },
        {
         "name": "MonthlyCharges",
         "rawType": "float64",
         "type": "float"
        },
        {
         "name": "TotalCharges",
         "rawType": "float64",
         "type": "float"
        },
        {
         "name": "Churn",
         "rawType": "object",
         "type": "string"
        },
        {
         "name": "TenureYears",
         "rawType": "float64",
         "type": "float"
        },
        {
         "name": "TotalServices",
         "rawType": "int64",
         "type": "integer"
        },
        {
         "name": "ChurnBinary",
         "rawType": "int64",
         "type": "integer"
        }
       ],
       "ref": "8d627040-5c0a-4091-bdce-7dbef77f6f05",
       "rows": [
        [
         "0",
         "Female",
         "0",
         "Yes",
         "No",
         "1.0",
         "No",
         "No",
         "DSL",
         "No",
         "Yes",
         "No",
         "No",
         "No",
         "No",
         "Month-to-month",
         "Yes",
         "Electronic check",
         "29.85",
         "29.85",
         "No",
         "0.0",
         "2",
         "0"
        ],
        [
         "1",
         "Male",
         "0",
         "No",
         "No",
         "34.0",
         "Yes",
         "No",
         "DSL",
         "Yes",
         "No",
         "Yes",
         "No",
         "No",
         "No",
         "One year",
         "No",
         "Mailed check",
         "56.95",
         "1889.5",
         "No",
         "2.0",
         "4",
         "0"
        ],
        [
         "2",
         "Male",
         "0",
         "No",
         "No",
         "2.0",
         "Yes",
         "No",
         "DSL",
         "Yes",
         "Yes",
         "No",
         "No",
         "No",
         "No",
         "Month-to-month",
         "Yes",
         "Mailed check",
         "53.85",
         "108.15",
         "Yes",
         "0.0",
         "4",
         "1"
        ],
        [
         "3",
         "Male",
         "0",
         "No",
         "No",
         "45.0",
         "No",
         "No",
         "DSL",
         "Yes",
         "No",
         "Yes",
         "Yes",
         "No",
         "No",
         "One year",
         "No",
         "Bank transfer (automatic)",
         "42.3",
         "1840.75",
         "No",
         "3.0",
         "4",
         "0"
        ],
        [
         "4",
         "Female",
         "0",
         "No",
         "No",
         "2.0",
         "Yes",
         "No",
         "Fiber optic",
         "No",
         "No",
         "No",
         "No",
         "No",
         "No",
         "Month-to-month",
         "Yes",
         "Electronic check",
         "70.7",
         "151.65",
         "Yes",
         "0.0",
         "2",
         "1"
        ]
       ],
       "shape": {
        "columns": 23,
        "rows": 5
       }
      },
      "text/html": [
       "<div>\n",
       "<style scoped>\n",
       "    .dataframe tbody tr th:only-of-type {\n",
       "        vertical-align: middle;\n",
       "    }\n",
       "\n",
       "    .dataframe tbody tr th {\n",
       "        vertical-align: top;\n",
       "    }\n",
       "\n",
       "    .dataframe thead th {\n",
       "        text-align: right;\n",
       "    }\n",
       "</style>\n",
       "<table border=\"1\" class=\"dataframe\">\n",
       "  <thead>\n",
       "    <tr style=\"text-align: right;\">\n",
       "      <th></th>\n",
       "      <th>gender</th>\n",
       "      <th>SeniorCitizen</th>\n",
       "      <th>Partner</th>\n",
       "      <th>Dependents</th>\n",
       "      <th>tenure</th>\n",
       "      <th>PhoneService</th>\n",
       "      <th>MultipleLines</th>\n",
       "      <th>InternetService</th>\n",
       "      <th>OnlineSecurity</th>\n",
       "      <th>OnlineBackup</th>\n",
       "      <th>DeviceProtection</th>\n",
       "      <th>TechSupport</th>\n",
       "      <th>StreamingTV</th>\n",
       "      <th>StreamingMovies</th>\n",
       "      <th>Contract</th>\n",
       "      <th>PaperlessBilling</th>\n",
       "      <th>PaymentMethod</th>\n",
       "      <th>MonthlyCharges</th>\n",
       "      <th>TotalCharges</th>\n",
       "      <th>Churn</th>\n",
       "      <th>TenureYears</th>\n",
       "      <th>TotalServices</th>\n",
       "      <th>ChurnBinary</th>\n",
       "    </tr>\n",
       "  </thead>\n",
       "  <tbody>\n",
       "    <tr>\n",
       "      <th>0</th>\n",
       "      <td>Female</td>\n",
       "      <td>0</td>\n",
       "      <td>Yes</td>\n",
       "      <td>No</td>\n",
       "      <td>1.000</td>\n",
       "      <td>No</td>\n",
       "      <td>No</td>\n",
       "      <td>DSL</td>\n",
       "      <td>No</td>\n",
       "      <td>Yes</td>\n",
       "      <td>No</td>\n",
       "      <td>No</td>\n",
       "      <td>No</td>\n",
       "      <td>No</td>\n",
       "      <td>Month-to-month</td>\n",
       "      <td>Yes</td>\n",
       "      <td>Electronic check</td>\n",
       "      <td>29.850</td>\n",
       "      <td>29.850</td>\n",
       "      <td>No</td>\n",
       "      <td>0.000</td>\n",
       "      <td>2</td>\n",
       "      <td>0</td>\n",
       "    </tr>\n",
       "    <tr>\n",
       "      <th>1</th>\n",
       "      <td>Male</td>\n",
       "      <td>0</td>\n",
       "      <td>No</td>\n",
       "      <td>No</td>\n",
       "      <td>34.000</td>\n",
       "      <td>Yes</td>\n",
       "      <td>No</td>\n",
       "      <td>DSL</td>\n",
       "      <td>Yes</td>\n",
       "      <td>No</td>\n",
       "      <td>Yes</td>\n",
       "      <td>No</td>\n",
       "      <td>No</td>\n",
       "      <td>No</td>\n",
       "      <td>One year</td>\n",
       "      <td>No</td>\n",
       "      <td>Mailed check</td>\n",
       "      <td>56.950</td>\n",
       "      <td>1889.500</td>\n",
       "      <td>No</td>\n",
       "      <td>2.000</td>\n",
       "      <td>4</td>\n",
       "      <td>0</td>\n",
       "    </tr>\n",
       "    <tr>\n",
       "      <th>2</th>\n",
       "      <td>Male</td>\n",
       "      <td>0</td>\n",
       "      <td>No</td>\n",
       "      <td>No</td>\n",
       "      <td>2.000</td>\n",
       "      <td>Yes</td>\n",
       "      <td>No</td>\n",
       "      <td>DSL</td>\n",
       "      <td>Yes</td>\n",
       "      <td>Yes</td>\n",
       "      <td>No</td>\n",
       "      <td>No</td>\n",
       "      <td>No</td>\n",
       "      <td>No</td>\n",
       "      <td>Month-to-month</td>\n",
       "      <td>Yes</td>\n",
       "      <td>Mailed check</td>\n",
       "      <td>53.850</td>\n",
       "      <td>108.150</td>\n",
       "      <td>Yes</td>\n",
       "      <td>0.000</td>\n",
       "      <td>4</td>\n",
       "      <td>1</td>\n",
       "    </tr>\n",
       "    <tr>\n",
       "      <th>3</th>\n",
       "      <td>Male</td>\n",
       "      <td>0</td>\n",
       "      <td>No</td>\n",
       "      <td>No</td>\n",
       "      <td>45.000</td>\n",
       "      <td>No</td>\n",
       "      <td>No</td>\n",
       "      <td>DSL</td>\n",
       "      <td>Yes</td>\n",
       "      <td>No</td>\n",
       "      <td>Yes</td>\n",
       "      <td>Yes</td>\n",
       "      <td>No</td>\n",
       "      <td>No</td>\n",
       "      <td>One year</td>\n",
       "      <td>No</td>\n",
       "      <td>Bank transfer (automatic)</td>\n",
       "      <td>42.300</td>\n",
       "      <td>1840.750</td>\n",
       "      <td>No</td>\n",
       "      <td>3.000</td>\n",
       "      <td>4</td>\n",
       "      <td>0</td>\n",
       "    </tr>\n",
       "    <tr>\n",
       "      <th>4</th>\n",
       "      <td>Female</td>\n",
       "      <td>0</td>\n",
       "      <td>No</td>\n",
       "      <td>No</td>\n",
       "      <td>2.000</td>\n",
       "      <td>Yes</td>\n",
       "      <td>No</td>\n",
       "      <td>Fiber optic</td>\n",
       "      <td>No</td>\n",
       "      <td>No</td>\n",
       "      <td>No</td>\n",
       "      <td>No</td>\n",
       "      <td>No</td>\n",
       "      <td>No</td>\n",
       "      <td>Month-to-month</td>\n",
       "      <td>Yes</td>\n",
       "      <td>Electronic check</td>\n",
       "      <td>70.700</td>\n",
       "      <td>151.650</td>\n",
       "      <td>Yes</td>\n",
       "      <td>0.000</td>\n",
       "      <td>2</td>\n",
       "      <td>1</td>\n",
       "    </tr>\n",
       "  </tbody>\n",
       "</table>\n",
       "</div>"
      ],
      "text/plain": [
       "   gender  SeniorCitizen Partner Dependents  tenure PhoneService  \\\n",
       "0  Female              0     Yes         No   1.000           No   \n",
       "1    Male              0      No         No  34.000          Yes   \n",
       "2    Male              0      No         No   2.000          Yes   \n",
       "3    Male              0      No         No  45.000           No   \n",
       "4  Female              0      No         No   2.000          Yes   \n",
       "\n",
       "  MultipleLines InternetService OnlineSecurity OnlineBackup DeviceProtection  \\\n",
       "0            No             DSL             No          Yes               No   \n",
       "1            No             DSL            Yes           No              Yes   \n",
       "2            No             DSL            Yes          Yes               No   \n",
       "3            No             DSL            Yes           No              Yes   \n",
       "4            No     Fiber optic             No           No               No   \n",
       "\n",
       "  TechSupport StreamingTV StreamingMovies        Contract PaperlessBilling  \\\n",
       "0          No          No              No  Month-to-month              Yes   \n",
       "1          No          No              No        One year               No   \n",
       "2          No          No              No  Month-to-month              Yes   \n",
       "3         Yes          No              No        One year               No   \n",
       "4          No          No              No  Month-to-month              Yes   \n",
       "\n",
       "               PaymentMethod  MonthlyCharges  TotalCharges Churn  TenureYears  \\\n",
       "0           Electronic check          29.850        29.850    No        0.000   \n",
       "1               Mailed check          56.950      1889.500    No        2.000   \n",
       "2               Mailed check          53.850       108.150   Yes        0.000   \n",
       "3  Bank transfer (automatic)          42.300      1840.750    No        3.000   \n",
       "4           Electronic check          70.700       151.650   Yes        0.000   \n",
       "\n",
       "   TotalServices  ChurnBinary  \n",
       "0              2            0  \n",
       "1              4            0  \n",
       "2              4            1  \n",
       "3              4            0  \n",
       "4              2            1  "
      ]
     },
     "execution_count": 82,
     "metadata": {},
     "output_type": "execute_result"
    }
   ],
   "source": [
    "\n",
    "# Total services count (for segmentation)\n",
    "service_cols = ['PhoneService', 'MultipleLines', 'InternetService', 'OnlineSecurity', 'OnlineBackup', 'DeviceProtection', 'TechSupport', 'StreamingTV', 'StreamingMovies']\n",
    "telco['TotalServices'] = telco[service_cols].apply(lambda x: (x == 'Yes').sum() + (x == 'DSL').sum() + (x == 'Fiber optic').sum(), axis=1)\n",
    "\n",
    "telco.head()"
   ]
  },
  {
   "cell_type": "code",
   "execution_count": 79,
   "id": "cfb4c9c1",
   "metadata": {},
   "outputs": [],
   "source": [
    "\n",
    "# Binary Churn (for easier aggregation later)\n",
    "telco['ChurnBinary'] = telco['Churn'].map({'Yes': 1, 'No': 0})"
   ]
  },
  {
   "cell_type": "code",
   "execution_count": 80,
   "id": "0684d97b",
   "metadata": {},
   "outputs": [
    {
     "data": {
      "application/vnd.microsoft.datawrangler.viewer.v0+json": {
       "columns": [
        {
         "name": "index",
         "rawType": "int64",
         "type": "integer"
        },
        {
         "name": "gender",
         "rawType": "object",
         "type": "string"
        },
        {
         "name": "SeniorCitizen",
         "rawType": "int64",
         "type": "integer"
        },
        {
         "name": "Partner",
         "rawType": "object",
         "type": "string"
        },
        {
         "name": "Dependents",
         "rawType": "object",
         "type": "string"
        },
        {
         "name": "tenure",
         "rawType": "float64",
         "type": "float"
        },
        {
         "name": "PhoneService",
         "rawType": "object",
         "type": "string"
        },
        {
         "name": "MultipleLines",
         "rawType": "object",
         "type": "string"
        },
        {
         "name": "InternetService",
         "rawType": "object",
         "type": "string"
        },
        {
         "name": "OnlineSecurity",
         "rawType": "object",
         "type": "string"
        },
        {
         "name": "OnlineBackup",
         "rawType": "object",
         "type": "string"
        },
        {
         "name": "DeviceProtection",
         "rawType": "object",
         "type": "string"
        },
        {
         "name": "TechSupport",
         "rawType": "object",
         "type": "string"
        },
        {
         "name": "StreamingTV",
         "rawType": "object",
         "type": "string"
        },
        {
         "name": "StreamingMovies",
         "rawType": "object",
         "type": "string"
        },
        {
         "name": "Contract",
         "rawType": "object",
         "type": "string"
        },
        {
         "name": "PaperlessBilling",
         "rawType": "object",
         "type": "string"
        },
        {
         "name": "PaymentMethod",
         "rawType": "object",
         "type": "string"
        },
        {
         "name": "MonthlyCharges",
         "rawType": "float64",
         "type": "float"
        },
        {
         "name": "TotalCharges",
         "rawType": "float64",
         "type": "float"
        },
        {
         "name": "Churn",
         "rawType": "object",
         "type": "string"
        },
        {
         "name": "TenureYears",
         "rawType": "float64",
         "type": "float"
        },
        {
         "name": "TotalServices",
         "rawType": "int64",
         "type": "integer"
        },
        {
         "name": "ChurnBinary",
         "rawType": "int64",
         "type": "integer"
        }
       ],
       "ref": "ebf24770-a45f-4884-aa20-9b4f404acbed",
       "rows": [
        [
         "7038",
         "Male",
         "0",
         "Yes",
         "Yes",
         "24.0",
         "Yes",
         "Yes",
         "DSL",
         "Yes",
         "No",
         "Yes",
         "Yes",
         "Yes",
         "Yes",
         "One year",
         "Yes",
         "Mailed check",
         "84.8",
         "1990.5",
         "No",
         "2.0",
         "8",
         "0"
        ],
        [
         "7039",
         "Female",
         "0",
         "Yes",
         "Yes",
         "72.0",
         "Yes",
         "Yes",
         "Fiber optic",
         "No",
         "Yes",
         "Yes",
         "No",
         "Yes",
         "Yes",
         "One year",
         "Yes",
         "Credit card (automatic)",
         "103.2",
         "7362.9",
         "No",
         "6.0",
         "7",
         "0"
        ],
        [
         "7040",
         "Female",
         "0",
         "Yes",
         "Yes",
         "11.0",
         "No",
         "No",
         "DSL",
         "Yes",
         "No",
         "No",
         "No",
         "No",
         "No",
         "Month-to-month",
         "Yes",
         "Electronic check",
         "29.6",
         "346.45",
         "No",
         "0.0",
         "2",
         "0"
        ],
        [
         "7041",
         "Male",
         "1",
         "Yes",
         "No",
         "4.0",
         "Yes",
         "Yes",
         "Fiber optic",
         "No",
         "No",
         "No",
         "No",
         "No",
         "No",
         "Month-to-month",
         "Yes",
         "Mailed check",
         "74.4",
         "306.6",
         "Yes",
         "0.0",
         "3",
         "1"
        ],
        [
         "7042",
         "Male",
         "0",
         "No",
         "No",
         "66.0",
         "Yes",
         "No",
         "Fiber optic",
         "Yes",
         "No",
         "Yes",
         "Yes",
         "Yes",
         "Yes",
         "Two year",
         "Yes",
         "Bank transfer (automatic)",
         "105.65",
         "6844.5",
         "No",
         "5.0",
         "7",
         "0"
        ]
       ],
       "shape": {
        "columns": 23,
        "rows": 5
       }
      },
      "text/html": [
       "<div>\n",
       "<style scoped>\n",
       "    .dataframe tbody tr th:only-of-type {\n",
       "        vertical-align: middle;\n",
       "    }\n",
       "\n",
       "    .dataframe tbody tr th {\n",
       "        vertical-align: top;\n",
       "    }\n",
       "\n",
       "    .dataframe thead th {\n",
       "        text-align: right;\n",
       "    }\n",
       "</style>\n",
       "<table border=\"1\" class=\"dataframe\">\n",
       "  <thead>\n",
       "    <tr style=\"text-align: right;\">\n",
       "      <th></th>\n",
       "      <th>gender</th>\n",
       "      <th>SeniorCitizen</th>\n",
       "      <th>Partner</th>\n",
       "      <th>Dependents</th>\n",
       "      <th>tenure</th>\n",
       "      <th>PhoneService</th>\n",
       "      <th>MultipleLines</th>\n",
       "      <th>InternetService</th>\n",
       "      <th>OnlineSecurity</th>\n",
       "      <th>OnlineBackup</th>\n",
       "      <th>DeviceProtection</th>\n",
       "      <th>TechSupport</th>\n",
       "      <th>StreamingTV</th>\n",
       "      <th>StreamingMovies</th>\n",
       "      <th>Contract</th>\n",
       "      <th>PaperlessBilling</th>\n",
       "      <th>PaymentMethod</th>\n",
       "      <th>MonthlyCharges</th>\n",
       "      <th>TotalCharges</th>\n",
       "      <th>Churn</th>\n",
       "      <th>TenureYears</th>\n",
       "      <th>TotalServices</th>\n",
       "      <th>ChurnBinary</th>\n",
       "    </tr>\n",
       "  </thead>\n",
       "  <tbody>\n",
       "    <tr>\n",
       "      <th>7038</th>\n",
       "      <td>Male</td>\n",
       "      <td>0</td>\n",
       "      <td>Yes</td>\n",
       "      <td>Yes</td>\n",
       "      <td>24.000</td>\n",
       "      <td>Yes</td>\n",
       "      <td>Yes</td>\n",
       "      <td>DSL</td>\n",
       "      <td>Yes</td>\n",
       "      <td>No</td>\n",
       "      <td>Yes</td>\n",
       "      <td>Yes</td>\n",
       "      <td>Yes</td>\n",
       "      <td>Yes</td>\n",
       "      <td>One year</td>\n",
       "      <td>Yes</td>\n",
       "      <td>Mailed check</td>\n",
       "      <td>84.800</td>\n",
       "      <td>1990.500</td>\n",
       "      <td>No</td>\n",
       "      <td>2.000</td>\n",
       "      <td>8</td>\n",
       "      <td>0</td>\n",
       "    </tr>\n",
       "    <tr>\n",
       "      <th>7039</th>\n",
       "      <td>Female</td>\n",
       "      <td>0</td>\n",
       "      <td>Yes</td>\n",
       "      <td>Yes</td>\n",
       "      <td>72.000</td>\n",
       "      <td>Yes</td>\n",
       "      <td>Yes</td>\n",
       "      <td>Fiber optic</td>\n",
       "      <td>No</td>\n",
       "      <td>Yes</td>\n",
       "      <td>Yes</td>\n",
       "      <td>No</td>\n",
       "      <td>Yes</td>\n",
       "      <td>Yes</td>\n",
       "      <td>One year</td>\n",
       "      <td>Yes</td>\n",
       "      <td>Credit card (automatic)</td>\n",
       "      <td>103.200</td>\n",
       "      <td>7362.900</td>\n",
       "      <td>No</td>\n",
       "      <td>6.000</td>\n",
       "      <td>7</td>\n",
       "      <td>0</td>\n",
       "    </tr>\n",
       "    <tr>\n",
       "      <th>7040</th>\n",
       "      <td>Female</td>\n",
       "      <td>0</td>\n",
       "      <td>Yes</td>\n",
       "      <td>Yes</td>\n",
       "      <td>11.000</td>\n",
       "      <td>No</td>\n",
       "      <td>No</td>\n",
       "      <td>DSL</td>\n",
       "      <td>Yes</td>\n",
       "      <td>No</td>\n",
       "      <td>No</td>\n",
       "      <td>No</td>\n",
       "      <td>No</td>\n",
       "      <td>No</td>\n",
       "      <td>Month-to-month</td>\n",
       "      <td>Yes</td>\n",
       "      <td>Electronic check</td>\n",
       "      <td>29.600</td>\n",
       "      <td>346.450</td>\n",
       "      <td>No</td>\n",
       "      <td>0.000</td>\n",
       "      <td>2</td>\n",
       "      <td>0</td>\n",
       "    </tr>\n",
       "    <tr>\n",
       "      <th>7041</th>\n",
       "      <td>Male</td>\n",
       "      <td>1</td>\n",
       "      <td>Yes</td>\n",
       "      <td>No</td>\n",
       "      <td>4.000</td>\n",
       "      <td>Yes</td>\n",
       "      <td>Yes</td>\n",
       "      <td>Fiber optic</td>\n",
       "      <td>No</td>\n",
       "      <td>No</td>\n",
       "      <td>No</td>\n",
       "      <td>No</td>\n",
       "      <td>No</td>\n",
       "      <td>No</td>\n",
       "      <td>Month-to-month</td>\n",
       "      <td>Yes</td>\n",
       "      <td>Mailed check</td>\n",
       "      <td>74.400</td>\n",
       "      <td>306.600</td>\n",
       "      <td>Yes</td>\n",
       "      <td>0.000</td>\n",
       "      <td>3</td>\n",
       "      <td>1</td>\n",
       "    </tr>\n",
       "    <tr>\n",
       "      <th>7042</th>\n",
       "      <td>Male</td>\n",
       "      <td>0</td>\n",
       "      <td>No</td>\n",
       "      <td>No</td>\n",
       "      <td>66.000</td>\n",
       "      <td>Yes</td>\n",
       "      <td>No</td>\n",
       "      <td>Fiber optic</td>\n",
       "      <td>Yes</td>\n",
       "      <td>No</td>\n",
       "      <td>Yes</td>\n",
       "      <td>Yes</td>\n",
       "      <td>Yes</td>\n",
       "      <td>Yes</td>\n",
       "      <td>Two year</td>\n",
       "      <td>Yes</td>\n",
       "      <td>Bank transfer (automatic)</td>\n",
       "      <td>105.650</td>\n",
       "      <td>6844.500</td>\n",
       "      <td>No</td>\n",
       "      <td>5.000</td>\n",
       "      <td>7</td>\n",
       "      <td>0</td>\n",
       "    </tr>\n",
       "  </tbody>\n",
       "</table>\n",
       "</div>"
      ],
      "text/plain": [
       "      gender  SeniorCitizen Partner Dependents  tenure PhoneService  \\\n",
       "7038    Male              0     Yes        Yes  24.000          Yes   \n",
       "7039  Female              0     Yes        Yes  72.000          Yes   \n",
       "7040  Female              0     Yes        Yes  11.000           No   \n",
       "7041    Male              1     Yes         No   4.000          Yes   \n",
       "7042    Male              0      No         No  66.000          Yes   \n",
       "\n",
       "     MultipleLines InternetService OnlineSecurity OnlineBackup  \\\n",
       "7038           Yes             DSL            Yes           No   \n",
       "7039           Yes     Fiber optic             No          Yes   \n",
       "7040            No             DSL            Yes           No   \n",
       "7041           Yes     Fiber optic             No           No   \n",
       "7042            No     Fiber optic            Yes           No   \n",
       "\n",
       "     DeviceProtection TechSupport StreamingTV StreamingMovies        Contract  \\\n",
       "7038              Yes         Yes         Yes             Yes        One year   \n",
       "7039              Yes          No         Yes             Yes        One year   \n",
       "7040               No          No          No              No  Month-to-month   \n",
       "7041               No          No          No              No  Month-to-month   \n",
       "7042              Yes         Yes         Yes             Yes        Two year   \n",
       "\n",
       "     PaperlessBilling              PaymentMethod  MonthlyCharges  \\\n",
       "7038              Yes               Mailed check          84.800   \n",
       "7039              Yes    Credit card (automatic)         103.200   \n",
       "7040              Yes           Electronic check          29.600   \n",
       "7041              Yes               Mailed check          74.400   \n",
       "7042              Yes  Bank transfer (automatic)         105.650   \n",
       "\n",
       "      TotalCharges Churn  TenureYears  TotalServices  ChurnBinary  \n",
       "7038      1990.500    No        2.000              8            0  \n",
       "7039      7362.900    No        6.000              7            0  \n",
       "7040       346.450    No        0.000              2            0  \n",
       "7041       306.600   Yes        0.000              3            1  \n",
       "7042      6844.500    No        5.000              7            0  "
      ]
     },
     "execution_count": 80,
     "metadata": {},
     "output_type": "execute_result"
    }
   ],
   "source": [
    "telco.tail()"
   ]
  },
  {
   "cell_type": "markdown",
   "id": "90dab076",
   "metadata": {},
   "source": [
    "## Final Validation\n"
   ]
  },
  {
   "cell_type": "code",
   "execution_count": 38,
   "id": "1f24c5ab",
   "metadata": {},
   "outputs": [
    {
     "name": "stdout",
     "output_type": "stream",
     "text": [
      "<class 'pandas.core.frame.DataFrame'>\n",
      "RangeIndex: 7043 entries, 0 to 7042\n",
      "Data columns (total 24 columns):\n",
      " #   Column            Non-Null Count  Dtype  \n",
      "---  ------            --------------  -----  \n",
      " 0   customerID        7043 non-null   object \n",
      " 1   gender            7043 non-null   object \n",
      " 2   SeniorCitizen     7043 non-null   int64  \n",
      " 3   Partner           7043 non-null   object \n",
      " 4   Dependents        7043 non-null   object \n",
      " 5   tenure            7043 non-null   float64\n",
      " 6   PhoneService      7043 non-null   object \n",
      " 7   MultipleLines     7043 non-null   object \n",
      " 8   InternetService   7043 non-null   object \n",
      " 9   OnlineSecurity    7043 non-null   object \n",
      " 10  OnlineBackup      7043 non-null   object \n",
      " 11  DeviceProtection  7043 non-null   object \n",
      " 12  TechSupport       7043 non-null   object \n",
      " 13  StreamingTV       7043 non-null   object \n",
      " 14  StreamingMovies   7043 non-null   object \n",
      " 15  Contract          7043 non-null   object \n",
      " 16  PaperlessBilling  7043 non-null   object \n",
      " 17  PaymentMethod     7043 non-null   object \n",
      " 18  MonthlyCharges    7043 non-null   float64\n",
      " 19  TotalCharges      7043 non-null   float64\n",
      " 20  Churn             7043 non-null   object \n",
      " 21  TenureYears       7043 non-null   float64\n",
      " 22  TotalServices     7043 non-null   int64  \n",
      " 23  ChurnBinary       7043 non-null   int64  \n",
      "dtypes: float64(4), int64(3), object(17)\n",
      "memory usage: 1.3+ MB\n"
     ]
    },
    {
     "data": {
      "application/vnd.microsoft.datawrangler.viewer.v0+json": {
       "columns": [
        {
         "name": "index",
         "rawType": "object",
         "type": "string"
        },
        {
         "name": "SeniorCitizen",
         "rawType": "float64",
         "type": "float"
        },
        {
         "name": "tenure",
         "rawType": "float64",
         "type": "float"
        },
        {
         "name": "MonthlyCharges",
         "rawType": "float64",
         "type": "float"
        },
        {
         "name": "TotalCharges",
         "rawType": "float64",
         "type": "float"
        },
        {
         "name": "TenureYears",
         "rawType": "float64",
         "type": "float"
        },
        {
         "name": "TotalServices",
         "rawType": "float64",
         "type": "float"
        },
        {
         "name": "ChurnBinary",
         "rawType": "float64",
         "type": "float"
        }
       ],
       "ref": "e2584143-a13e-4e61-a818-e4fc39edfdba",
       "rows": [
        [
         "count",
         "7043.0",
         "7043.0",
         "7043.0",
         "7043.0",
         "7043.0",
         "7043.0",
         "7043.0"
        ],
        [
         "mean",
         "0.1621468124378816",
         "32.37114865824223",
         "64.76169246059918",
         "2281.9169281556156",
         "2.285957688485021",
         "4.146244498083203",
         "0.2653698707936959"
        ],
        [
         "std",
         "0.3686116056100131",
         "24.55948102309446",
         "30.090047097678493",
         "2265.270398482188",
         "2.017253089660924",
         "2.3127202234607416",
         "0.441561305121947"
        ],
        [
         "min",
         "0.0",
         "0.0",
         "18.25",
         "18.8",
         "0.0",
         "1.0",
         "0.0"
        ],
        [
         "25%",
         "0.0",
         "9.0",
         "35.5",
         "402.225",
         "0.0",
         "2.0",
         "0.0"
        ],
        [
         "50%",
         "0.0",
         "29.0",
         "70.35",
         "1397.475",
         "2.0",
         "4.0",
         "0.0"
        ],
        [
         "75%",
         "0.0",
         "55.0",
         "89.85",
         "3786.6",
         "4.0",
         "6.0",
         "1.0"
        ],
        [
         "max",
         "1.0",
         "72.0",
         "118.75",
         "8684.8",
         "6.0",
         "9.0",
         "1.0"
        ]
       ],
       "shape": {
        "columns": 7,
        "rows": 8
       }
      },
      "text/html": [
       "<div>\n",
       "<style scoped>\n",
       "    .dataframe tbody tr th:only-of-type {\n",
       "        vertical-align: middle;\n",
       "    }\n",
       "\n",
       "    .dataframe tbody tr th {\n",
       "        vertical-align: top;\n",
       "    }\n",
       "\n",
       "    .dataframe thead th {\n",
       "        text-align: right;\n",
       "    }\n",
       "</style>\n",
       "<table border=\"1\" class=\"dataframe\">\n",
       "  <thead>\n",
       "    <tr style=\"text-align: right;\">\n",
       "      <th></th>\n",
       "      <th>SeniorCitizen</th>\n",
       "      <th>tenure</th>\n",
       "      <th>MonthlyCharges</th>\n",
       "      <th>TotalCharges</th>\n",
       "      <th>TenureYears</th>\n",
       "      <th>TotalServices</th>\n",
       "      <th>ChurnBinary</th>\n",
       "    </tr>\n",
       "  </thead>\n",
       "  <tbody>\n",
       "    <tr>\n",
       "      <th>count</th>\n",
       "      <td>7043.000</td>\n",
       "      <td>7043.000</td>\n",
       "      <td>7043.000</td>\n",
       "      <td>7043.000</td>\n",
       "      <td>7043.000</td>\n",
       "      <td>7043.000</td>\n",
       "      <td>7043.000</td>\n",
       "    </tr>\n",
       "    <tr>\n",
       "      <th>mean</th>\n",
       "      <td>0.162</td>\n",
       "      <td>32.371</td>\n",
       "      <td>64.762</td>\n",
       "      <td>2281.917</td>\n",
       "      <td>2.286</td>\n",
       "      <td>4.146</td>\n",
       "      <td>0.265</td>\n",
       "    </tr>\n",
       "    <tr>\n",
       "      <th>std</th>\n",
       "      <td>0.369</td>\n",
       "      <td>24.559</td>\n",
       "      <td>30.090</td>\n",
       "      <td>2265.270</td>\n",
       "      <td>2.017</td>\n",
       "      <td>2.313</td>\n",
       "      <td>0.442</td>\n",
       "    </tr>\n",
       "    <tr>\n",
       "      <th>min</th>\n",
       "      <td>0.000</td>\n",
       "      <td>0.000</td>\n",
       "      <td>18.250</td>\n",
       "      <td>18.800</td>\n",
       "      <td>0.000</td>\n",
       "      <td>1.000</td>\n",
       "      <td>0.000</td>\n",
       "    </tr>\n",
       "    <tr>\n",
       "      <th>25%</th>\n",
       "      <td>0.000</td>\n",
       "      <td>9.000</td>\n",
       "      <td>35.500</td>\n",
       "      <td>402.225</td>\n",
       "      <td>0.000</td>\n",
       "      <td>2.000</td>\n",
       "      <td>0.000</td>\n",
       "    </tr>\n",
       "    <tr>\n",
       "      <th>50%</th>\n",
       "      <td>0.000</td>\n",
       "      <td>29.000</td>\n",
       "      <td>70.350</td>\n",
       "      <td>1397.475</td>\n",
       "      <td>2.000</td>\n",
       "      <td>4.000</td>\n",
       "      <td>0.000</td>\n",
       "    </tr>\n",
       "    <tr>\n",
       "      <th>75%</th>\n",
       "      <td>0.000</td>\n",
       "      <td>55.000</td>\n",
       "      <td>89.850</td>\n",
       "      <td>3786.600</td>\n",
       "      <td>4.000</td>\n",
       "      <td>6.000</td>\n",
       "      <td>1.000</td>\n",
       "    </tr>\n",
       "    <tr>\n",
       "      <th>max</th>\n",
       "      <td>1.000</td>\n",
       "      <td>72.000</td>\n",
       "      <td>118.750</td>\n",
       "      <td>8684.800</td>\n",
       "      <td>6.000</td>\n",
       "      <td>9.000</td>\n",
       "      <td>1.000</td>\n",
       "    </tr>\n",
       "  </tbody>\n",
       "</table>\n",
       "</div>"
      ],
      "text/plain": [
       "       SeniorCitizen   tenure  MonthlyCharges  TotalCharges  TenureYears  \\\n",
       "count       7043.000 7043.000        7043.000      7043.000     7043.000   \n",
       "mean           0.162   32.371          64.762      2281.917        2.286   \n",
       "std            0.369   24.559          30.090      2265.270        2.017   \n",
       "min            0.000    0.000          18.250        18.800        0.000   \n",
       "25%            0.000    9.000          35.500       402.225        0.000   \n",
       "50%            0.000   29.000          70.350      1397.475        2.000   \n",
       "75%            0.000   55.000          89.850      3786.600        4.000   \n",
       "max            1.000   72.000         118.750      8684.800        6.000   \n",
       "\n",
       "       TotalServices  ChurnBinary  \n",
       "count       7043.000     7043.000  \n",
       "mean           4.146        0.265  \n",
       "std            2.313        0.442  \n",
       "min            1.000        0.000  \n",
       "25%            2.000        0.000  \n",
       "50%            4.000        0.000  \n",
       "75%            6.000        1.000  \n",
       "max            9.000        1.000  "
      ]
     },
     "execution_count": 38,
     "metadata": {},
     "output_type": "execute_result"
    }
   ],
   "source": [
    "telco.info()\n",
    "telco.isnull().sum()\n",
    "telco.describe()"
   ]
  },
  {
   "cell_type": "code",
   "execution_count": 39,
   "id": "e252f0f0",
   "metadata": {},
   "outputs": [],
   "source": [
    "# Drop unnecessary columns (e.g., customerID)\n",
    "telco = telco.drop('customerID', axis=1)"
   ]
  },
  {
   "cell_type": "code",
   "execution_count": 40,
   "id": "def2f7d8",
   "metadata": {},
   "outputs": [
    {
     "data": {
      "application/vnd.microsoft.datawrangler.viewer.v0+json": {
       "columns": [
        {
         "name": "index",
         "rawType": "int64",
         "type": "integer"
        },
        {
         "name": "gender",
         "rawType": "object",
         "type": "string"
        },
        {
         "name": "SeniorCitizen",
         "rawType": "int64",
         "type": "integer"
        },
        {
         "name": "Partner",
         "rawType": "object",
         "type": "string"
        },
        {
         "name": "Dependents",
         "rawType": "object",
         "type": "string"
        },
        {
         "name": "tenure",
         "rawType": "float64",
         "type": "float"
        },
        {
         "name": "PhoneService",
         "rawType": "object",
         "type": "string"
        },
        {
         "name": "MultipleLines",
         "rawType": "object",
         "type": "string"
        },
        {
         "name": "InternetService",
         "rawType": "object",
         "type": "string"
        },
        {
         "name": "OnlineSecurity",
         "rawType": "object",
         "type": "string"
        },
        {
         "name": "OnlineBackup",
         "rawType": "object",
         "type": "string"
        },
        {
         "name": "DeviceProtection",
         "rawType": "object",
         "type": "string"
        },
        {
         "name": "TechSupport",
         "rawType": "object",
         "type": "string"
        },
        {
         "name": "StreamingTV",
         "rawType": "object",
         "type": "string"
        },
        {
         "name": "StreamingMovies",
         "rawType": "object",
         "type": "string"
        },
        {
         "name": "Contract",
         "rawType": "object",
         "type": "string"
        },
        {
         "name": "PaperlessBilling",
         "rawType": "object",
         "type": "string"
        },
        {
         "name": "PaymentMethod",
         "rawType": "object",
         "type": "string"
        },
        {
         "name": "MonthlyCharges",
         "rawType": "float64",
         "type": "float"
        },
        {
         "name": "TotalCharges",
         "rawType": "float64",
         "type": "float"
        },
        {
         "name": "Churn",
         "rawType": "object",
         "type": "string"
        },
        {
         "name": "TenureYears",
         "rawType": "float64",
         "type": "float"
        },
        {
         "name": "TotalServices",
         "rawType": "int64",
         "type": "integer"
        },
        {
         "name": "ChurnBinary",
         "rawType": "int64",
         "type": "integer"
        }
       ],
       "ref": "bf1ccdd7-8be1-433a-a150-5e470a255ab0",
       "rows": [
        [
         "0",
         "Female",
         "0",
         "Yes",
         "No",
         "1.0",
         "No",
         "No",
         "DSL",
         "No",
         "Yes",
         "No",
         "No",
         "No",
         "No",
         "Month-to-month",
         "Yes",
         "Electronic check",
         "29.85",
         "29.85",
         "No",
         "0.0",
         "2",
         "0"
        ],
        [
         "1",
         "Male",
         "0",
         "No",
         "No",
         "34.0",
         "Yes",
         "No",
         "DSL",
         "Yes",
         "No",
         "Yes",
         "No",
         "No",
         "No",
         "One year",
         "No",
         "Mailed check",
         "56.95",
         "1889.5",
         "No",
         "2.0",
         "4",
         "0"
        ],
        [
         "2",
         "Male",
         "0",
         "No",
         "No",
         "2.0",
         "Yes",
         "No",
         "DSL",
         "Yes",
         "Yes",
         "No",
         "No",
         "No",
         "No",
         "Month-to-month",
         "Yes",
         "Mailed check",
         "53.85",
         "108.15",
         "Yes",
         "0.0",
         "4",
         "1"
        ],
        [
         "3",
         "Male",
         "0",
         "No",
         "No",
         "45.0",
         "No",
         "No",
         "DSL",
         "Yes",
         "No",
         "Yes",
         "Yes",
         "No",
         "No",
         "One year",
         "No",
         "Bank transfer (automatic)",
         "42.3",
         "1840.75",
         "No",
         "3.0",
         "4",
         "0"
        ],
        [
         "4",
         "Female",
         "0",
         "No",
         "No",
         "2.0",
         "Yes",
         "No",
         "Fiber optic",
         "No",
         "No",
         "No",
         "No",
         "No",
         "No",
         "Month-to-month",
         "Yes",
         "Electronic check",
         "70.7",
         "151.65",
         "Yes",
         "0.0",
         "2",
         "1"
        ]
       ],
       "shape": {
        "columns": 23,
        "rows": 5
       }
      },
      "text/html": [
       "<div>\n",
       "<style scoped>\n",
       "    .dataframe tbody tr th:only-of-type {\n",
       "        vertical-align: middle;\n",
       "    }\n",
       "\n",
       "    .dataframe tbody tr th {\n",
       "        vertical-align: top;\n",
       "    }\n",
       "\n",
       "    .dataframe thead th {\n",
       "        text-align: right;\n",
       "    }\n",
       "</style>\n",
       "<table border=\"1\" class=\"dataframe\">\n",
       "  <thead>\n",
       "    <tr style=\"text-align: right;\">\n",
       "      <th></th>\n",
       "      <th>gender</th>\n",
       "      <th>SeniorCitizen</th>\n",
       "      <th>Partner</th>\n",
       "      <th>Dependents</th>\n",
       "      <th>tenure</th>\n",
       "      <th>PhoneService</th>\n",
       "      <th>MultipleLines</th>\n",
       "      <th>InternetService</th>\n",
       "      <th>OnlineSecurity</th>\n",
       "      <th>OnlineBackup</th>\n",
       "      <th>DeviceProtection</th>\n",
       "      <th>TechSupport</th>\n",
       "      <th>StreamingTV</th>\n",
       "      <th>StreamingMovies</th>\n",
       "      <th>Contract</th>\n",
       "      <th>PaperlessBilling</th>\n",
       "      <th>PaymentMethod</th>\n",
       "      <th>MonthlyCharges</th>\n",
       "      <th>TotalCharges</th>\n",
       "      <th>Churn</th>\n",
       "      <th>TenureYears</th>\n",
       "      <th>TotalServices</th>\n",
       "      <th>ChurnBinary</th>\n",
       "    </tr>\n",
       "  </thead>\n",
       "  <tbody>\n",
       "    <tr>\n",
       "      <th>0</th>\n",
       "      <td>Female</td>\n",
       "      <td>0</td>\n",
       "      <td>Yes</td>\n",
       "      <td>No</td>\n",
       "      <td>1.000</td>\n",
       "      <td>No</td>\n",
       "      <td>No</td>\n",
       "      <td>DSL</td>\n",
       "      <td>No</td>\n",
       "      <td>Yes</td>\n",
       "      <td>No</td>\n",
       "      <td>No</td>\n",
       "      <td>No</td>\n",
       "      <td>No</td>\n",
       "      <td>Month-to-month</td>\n",
       "      <td>Yes</td>\n",
       "      <td>Electronic check</td>\n",
       "      <td>29.850</td>\n",
       "      <td>29.850</td>\n",
       "      <td>No</td>\n",
       "      <td>0.000</td>\n",
       "      <td>2</td>\n",
       "      <td>0</td>\n",
       "    </tr>\n",
       "    <tr>\n",
       "      <th>1</th>\n",
       "      <td>Male</td>\n",
       "      <td>0</td>\n",
       "      <td>No</td>\n",
       "      <td>No</td>\n",
       "      <td>34.000</td>\n",
       "      <td>Yes</td>\n",
       "      <td>No</td>\n",
       "      <td>DSL</td>\n",
       "      <td>Yes</td>\n",
       "      <td>No</td>\n",
       "      <td>Yes</td>\n",
       "      <td>No</td>\n",
       "      <td>No</td>\n",
       "      <td>No</td>\n",
       "      <td>One year</td>\n",
       "      <td>No</td>\n",
       "      <td>Mailed check</td>\n",
       "      <td>56.950</td>\n",
       "      <td>1889.500</td>\n",
       "      <td>No</td>\n",
       "      <td>2.000</td>\n",
       "      <td>4</td>\n",
       "      <td>0</td>\n",
       "    </tr>\n",
       "    <tr>\n",
       "      <th>2</th>\n",
       "      <td>Male</td>\n",
       "      <td>0</td>\n",
       "      <td>No</td>\n",
       "      <td>No</td>\n",
       "      <td>2.000</td>\n",
       "      <td>Yes</td>\n",
       "      <td>No</td>\n",
       "      <td>DSL</td>\n",
       "      <td>Yes</td>\n",
       "      <td>Yes</td>\n",
       "      <td>No</td>\n",
       "      <td>No</td>\n",
       "      <td>No</td>\n",
       "      <td>No</td>\n",
       "      <td>Month-to-month</td>\n",
       "      <td>Yes</td>\n",
       "      <td>Mailed check</td>\n",
       "      <td>53.850</td>\n",
       "      <td>108.150</td>\n",
       "      <td>Yes</td>\n",
       "      <td>0.000</td>\n",
       "      <td>4</td>\n",
       "      <td>1</td>\n",
       "    </tr>\n",
       "    <tr>\n",
       "      <th>3</th>\n",
       "      <td>Male</td>\n",
       "      <td>0</td>\n",
       "      <td>No</td>\n",
       "      <td>No</td>\n",
       "      <td>45.000</td>\n",
       "      <td>No</td>\n",
       "      <td>No</td>\n",
       "      <td>DSL</td>\n",
       "      <td>Yes</td>\n",
       "      <td>No</td>\n",
       "      <td>Yes</td>\n",
       "      <td>Yes</td>\n",
       "      <td>No</td>\n",
       "      <td>No</td>\n",
       "      <td>One year</td>\n",
       "      <td>No</td>\n",
       "      <td>Bank transfer (automatic)</td>\n",
       "      <td>42.300</td>\n",
       "      <td>1840.750</td>\n",
       "      <td>No</td>\n",
       "      <td>3.000</td>\n",
       "      <td>4</td>\n",
       "      <td>0</td>\n",
       "    </tr>\n",
       "    <tr>\n",
       "      <th>4</th>\n",
       "      <td>Female</td>\n",
       "      <td>0</td>\n",
       "      <td>No</td>\n",
       "      <td>No</td>\n",
       "      <td>2.000</td>\n",
       "      <td>Yes</td>\n",
       "      <td>No</td>\n",
       "      <td>Fiber optic</td>\n",
       "      <td>No</td>\n",
       "      <td>No</td>\n",
       "      <td>No</td>\n",
       "      <td>No</td>\n",
       "      <td>No</td>\n",
       "      <td>No</td>\n",
       "      <td>Month-to-month</td>\n",
       "      <td>Yes</td>\n",
       "      <td>Electronic check</td>\n",
       "      <td>70.700</td>\n",
       "      <td>151.650</td>\n",
       "      <td>Yes</td>\n",
       "      <td>0.000</td>\n",
       "      <td>2</td>\n",
       "      <td>1</td>\n",
       "    </tr>\n",
       "  </tbody>\n",
       "</table>\n",
       "</div>"
      ],
      "text/plain": [
       "   gender  SeniorCitizen Partner Dependents  tenure PhoneService  \\\n",
       "0  Female              0     Yes         No   1.000           No   \n",
       "1    Male              0      No         No  34.000          Yes   \n",
       "2    Male              0      No         No   2.000          Yes   \n",
       "3    Male              0      No         No  45.000           No   \n",
       "4  Female              0      No         No   2.000          Yes   \n",
       "\n",
       "  MultipleLines InternetService OnlineSecurity OnlineBackup DeviceProtection  \\\n",
       "0            No             DSL             No          Yes               No   \n",
       "1            No             DSL            Yes           No              Yes   \n",
       "2            No             DSL            Yes          Yes               No   \n",
       "3            No             DSL            Yes           No              Yes   \n",
       "4            No     Fiber optic             No           No               No   \n",
       "\n",
       "  TechSupport StreamingTV StreamingMovies        Contract PaperlessBilling  \\\n",
       "0          No          No              No  Month-to-month              Yes   \n",
       "1          No          No              No        One year               No   \n",
       "2          No          No              No  Month-to-month              Yes   \n",
       "3         Yes          No              No        One year               No   \n",
       "4          No          No              No  Month-to-month              Yes   \n",
       "\n",
       "               PaymentMethod  MonthlyCharges  TotalCharges Churn  TenureYears  \\\n",
       "0           Electronic check          29.850        29.850    No        0.000   \n",
       "1               Mailed check          56.950      1889.500    No        2.000   \n",
       "2               Mailed check          53.850       108.150   Yes        0.000   \n",
       "3  Bank transfer (automatic)          42.300      1840.750    No        3.000   \n",
       "4           Electronic check          70.700       151.650   Yes        0.000   \n",
       "\n",
       "   TotalServices  ChurnBinary  \n",
       "0              2            0  \n",
       "1              4            0  \n",
       "2              4            1  \n",
       "3              4            0  \n",
       "4              2            1  "
      ]
     },
     "execution_count": 40,
     "metadata": {},
     "output_type": "execute_result"
    }
   ],
   "source": [
    "telco.head()"
   ]
  },
  {
   "cell_type": "code",
   "execution_count": 41,
   "id": "2db5aacb",
   "metadata": {},
   "outputs": [],
   "source": [
    "telco.to_csv('../data/telco_customer_churn_cleaned.csv', index=False)"
   ]
  },
  {
   "cell_type": "code",
   "execution_count": 42,
   "id": "d787b4e0",
   "metadata": {},
   "outputs": [
    {
     "data": {
      "image/png": "[encoded data removed]",
      "text/plain": [
       "<Figure size 800x600 with 2 Axes>"
      ]
     },
     "metadata": {},
     "output_type": "display_data"
    }
   ],
   "source": [
    "plt.figure(figsize=(8,6))\n",
    "sns.heatmap(telco[num_cols + ['ChurnBinary']].corr(), annot=True, cmap='coolwarm')\n",
    "plt.title('Correlation Heatmap')\n",
    "plt.show()"
   ]
  },
  {
   "cell_type": "markdown",
   "id": "fc02a917",
   "metadata": {},
   "source": [
    "## Basic Aggregation for overall"
   ]
  },
  {
   "cell_type": "code",
   "execution_count": 43,
   "id": "8f125c3c",
   "metadata": {},
   "outputs": [
    {
     "data": {
      "text/plain": [
       "7043"
      ]
     },
     "execution_count": 43,
     "metadata": {},
     "output_type": "execute_result"
    }
   ],
   "source": [
    "# 2. Create SQLite connection\n",
    "engine = create_engine(\"sqlite:///telco.db\", echo=False)\n",
    "\n",
    "# 3. Write DataFrame to a new table named 'telco'\n",
    "telco.to_sql(\"telco\", con=engine, if_exists=\"replace\", index=False)"
   ]
  },
  {
   "cell_type": "code",
   "execution_count": 44,
   "id": "ff973c09",
   "metadata": {},
   "outputs": [
    {
     "name": "stdout",
     "output_type": "stream",
     "text": [
      " * sqlite:///telco.db\n",
      "Done.\n"
     ]
    },
    {
     "data": {
      "text/html": [
       "<table>\n",
       "    <thead>\n",
       "        <tr>\n",
       "            <th>TotalCustomers</th>\n",
       "            <th>ChurnedCustomers</th>\n",
       "            <th>ChurnRatePercent</th>\n",
       "        </tr>\n",
       "    </thead>\n",
       "    <tbody>\n",
       "        <tr>\n",
       "            <td>7043</td>\n",
       "            <td>1869</td>\n",
       "            <td>26.54</td>\n",
       "        </tr>\n",
       "    </tbody>\n",
       "</table>"
      ],
      "text/plain": [
       "[(7043, 1869, 26.54)]"
      ]
     },
     "execution_count": 44,
     "metadata": {},
     "output_type": "execute_result"
    }
   ],
   "source": [
    "%%sql\n",
    "-- Query 1: Total customers, churn count, and churn rate\n",
    "SELECT \n",
    "    COUNT(*) AS TotalCustomers,\n",
    "    SUM(CASE WHEN Churn = 'Yes' THEN 1 ELSE 0 END) AS ChurnedCustomers,\n",
    "    ROUND(100.0 * SUM(CASE WHEN Churn = 'Yes' THEN 1 ELSE 0 END) / COUNT(*), 2) AS ChurnRatePercent\n",
    "FROM telco;"
   ]
  },
  {
   "cell_type": "code",
   "execution_count": 45,
   "id": "59c0c092",
   "metadata": {},
   "outputs": [
    {
     "name": "stdout",
     "output_type": "stream",
     "text": [
      " * sqlite:///telco.db\n",
      "Done.\n",
      "Returning data to local variable result1\n"
     ]
    }
   ],
   "source": [
    "%%sql result1 <<\n",
    "-- Query 1: Total customers, churn count, and churn rate\n",
    "\n",
    "SELECT \n",
    "    COUNT(*) AS TotalCustomers,\n",
    "    SUM(CASE WHEN Churn = 'Yes' THEN 1 ELSE 0 END) AS ChurnedCustomers,\n",
    "    ROUND(100.0 * SUM(CASE WHEN Churn = 'Yes' THEN 1 ELSE 0 END) / COUNT(*), 2) AS ChurnRatePercent\n",
    "FROM telco;\n",
    "\n"
   ]
  },
  {
   "cell_type": "code",
   "execution_count": 46,
   "id": "5847f40d",
   "metadata": {},
   "outputs": [
    {
     "name": "stdout",
     "output_type": "stream",
     "text": [
      "   TotalCustomers  ChurnedCustomers  ChurnRatePercent\n",
      "0            7043              1869            26.540\n"
     ]
    }
   ],
   "source": [
    "overall_metrics = result1.DataFrame()\n",
    "print(overall_metrics)"
   ]
  },
  {
   "cell_type": "code",
   "execution_count": 47,
   "id": "61304268",
   "metadata": {},
   "outputs": [],
   "source": [
    "overall_metrics.to_csv('../data/overall_metrics.csv',index=False)"
   ]
  },
  {
   "cell_type": "code",
   "execution_count": 48,
   "id": "aeec663c",
   "metadata": {},
   "outputs": [
    {
     "data": {
      "text/html": [
       "<table>\n",
       "    <thead>\n",
       "        <tr>\n",
       "            <th>TotalCustomers</th>\n",
       "            <th>ChurnedCustomers</th>\n",
       "            <th>ChurnRatePercent</th>\n",
       "        </tr>\n",
       "    </thead>\n",
       "    <tbody>\n",
       "        <tr>\n",
       "            <td>7043</td>\n",
       "            <td>1869</td>\n",
       "            <td>26.54</td>\n",
       "        </tr>\n",
       "    </tbody>\n",
       "</table>"
      ],
      "text/plain": [
       "[(7043, 1869, 26.54)]"
      ]
     },
     "execution_count": 48,
     "metadata": {},
     "output_type": "execute_result"
    }
   ],
   "source": [
    "result1"
   ]
  },
  {
   "cell_type": "code",
   "execution_count": 49,
   "id": "0acb53ab",
   "metadata": {},
   "outputs": [
    {
     "name": "stdout",
     "output_type": "stream",
     "text": [
      " * sqlite:///telco.db\n",
      "Done.\n",
      "Returning data to local variable result2\n"
     ]
    }
   ],
   "source": [
    "%%sql result2 <<\n",
    "-- Query 2: Average tenure, monthly charges, and total charges\n",
    "SELECT \n",
    "    ROUND(AVG(tenure), 2) AS AvgTenureMonths,\n",
    "    ROUND(AVG(MonthlyCharges), 2) AS AvgMonthlyCharges,\n",
    "    ROUND(AVG(TotalCharges), 2) AS AvgTotalCharges\n",
    "FROM telco;\n",
    "\n"
   ]
  },
  {
   "cell_type": "code",
   "execution_count": 50,
   "id": "222bae24",
   "metadata": {},
   "outputs": [
    {
     "name": "stdout",
     "output_type": "stream",
     "text": [
      "   AvgTenureMonths  AvgMonthlyCharges  AvgTotalCharges\n",
      "0           32.370             64.760         2281.920\n"
     ]
    }
   ],
   "source": [
    "avg_metrics = result2.DataFrame()\n",
    "print(avg_metrics)"
   ]
  },
  {
   "cell_type": "code",
   "execution_count": 51,
   "id": "9aa99562",
   "metadata": {},
   "outputs": [],
   "source": [
    "avg_metrics.to_csv('../data/avg_metrics.csv',index=False)"
   ]
  },
  {
   "cell_type": "code",
   "execution_count": 52,
   "id": "1716050a",
   "metadata": {},
   "outputs": [
    {
     "name": "stdout",
     "output_type": "stream",
     "text": [
      "Pandas Churn Rate: 26.54%\n",
      "tenure             32.370\n",
      "MonthlyCharges     64.760\n",
      "TotalCharges     2281.920\n",
      "dtype: float64\n"
     ]
    }
   ],
   "source": [
    "# pandas validation\n",
    "pandas_churn_rate = round(100 * telco['ChurnBinary'].mean(), 2)\n",
    "print(f\"Pandas Churn Rate: {pandas_churn_rate}%\")\n",
    "pandas_averages = telco[['tenure', 'MonthlyCharges', 'TotalCharges']].mean().round(2)\n",
    "print(pandas_averages)"
   ]
  },
  {
   "cell_type": "markdown",
   "id": "47472269",
   "metadata": {},
   "source": [
    "#### Insights: ~7043 customers, ~1869 churned (~26.54% churn rate). Averages: ~32.37 months tenure, ~64.76 MonthlyCharges, ~2282.89 TotalCharges."
   ]
  },
  {
   "cell_type": "code",
   "execution_count": 53,
   "id": "8fa97ddc",
   "metadata": {},
   "outputs": [
    {
     "data": {
      "text/plain": [
       "<Figure size 800x400 with 0 Axes>"
      ]
     },
     "metadata": {},
     "output_type": "display_data"
    },
    {
     "data": {
      "image/png": "[encoded data removed]",
      "text/plain": [
       "<Figure size 640x480 with 1 Axes>"
      ]
     },
     "metadata": {},
     "output_type": "display_data"
    }
   ],
   "source": [
    "plt.figure(figsize=(8,4))\n",
    "overall_metrics[['TotalCustomers', 'ChurnedCustomers']].plot(kind='bar')\n",
    "plt.title('Overall Customer Churn')\n",
    "plt.ylabel('Count')\n",
    "plt.xticks(rotation=0)\n",
    "plt.show()"
   ]
  },
  {
   "cell_type": "markdown",
   "id": "b4350c9d",
   "metadata": {},
   "source": [
    "### Group aggregation by key categories(Identify churn drivers) with SQL"
   ]
  },
  {
   "cell_type": "code",
   "execution_count": 54,
   "id": "223a4c04",
   "metadata": {},
   "outputs": [
    {
     "name": "stdout",
     "output_type": "stream",
     "text": [
      " * sqlite:///telco.db\n",
      "Done.\n",
      "Returning data to local variable contract_churn\n"
     ]
    }
   ],
   "source": [
    "%%sql contract_churn <<\n",
    "-- Query 3: Churn rate by Contract type\n",
    "SELECT \n",
    "    Contract,\n",
    "    COUNT(*) AS Total,\n",
    "    SUM(CASE WHEN Churn = 'Yes' THEN 1 ELSE 0 END) AS Churned,\n",
    "    ROUND(100.0 * SUM(CASE WHEN Churn = 'Yes' THEN 1 ELSE 0 END) / COUNT(*), 2) AS ChurnRatePercent\n",
    "FROM telco\n",
    "GROUP BY Contract\n",
    "ORDER BY ChurnRatePercent DESC;"
   ]
  },
  {
   "cell_type": "code",
   "execution_count": 55,
   "id": "3a36cdc1",
   "metadata": {},
   "outputs": [
    {
     "name": "stdout",
     "output_type": "stream",
     "text": [
      "         Contract  Total  Churned  ChurnRatePercent\n",
      "0  Month-to-month   3875     1655            42.710\n",
      "1        One year   1473      166            11.270\n",
      "2        Two year   1695       48             2.830\n"
     ]
    }
   ],
   "source": [
    "contract_churn = contract_churn.DataFrame()\n",
    "print(contract_churn)"
   ]
  },
  {
   "cell_type": "code",
   "execution_count": 56,
   "id": "a68fba4f",
   "metadata": {},
   "outputs": [
    {
     "name": "stdout",
     "output_type": "stream",
     "text": [
      " * sqlite:///telco.db\n",
      "Done.\n",
      "Returning data to local variable payment_churn\n"
     ]
    }
   ],
   "source": [
    "%%sql payment_churn <<\n",
    "-- Query 4: Average charges and churn by PaymentMethod\n",
    "SELECT \n",
    "    PaymentMethod,\n",
    "    ROUND(AVG(MonthlyCharges), 2) AS AvgMonthlyCharges,\n",
    "    COUNT(*) AS Total,\n",
    "    SUM(CASE WHEN Churn = 'Yes' THEN 1 ELSE 0 END) AS Churned,\n",
    "    ROUND(100.0 * SUM(CASE WHEN Churn = 'Yes' THEN 1 ELSE 0 END) / COUNT(*), 2) AS ChurnRatePercent\n",
    "FROM telco\n",
    "GROUP BY PaymentMethod\n",
    "ORDER BY ChurnRatePercent DESC;"
   ]
  },
  {
   "cell_type": "code",
   "execution_count": 57,
   "id": "b827a3fc",
   "metadata": {},
   "outputs": [
    {
     "name": "stdout",
     "output_type": "stream",
     "text": [
      "               PaymentMethod  AvgMonthlyCharges  Total  Churned  \\\n",
      "0           Electronic check             76.260   2365     1071   \n",
      "1               Mailed check             43.920   1612      308   \n",
      "2  Bank transfer (automatic)             67.190   1544      258   \n",
      "3    Credit card (automatic)             66.510   1522      232   \n",
      "\n",
      "   ChurnRatePercent  \n",
      "0            45.290  \n",
      "1            19.110  \n",
      "2            16.710  \n",
      "3            15.240  \n"
     ]
    }
   ],
   "source": [
    "payment_churn = payment_churn.DataFrame()\n",
    "print(payment_churn)"
   ]
  },
  {
   "cell_type": "code",
   "execution_count": 58,
   "id": "cba236a3",
   "metadata": {},
   "outputs": [
    {
     "name": "stdout",
     "output_type": "stream",
     "text": [
      " * sqlite:///telco.db\n",
      "Done.\n",
      "Returning data to local variable demo_churn\n"
     ]
    }
   ],
   "source": [
    "%%sql demo_churn <<\n",
    "-- Query 5: Churn by SeniorCitizen and Dependents\n",
    "SELECT \n",
    "    SeniorCitizen,\n",
    "    Dependents,\n",
    "    COUNT(*) AS Total,\n",
    "    SUM(CASE WHEN Churn = 'Yes' THEN 1 ELSE 0 END) AS Churned,\n",
    "    ROUND(100.0 * SUM(CASE WHEN Churn = 'Yes' THEN 1 ELSE 0 END) / COUNT(*), 2) AS ChurnRatePercent\n",
    "FROM telco\n",
    "GROUP BY SeniorCitizen, Dependents\n",
    "ORDER BY ChurnRatePercent DESC;"
   ]
  },
  {
   "cell_type": "code",
   "execution_count": 59,
   "id": "60fae175",
   "metadata": {},
   "outputs": [
    {
     "name": "stdout",
     "output_type": "stream",
     "text": [
      "   SeniorCitizen Dependents  Total  Churned  ChurnRatePercent\n",
      "0              1         No   1051      454            43.200\n",
      "1              0         No   3882     1089            28.050\n",
      "2              1        Yes     91       22            24.180\n",
      "3              0        Yes   2019      304            15.060\n"
     ]
    }
   ],
   "source": [
    "demo_churn = demo_churn.DataFrame()\n",
    "print(demo_churn)"
   ]
  },
  {
   "cell_type": "markdown",
   "id": "f44ea044",
   "metadata": {},
   "source": [
    "### Pandas Validation"
   ]
  },
  {
   "cell_type": "code",
   "execution_count": 60,
   "id": "452a1e0f",
   "metadata": {},
   "outputs": [
    {
     "name": "stdout",
     "output_type": "stream",
     "text": [
      "                Total  Churned  ChurnRate  ChurnRatePercent\n",
      "Contract                                                   \n",
      "Month-to-month   3875     1655      0.427            42.710\n",
      "One year         1473      166      0.113            11.270\n",
      "Two year         1695       48      0.028             2.830\n"
     ]
    }
   ],
   "source": [
    "pandas_contract = telco.groupby('Contract')['ChurnBinary'].agg(['count', 'sum', 'mean']).rename(columns={'count': 'Total', 'sum': 'Churned', 'mean': 'ChurnRate'})\n",
    "pandas_contract['ChurnRatePercent'] = round(100 * pandas_contract['ChurnRate'], 2)\n",
    "print(pandas_contract)"
   ]
  },
  {
   "cell_type": "code",
   "execution_count": 61,
   "id": "f6a07a89",
   "metadata": {},
   "outputs": [
    {
     "data": {
      "text/plain": [
       "<Figure size 800x400 with 0 Axes>"
      ]
     },
     "metadata": {},
     "output_type": "display_data"
    },
    {
     "data": {
      "image/png": "[encoded data removed]",
      "text/plain": [
       "<Figure size 640x480 with 1 Axes>"
      ]
     },
     "metadata": {},
     "output_type": "display_data"
    }
   ],
   "source": [
    "plt.figure(figsize=(8,4))\n",
    "contract_churn.plot(kind='bar', x='Contract', y='ChurnRatePercent')\n",
    "plt.title('Churn Rate by Contract Type')\n",
    "plt.ylabel('Churn Rate (%)')\n",
    "plt.show()"
   ]
  },
  {
   "cell_type": "markdown",
   "id": "4d14ff2e",
   "metadata": {},
   "source": [
    "#### Insights: Month-to-month contracts: ~42.71% churn (vs. ~11.01% one-year,  ~2.83% two-year). Electronic check: ~45.29% churn. Seniors without dependents: ~49.31% churn."
   ]
  },
  {
   "cell_type": "markdown",
   "id": "78650458",
   "metadata": {},
   "source": [
    "### Aggregations by Services and Features (Analyze Behavioral Factors)"
   ]
  },
  {
   "cell_type": "code",
   "execution_count": 62,
   "id": "0cd5958a",
   "metadata": {},
   "outputs": [
    {
     "name": "stdout",
     "output_type": "stream",
     "text": [
      " * sqlite:///telco.db\n",
      "Done.\n",
      "Returning data to local variable internet_churn\n"
     ]
    }
   ],
   "source": [
    "%%sql internet_churn <<\n",
    "-- Query 6: Churn rate by InternetService\n",
    "SELECT \n",
    "    InternetService,\n",
    "    COUNT(*) AS Total,\n",
    "    SUM(CASE WHEN Churn = 'Yes' THEN 1 ELSE 0 END) AS Churned,\n",
    "    ROUND(100.0 * SUM(CASE WHEN Churn = 'Yes' THEN 1 ELSE 0 END) / COUNT(*), 2) AS ChurnRatePercent\n",
    "FROM telco\n",
    "GROUP BY InternetService\n",
    "ORDER BY ChurnRatePercent DESC;"
   ]
  },
  {
   "cell_type": "code",
   "execution_count": 63,
   "id": "e6131c2e",
   "metadata": {},
   "outputs": [
    {
     "name": "stdout",
     "output_type": "stream",
     "text": [
      "  InternetService  Total  Churned  ChurnRatePercent\n",
      "0     Fiber optic   3096     1297            41.890\n",
      "1             DSL   2421      459            18.960\n",
      "2              No   1526      113             7.400\n"
     ]
    }
   ],
   "source": [
    "internet_churn = internet_churn.DataFrame()\n",
    "print(internet_churn)   "
   ]
  },
  {
   "cell_type": "code",
   "execution_count": 64,
   "id": "b6869f36",
   "metadata": {},
   "outputs": [
    {
     "name": "stdout",
     "output_type": "stream",
     "text": [
      " * sqlite:///telco.db\n",
      "Done.\n",
      "Returning data to local variable service_churn\n"
     ]
    }
   ],
   "source": [
    "%%sql service_churn <<\n",
    "-- Query 7: Average tenure and churn by TotalServices\n",
    "SELECT \n",
    "    TotalServices,\n",
    "    ROUND(AVG(tenure), 2) AS AvgTenure,\n",
    "    COUNT(*) AS Total,\n",
    "    SUM(CASE WHEN Churn = 'Yes' THEN 1 ELSE 0 END) AS Churned,\n",
    "    ROUND(100.0 * SUM(CASE WHEN Churn = 'Yes' THEN 1 ELSE 0 END) / COUNT(*), 2) AS ChurnRatePercent\n",
    "FROM telco\n",
    "GROUP BY TotalServices\n",
    "ORDER BY TotalServices;"
   ]
  },
  {
   "cell_type": "code",
   "execution_count": 65,
   "id": "14e4ce20",
   "metadata": {},
   "outputs": [
    {
     "name": "stdout",
     "output_type": "stream",
     "text": [
      "   TotalServices  AvgTenure  Total  Churned  ChurnRatePercent\n",
      "0              1     24.770   1264      138            10.920\n",
      "1              2     24.490    859      266            30.970\n",
      "2              3     15.250    846      380            44.920\n",
      "3              4     24.490    965      352            36.480\n",
      "4              5     32.050    922      289            31.340\n",
      "5              6     41.450    908      232            25.550\n",
      "6              7     51.050    676      152            22.490\n",
      "7              8     59.760    395       49            12.410\n",
      "8              9     66.340    208       11             5.290\n"
     ]
    }
   ],
   "source": [
    "service_churn = service_churn.DataFrame()\n",
    "print(service_churn)"
   ]
  },
  {
   "cell_type": "code",
   "execution_count": 66,
   "id": "c133d27a",
   "metadata": {},
   "outputs": [
    {
     "name": "stdout",
     "output_type": "stream",
     "text": [
      " * sqlite:///telco.db\n",
      "Done.\n",
      "Returning data to local variable feature_churn\n"
     ]
    }
   ],
   "source": [
    "%%sql feature_churn <<\n",
    "-- Query 8: Churn by TechSupport and OnlineSecurity\n",
    "SELECT \n",
    "    TechSupport,\n",
    "    OnlineSecurity,\n",
    "    COUNT(*) AS Total,\n",
    "    SUM(CASE WHEN Churn = 'Yes' THEN 1 ELSE 0 END) AS Churned,\n",
    "    ROUND(100.0 * SUM(CASE WHEN Churn = 'Yes' THEN 1 ELSE 0 END) / COUNT(*), 2) AS ChurnRatePercent\n",
    "FROM telco\n",
    "GROUP BY TechSupport, OnlineSecurity\n",
    "ORDER BY ChurnRatePercent DESC;"
   ]
  },
  {
   "cell_type": "code",
   "execution_count": 67,
   "id": "4cf6c982",
   "metadata": {},
   "outputs": [
    {
     "name": "stdout",
     "output_type": "stream",
     "text": [
      "  TechSupport OnlineSecurity  Total  Churned  ChurnRatePercent\n",
      "0          No             No   4079     1363            33.420\n",
      "1         Yes             No    945      211            22.330\n",
      "2          No            Yes    920      196            21.300\n",
      "3         Yes            Yes   1099       99             9.010\n"
     ]
    }
   ],
   "source": [
    "feature_churn = feature_churn.DataFrame()\n",
    "print(feature_churn)"
   ]
  },
  {
   "cell_type": "markdown",
   "id": "8ce9808a",
   "metadata": {},
   "source": [
    "### Pandas Validation"
   ]
  },
  {
   "cell_type": "code",
   "execution_count": 68,
   "id": "d8c78d2e",
   "metadata": {},
   "outputs": [
    {
     "name": "stdout",
     "output_type": "stream",
     "text": [
      "InternetService\n",
      "DSL           18.960\n",
      "Fiber optic   41.890\n",
      "No             7.400\n",
      "Name: ChurnBinary, dtype: float64\n"
     ]
    }
   ],
   "source": [
    "pandas_internet = round(100 * telco.groupby('InternetService')['ChurnBinary'].mean(), 2)\n",
    "print(pandas_internet)"
   ]
  },
  {
   "cell_type": "markdown",
   "id": "c8d918d5",
   "metadata": {},
   "source": [
    "### Insights: Fiber optic: ~41.89% churn (vs. DSL: ~18.96%, No: ~7.40%). More services = lower churn (e.g., 8+ services: ~10%). No TechSupport + no OnlineSecurity: ~49.67% churn."
   ]
  },
  {
   "cell_type": "markdown",
   "id": "324b5a81",
   "metadata": {},
   "source": [
    "### Advanced Aggregation with Window Functions"
   ]
  },
  {
   "cell_type": "code",
   "execution_count": 69,
   "id": "77b9386d",
   "metadata": {},
   "outputs": [
    {
     "name": "stdout",
     "output_type": "stream",
     "text": [
      " * sqlite:///telco.db\n",
      "Done.\n",
      "Returning data to local variable ranked_payment\n"
     ]
    }
   ],
   "source": [
    "%%sql ranked_payment <<\n",
    "-- Query 9: Ranked churn rates by PaymentMethod\n",
    "SELECT \n",
    "    PaymentMethod,\n",
    "    ChurnRatePercent,\n",
    "    ROW_NUMBER() OVER (ORDER BY ChurnRatePercent DESC) AS Rank\n",
    "FROM (\n",
    "    SELECT \n",
    "        PaymentMethod,\n",
    "        ROUND(100.0 * SUM(CASE WHEN Churn = 'Yes' THEN 1 ELSE 0 END) / COUNT(*), 2) AS ChurnRatePercent\n",
    "    FROM telco\n",
    "    GROUP BY PaymentMethod\n",
    ") AS sub;"
   ]
  },
  {
   "cell_type": "code",
   "execution_count": 70,
   "id": "8d7d6698",
   "metadata": {},
   "outputs": [
    {
     "name": "stdout",
     "output_type": "stream",
     "text": [
      "               PaymentMethod  ChurnRatePercent  Rank\n",
      "0           Electronic check            45.290     1\n",
      "1               Mailed check            19.110     2\n",
      "2  Bank transfer (automatic)            16.710     3\n",
      "3    Credit card (automatic)            15.240     4\n"
     ]
    }
   ],
   "source": [
    "ranked_payment = ranked_payment.DataFrame()     \n",
    "print(ranked_payment)"
   ]
  },
  {
   "cell_type": "code",
   "execution_count": 71,
   "id": "0c3aa9ac",
   "metadata": {},
   "outputs": [
    {
     "name": "stdout",
     "output_type": "stream",
     "text": [
      " * sqlite:///telco.db\n",
      "Done.\n",
      "Returning data to local variable tenure_churn\n"
     ]
    }
   ],
   "source": [
    "%%sql tenure_churn <<\n",
    "-- Query 10: Churn by TenureYears\n",
    "SELECT \n",
    "    TenureYears,\n",
    "    COUNT(*) AS Total,\n",
    "    SUM(CASE WHEN Churn = 'Yes' THEN 1 ELSE 0 END) AS Churned,\n",
    "    ROUND(100.0 * SUM(CASE WHEN Churn = 'Yes' THEN 1 ELSE 0 END) / COUNT(*), 2) AS ChurnRatePercent\n",
    "FROM telco\n",
    "GROUP BY TenureYears\n",
    "ORDER BY TenureYears;"
   ]
  },
  {
   "cell_type": "code",
   "execution_count": 72,
   "id": "4bcd8ce3",
   "metadata": {},
   "outputs": [
    {
     "name": "stdout",
     "output_type": "stream",
     "text": [
      "   TenureYears  Total  Churned  ChurnRatePercent\n",
      "0        0.000   2069      999            48.280\n",
      "1        1.000   1047      309            29.510\n",
      "2        2.000    876      193            22.030\n",
      "3        3.000    748      146            19.520\n",
      "4        4.000    820      123            15.000\n",
      "5        5.000   1121       93             8.300\n",
      "6        6.000    362        6             1.660\n"
     ]
    }
   ],
   "source": [
    "tenure_churn = tenure_churn.DataFrame()\n",
    "print(tenure_churn)"
   ]
  },
  {
   "cell_type": "code",
   "execution_count": 73,
   "id": "70955270",
   "metadata": {},
   "outputs": [
    {
     "data": {
      "text/plain": [
       "<Figure size 800x400 with 0 Axes>"
      ]
     },
     "metadata": {},
     "output_type": "display_data"
    },
    {
     "data": {
      "image/png": "[encoded data removed]",
      "text/plain": [
       "<Figure size 640x480 with 1 Axes>"
      ]
     },
     "metadata": {},
     "output_type": "display_data"
    }
   ],
   "source": [
    "plt.figure(figsize=(8,4))\n",
    "tenure_churn.plot(kind='bar', x='TenureYears', y='ChurnRatePercent')\n",
    "plt.title('Churn Rate by Tenure Years')\n",
    "plt.ylabel('Churn Rate (%)')\n",
    "plt.show()"
   ]
  },
  {
   "cell_type": "markdown",
   "id": "8d5e81ee",
   "metadata": {},
   "source": [
    " ### Insights: Electronic check ranks #1 in churn (~45.29%). Churn drops with tenure (e.g., 0 years: ~60%, 6 years: ~5%)."
   ]
  },
  {
   "cell_type": "markdown",
   "id": "54448204",
   "metadata": {},
   "source": [
    "## Save all DataFrames to CSV"
   ]
  },
  {
   "cell_type": "code",
   "execution_count": 74,
   "id": "9ed887ec",
   "metadata": {},
   "outputs": [],
   "source": [
    "# Save all DataFrames to CSV\n",
    "contract_churn.to_csv('../data/contract_churn.csv', index=False)\n",
    "payment_churn.to_csv('../data/payment_churn.csv', index=False)\n",
    "demo_churn.to_csv('../data/demo_churn.csv', index=False)\n",
    "internet_churn.to_csv('../data/internet_churn.csv', index=False)\n",
    "service_churn.to_csv('../data/service_churn.csv', index=False)\n",
    "feature_churn.to_csv('../data/feature_churn.csv', index=False)\n",
    "ranked_payment.to_csv('../data/ranked_payment.csv', index=False)\n",
    "tenure_churn.to_csv('../data/tenure_churn.csv', index=False)"
   ]
  }
 ],
 "metadata": {
  "kernelspec": {
   "display_name": "Python 3",
   "language": "python",
   "name": "python3"
  },
  "language_info": {
   "codemirror_mode": {
    "name": "ipython",
    "version": 3
   },
   "file_extension": ".py",
   "mimetype": "text/x-python",
   "name": "python",
   "nbconvert_exporter": "python",
   "pygments_lexer": "ipython3",
   "version": "3.13.2"
  }
 },
 "nbformat": 4,
 "nbformat_minor": 5
}
